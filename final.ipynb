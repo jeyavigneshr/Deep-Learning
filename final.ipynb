{
  "nbformat": 4,
  "nbformat_minor": 0,
  "metadata": {
    "colab": {
      "name": "final.ipynb",
      "provenance": [],
      "collapsed_sections": [],
      "machine_shape": "hm",
      "include_colab_link": true
    },
    "kernelspec": {
      "name": "python3",
      "display_name": "Python 3"
    }
  },
  "cells": [
    {
      "cell_type": "markdown",
      "metadata": {
        "id": "view-in-github",
        "colab_type": "text"
      },
      "source": [
        "<a href=\"https://colab.research.google.com/github/jeyavigneshr/Deep-Learning/blob/master/final.ipynb\" target=\"_parent\"><img src=\"https://colab.research.google.com/assets/colab-badge.svg\" alt=\"Open In Colab\"/></a>"
      ]
    },
    {
      "cell_type": "markdown",
      "metadata": {
        "id": "BYQt0nUEbAgN"
      },
      "source": [
        "# Neural Machine Translation - Assignment 2\n",
        "\n",
        "In this task, you will develop a neural machine translation (NMT) system to translate text from one language into another. For this, you will need to choose the data to train the models, perform data processing and train a sequence2sequence neural model.\n"
      ]
    },
    {
      "cell_type": "markdown",
      "metadata": {
        "id": "d33hukl0w-Nh"
      },
      "source": [
        "## Section 1- Data Collection and Preprocessing \n",
        "\n",
        "\n",
        "---\n"
      ]
    },
    {
      "cell_type": "markdown",
      "metadata": {
        "id": "uAFJXKQaeN-d"
      },
      "source": [
        "**Task 1  (5 marks)**\n",
        "\n",
        "---\n",
        "\n",
        "There are few datasets to train an NMT system available from Tatoeba Project (http://www.manythings.org/anki/) or OPUS project (http://opus.nlpl.eu/).\n",
        "\n",
        "*  Download a language pair (preferably European language) and **extract** the file(s) and upload it to CoLab\n",
        "*  Create a list of lines by splitting the text file at every occurrence accordingly, i.e. source and target language and remove copyright information\n",
        "*  Print number of sentences\n",
        "*  Limit the number of sentences to 10,000 lines (but more than 5,000 lines)\n",
        "*  Split the data into train and test [You can split validation set here or while training use Keras validation_split option]\n",
        "*  Print 100th sentence in original script[ not unicode] for source and target language"
      ]
    },
    {
      "cell_type": "code",
      "metadata": {
        "id": "g5IpcJyJlG6n"
      },
      "source": [
        "!wget http://www.manythings.org/anki/deu-eng.zip"
      ],
      "execution_count": null,
      "outputs": []
    },
    {
      "cell_type": "code",
      "metadata": {
        "id": "dRz2HsLRtB2u"
      },
      "source": [
        "import numpy as np\n",
        "import os, sys , re , unicodedata\n",
        "import tensorflow as tf"
      ],
      "execution_count": null,
      "outputs": []
    },
    {
      "cell_type": "code",
      "metadata": {
        "id": "OIXkZVo8w44g"
      },
      "source": [
        "TOT_SENTENCES = 10000\n",
        "NUM_WORDS = 10000"
      ],
      "execution_count": null,
      "outputs": []
    },
    {
      "cell_type": "markdown",
      "metadata": {
        "id": "R7km4d7eqk4x"
      },
      "source": [
        ""
      ]
    },
    {
      "cell_type": "code",
      "metadata": {
        "id": "9U9BaH3ozUGf"
      },
      "source": [
        "source_sentences = []\n",
        "target_sentences = []\n",
        "output_sentences_inputs = []\n",
        "\n",
        "# print(len(lines))\n",
        "count = 0\n",
        "for line in lines:\n",
        "\n",
        "    if count > TOT_SENTENCES-1:\n",
        "        break\n",
        "\n",
        "    if '\\t' not in line:\n",
        "        continue\n",
        "\n",
        "    input_sentence, output , _ = line.rstrip().split('\\t')\n",
        "    if input_sentence in source_sentences:\n",
        "        continue\n",
        "    output_sentence = output + ' <eos>'\n",
        "    output_sentence_input = '<bof> ' + output\n",
        "\n",
        "    source_sentences.append(input_sentence)\n",
        "    target_sentences.append(output_sentence)\n",
        "    output_sentences_inputs.append(output_sentence_input)\n",
        "    count += 1\n"
      ],
      "execution_count": null,
      "outputs": []
    },
    {
      "cell_type": "code",
      "metadata": {
        "id": "7NkJaeq8zg5H",
        "colab": {
          "base_uri": "https://localhost:8080/",
          "height": 51
        },
        "outputId": "12587d10-84ad-4f89-d142-c2facc7e377d"
      },
      "source": [
        "print(len(source_sentences))\n",
        "print(source_sentences[100] , target_sentences[100])"
      ],
      "execution_count": null,
      "outputs": [
        {
          "output_type": "stream",
          "text": [
            "10000\n",
            "Pull it. Zieh dran. <eos>\n"
          ],
          "name": "stdout"
        }
      ]
    },
    {
      "cell_type": "markdown",
      "metadata": {
        "id": "x63IEWjUxkJj"
      },
      "source": [
        "**Task 2 (5 marks)** \n",
        "\n",
        "---\n",
        "\n",
        "* Add '<bof\\>' to denote beginning of sentence and '<eos\\>' to denote the end of the sentence to each target line.\n",
        "* Preprocess (word tokenisation, lowercasing) the text."
      ]
    },
    {
      "cell_type": "code",
      "metadata": {
        "id": "pmNr8gnzfCeS"
      },
      "source": [
        "#Source reference https://www.tensorflow.org/tutorials/text/nmt_with_attention\n",
        "def unicode_to_ascii(s):\n",
        "  s =  ''.join(c for c in unicodedata.normalize('NFD', s)\n",
        "      if unicodedata.category(c) != 'Mn')\n",
        "  s = re.sub(r\"[^a-zA-Z?¿<>']+\", \" \", s)\n",
        "  s = re.sub(r\"'\",'',s)\n",
        "  s = s.lower()\n",
        "  return s\n",
        "def preprocess(w):\n",
        "    w = unicode_to_ascii(w)\n",
        "    w = w.strip().rstrip()\n",
        "    w = re.sub(r\"([?.!,])\", r\"\", w)\n",
        "    w = re.sub(r'[\" \"]+', \" \", w)\n",
        "    return w"
      ],
      "execution_count": null,
      "outputs": []
    },
    {
      "cell_type": "code",
      "metadata": {
        "id": "q9UF5RMhvdUO"
      },
      "source": [
        "source_sentences = [preprocess(w) for w in source_sentences]\n",
        "target_sentences = [preprocess(w) for w in target_sentences]\n",
        "output_sentences_inputs =[preprocess(w) for w in output_sentences_inputs]"
      ],
      "execution_count": null,
      "outputs": []
    },
    {
      "cell_type": "code",
      "metadata": {
        "id": "fwYxrs6wwIA2",
        "colab": {
          "base_uri": "https://localhost:8080/",
          "height": 34
        },
        "outputId": "05542318-7065-425a-ae34-f0155bc05af0"
      },
      "source": [
        "print(source_sentences[0], target_sentences[0])"
      ],
      "execution_count": null,
      "outputs": [
        {
          "output_type": "stream",
          "text": [
            "go geh <eos>\n"
          ],
          "name": "stdout"
        }
      ]
    },
    {
      "cell_type": "code",
      "metadata": {
        "id": "1q6ZH7n0yq7u",
        "colab": {
          "base_uri": "https://localhost:8080/",
          "height": 34
        },
        "outputId": "0049c298-243e-4d1d-a9fa-57b3bf010bf9"
      },
      "source": [
        "print(preprocess(\"¿Qué? isn't él\"))"
      ],
      "execution_count": null,
      "outputs": [
        {
          "output_type": "stream",
          "text": [
            "¿que isnt el\n"
          ],
          "name": "stdout"
        }
      ]
    },
    {
      "cell_type": "code",
      "metadata": {
        "id": "uL_RYM5BwrKb"
      },
      "source": [
        "input_tokenizer = tf.keras.preprocessing.text.Tokenizer(num_words=NUM_WORDS)\n",
        "input_tokenizer.fit_on_texts(source_sentences)\n",
        "input_integer_seq = input_tokenizer.texts_to_sequences(source_sentences)\n",
        "\n",
        "Source_vocabulary = input_tokenizer.word_index\n",
        "num_source_tokens = len(Source_vocabulary)\n",
        "\n",
        "max_source_seq_length = max(len(sen) for sen in input_integer_seq)"
      ],
      "execution_count": null,
      "outputs": []
    },
    {
      "cell_type": "code",
      "metadata": {
        "id": "pgpen9VxxWNk"
      },
      "source": [
        "output_tokenizer = tf.keras.preprocessing.text.Tokenizer(num_words=NUM_WORDS, filters='')\n",
        "output_tokenizer.fit_on_texts(target_sentences + output_sentences_inputs)\n",
        "output_integer_seq = output_tokenizer.texts_to_sequences(target_sentences)\n",
        "output_input_integer_seq = output_tokenizer.texts_to_sequences(output_sentences_inputs)\n",
        "\n",
        "target_vocabulary = output_tokenizer.word_index\n",
        "num_target_tokens = len(target_vocabulary)\n",
        "\n",
        "num_words_output = len(target_vocabulary) + 1\n",
        "max_target_seq_length = max(len(sen) for sen in output_integer_seq)"
      ],
      "execution_count": null,
      "outputs": []
    },
    {
      "cell_type": "code",
      "metadata": {
        "id": "mZtOt2Ph2yMN"
      },
      "source": [
        "encoder_input_sequences = tf.keras.preprocessing.sequence.pad_sequences(input_integer_seq, maxlen=max_source_seq_length)\n",
        "decoder_input_sequences = tf.keras.preprocessing.sequence.pad_sequences(output_input_integer_seq, maxlen=max_target_seq_length, padding='post')\n",
        "decoder_output_sequences = tf.keras.preprocessing.sequence.pad_sequences(output_integer_seq, maxlen=max_target_seq_length, padding='post')"
      ],
      "execution_count": null,
      "outputs": []
    },
    {
      "cell_type": "code",
      "metadata": {
        "id": "x4-mCmoMxAd0",
        "colab": {
          "base_uri": "https://localhost:8080/",
          "height": 156
        },
        "outputId": "d85dec7c-321d-4986-82cf-ccf35e372424"
      },
      "source": [
        "print('Number of samples:', len(eng_sentences))\n",
        "print('Number of unique source language tokens:', num_source_tokens)\n",
        "print('Number of unique target language tokens:', num_target_tokens)\n",
        "print('Max sequence length of source language:', max_source_seq_length)\n",
        "print('Max sequence length of target language:', max_target_seq_length)\n",
        "print(\"Source Vocabulary\",list(Source_vocabulary.keys()))\n",
        "print(\"Target Vocabulary\",list(target_vocabulary.keys()))"
      ],
      "execution_count": null,
      "outputs": [
        {
          "output_type": "stream",
          "text": [
            "Number of samples: 10000\n",
            "Number of unique source language tokens: 2837\n",
            "Number of unique target language tokens: 3748\n",
            "Max sequence length of source language: 5\n",
            "Max sequence length of target language: 10\n",
            "Source Vocabulary ['tom', 'i', 'is', 'it', 'a', 'im', 'you', 'was', 'me', 'we', 'he', 'its', 'this', 'that', 'to', 'the', 'my', 'do', 'are', 'go', 'ill', 'can', 'toms', 'were', 'she', 'dont', 'they', 'not', 'like', 'have', 'here', 'be', 'thats', 'come', 'up', 'in', 'love', 'him', 'get', 'well', 'isnt', 'did', 'want', 'youre', 'need', 'has', 'no', 'on', 'am', 'know', 'home', 'who', 'got', 'how', 'too', 'hes', 'now', 'will', 'cant', 'us', 'your', 'there', 'see', 'saw', 'theyre', 'help', 'one', 'stop', 'lets', 'let', 'look', 'out', 'take', 'just', 'may', 'what', 'very', 'busy', 'good', 'all', 'at', 'keep', 'try', 'hate', 'back', 'car', 'so', 'mary', 'looks', 'down', 'please', 'her', 'for', 'had', 'work', 'wait', 'ok', 'happy', 'didnt', 'eat', 'alone', 'wasnt', 'give', 'lost', 'ive', 'must', 'wont', 'made', 'never', 'stay', 'seems', 'why', 'came', 'them', 'likes', 'whos', 'an', 'again', 'dog', 'book', 'leave', 'over', 'cold', 'lot', 'money', 'hurt', 'with', 'went', 'fine', 'feel', 'said', 'sing', 'read', 'felt', 'sick', 'away', 'new', 'late', 'ready', 'loves', 'ask', 'call', 'win', 'right', 'found', 'nice', 'bad', 'off', 'fun', 'hot', 'fast', 'talk', 'time', 'great', 'swim', 'say', 'looked', 'knew', 'cry', 'knows', 'old', 'ate', 'by', 'mine', 'job', 'big', 'shes', 'these', 'died', 'hard', 'miss', 'drunk', 'tired', 'life', 'more', 'run', 'tell', 'left', 'watch', 'die', 'walk', 'quiet', 'called', 'his', 'going', 'boy', 'won', 'sad', 'rich', 'safe', 'sit', 'angry', 'easy', 'tomll', 'young', 'needs', 'cat', 'shy', 'man', 'find', 'nobody', 'mad', 'show', 'drive', 'hope', 'took', 'coming', 'stupid', 'fish', 'and', 'cool', 'trust', 'dead', 'id', 'cook', 'crazy', 'wrong', 'hungry', 'nothing', 'kept', 'hurry', 'way', 'hold', 'open', 'free', 'mean', 'hurts', 'broke', 'early', 'upset', 'move', 'shot', 'start', 'whats', 'drink', 'told', 'play', 'wants', 'day', 'today', 'ran', 'fair', 'hit', 'still', 'use', 'pay', 'sure', 'works', 'met', 'lying', 'of', 'tall', 'lie', 'inside', 'gave', 'first', 'done', 'loved', 'turn', 'married', 'make', 'does', 'lied', 'fat', 'speak', 'tv', 'yes', 'study', 'bit', 'hat', 'cats', 'school', 'beer', 'only', 'should', 'might', 'everyone', 'needed', 'quit', 'helped', 'tried', 'heres', 'bored', 'true', 'stood', 'walked', 'careful', 'bring', 'think', 'scared', 'asleep', 'crying', 'lucky', 'joke', 'youll', 'coffee', 'plan', 'agree', 'cried', 'smiled', 'weak', 'live', 'dying', 'yours', 'put', 'serious', 'wine', 'sat', 'better', 'close', 'gone', 'break', 'nervous', 'outside', 'correct', 'doing', 'dream', 'sweet', 'theyll', 'about', 'boston', 'seemed', 'fell', 'stayed', 'some', 'follow', 'bed', 'lazy', 'awake', 'sorry', 'listen', 'check', 'hear', 'tea', 'itll', 'bus', 'buy', 'where', 'count', 'sleep', 'dance', 'could', 'enjoy', 'working', 'reading', 'french', 'everybody', 'change', 'arent', 'paid', 'kind', 'wet', 'fix', 'stand', 'calm', 'dogs', 'forget', 'changed', 'cheated', 'blind', 'tough', 'fired', 'men', 'hows', 'remember', 'afraid', 'bet', 'alive', 'hated', 'food', 'jealous', 'theres', 'lose', 'funny', 'wheres', 'hand', 'those', 'key', 'wife', 'son', 'trusted', 'wanted', 'hello', 'perfect', 'cute', 'hired', 'poor', 'drank', 'hero', 'lonely', 'mind', 'thatll', 'yourself', 'dad', 'strong', 'bag', 'asked', 'cut', 'milk', 'liked', 'kids', 'naive', 'talking', 'talks', 'best', 'hates', 'almost', 'water', 'music', 'our', 'small', 'door', 'red', 'much', 'shoot', 'sang', 'really', 'thanks', 'kiss', 'wake', 'ugly', 'helps', 'soon', 'weird', 'laughed', 'obey', 'worked', 'ours', 'smart', 'boring', 'rice', 'smell', 'missed', 'anybody', 'bought', 'eyes', 'thirsty', 'monday', 'simple', 'wise', 'hugged', 'stopped', 'ashamed', 'black', 'running', 'singing', 'short', 'things', 'guilty', 'joking', 'seen', 'rest', 'sells', 'mom', 'room', 'caught', 'arrived', 'two', 'fire', 'begin', 'join', 'shut', 'brave', 'real', 'okay', 'thin', 'touch', 'fly', 'woke', 'dark', 'care', 'moved', 'slept', 'weve', 'wholl', 'patient', 'duty', 'slowly', 'night', 'cruel', 'heard', 'rude', 'famous', 'sleepy', 'thirty', 'clean', 'white', 'kidding', 'once', 'war', 'owe', 'fight', 'curious', 'strange', 'blame', 'dizzy', 'often', 'eggs', 'dieting', 'unlucky', 'useless', 'winning', 'broken', 'lunch', 'loud', 'yet', 'upstairs', 'girls', 'doctor', 'father', 'ears', 'divorced', 'sleeping', 'happen', 'smoking', 'boat', 'dinner', 'someone', 'boss', 'enough', 'family', 'trusts', 'would', 'youd', 'confused', 'killed', 'relax', 'hug', 'long', 'nodded', 'waited', 'bald', 'next', 'lies', 'warn', 'write', 'answer', 'birds', 'ignore', 'far', 'sign', 'step', 'talked', 'around', 'moving', 'god', 'girl', 'biased', 'eating', 'decide', 'youve', 'laugh', 'liar', 'fruit', 'blue', 'manage', 'humming', 'pain', 'leaving', 'unusual', 'wounded', 'secret', 'trying', 'shall', 'kissed', 'nuts', 'quickly', 'gun', 'succeeded', 'hey', 'map', 'books', 'pizza', 'women', 'fool', 'learn', 'friend', 'lawyer', 'finished', 'innocent', 'walking', 'pass', 'followed', 'meant', 'later', 'wins', 'english', 'pale', 'japanese', 'horse', 'house', 'worried', 'helping', 'been', 'fault', 'unfair', 'ones', 'became', 'doesnt', 'lives', 'guys', 'word', 'idea', 'turned', 'smiling', 'sounds', 'hi', 'smile', 'awesome', 'beat', 'hang', 'runs', 'welcome', 'spoke', 'full', 'tidy', 'terrific', 'ski', 'stuck', 'burned', 'jump', 'walks', 'thank', 'drove', 'failed', 'along', 'promised', 'survived', 'hiding', 'losing', 'vote', 'problem', 'pick', 'fit', 'dressed', 'snow', 'face', 'saved', 'scream', 'certain', 'dancing', 'healthy', 'injured', 'popular', 'relaxed', 'retired', 'wealthy', 'smoke', 'send', 'escaped', 'last', 'invited', 'dumped', 'horrible', 'always', 'naked', 'proof', 'cab', 'canadian', 'genius', 'diabetic', 'fighting', 'saint', 'positive', 'speaking', 'standing', 'studying', 'watching', 'driving', 'feet', 'yelling', 'insane', 'dreaming', 'any', 'tomorrow', 'kill', 'cars', 'smells', 'after', 'forgave', 'own', 'quite', 'rescued', 'mouse', 'teacher', 'order', 'nobodys', 'throw', 'abroad', 'honest', 'warned', 'adopted', 'amazing', 'annoyed', 'engaged', 'rules', 'friends', 'seem', 'also', 'end', 'already', 'believed', 'betrayed', 'bike', 'table', 'continue', 'stabbed', 'lock', 'pull', 'push', 'wash', 'grab', 'tries', 'jumped', 'dj', 'deaf', 'save', 'catch', 'hands', 'fainted', 'obese', 'picky', 'snowed', 'warm', 'times', 'dozed', 'voted', 'forgot', 'anyone', 'clever', 'built', 'canceled', 'meat', 'pity', 'resigned', 'greedy', 'ruined', 'pray', 'oh', 'sharp', 'cheat', 'thisll', 'fought', 'luck', 'sec', 'boys', 'even', 'creative', 'prepared', 'closer', 'as', 'seat', 'guts', 'age', 'wasted', 'bread', 'dumb', 'cash', 'cake', 'overslept', 'gas', 'fasting', 'selfish', 'shocked', 'staying', 'stunned', 'trapped', 'unarmed', 'unhappy', 'happened', 'rain', 'fake', 'list', 'wish', 'card', 'thief', 'gets', 'sent', 'tipsy', 'meet', 'armed', 'fall', 'teach', 'denied', 'admire', 'baffled', 'myself', 'pen', 'candy', 'paint', 'seldom', 'smelled', 'fail', 'wrote', 'explain', 'sue', 'singer', 'homeless', 'angel', 'reliable', 'cancer', 'salt', 'empty', 'immoral', 'snowing', 'writing', 'lifes', 'guess', 'quietly', 'spy', 'scary', 'silly', 'silent', 'paying', 'woman', 'expert', 'something', 'ignored', 'comes', 'beautiful', 'deserved', 'hide', 'people', 'skiing', 'respect', 'blood', 'minute', 'laughing', 'thatd', 'risk', 'cup', 'adores', 'plans', 'anxious', 'cooking', 'missing', 'six', 'robbed', 'succeed', 'survive', 'special', 'truth', 'ball', 'powerful', 'song', 'apple', 'parties', 'radio', 'news', 'excited', 'sings', 'present', 'whatll', 'from', 'couldnt', 'attack', 'goodbye', 'ahead', 'deep', 'taste', 'swam', 'fear', 'giggled', 'sober', 'stinks', 'loosen', 'tight', 'swims', 'agreed', 'wonderful', 'aboard', 'carry', 'quick', 'examine', 'forgive', 'human', 'envy', 'panicked', 'amused', 'chubby', 'sneaky', 'eaten', 'green', 'cd', 'town', 'dances', 'drinks', 'odd', 'phoned', 'glad', 'discreet', 'ruthless', 'worry', 'started', 'twin', 'dozing', 'both', 'math', 'nurse', 'vegan', 'chicken', 'finicky', 'resting', 'law', 'spring', 'many', 'grow', 'return', 'blushed', 'cheered', 'evil', 'slow', 'older', 'pushy', 'anything', 'boil', 'egg', 'ten', 'anyway', 'drop', 'avoids', 'poet', 'cranky', 'heroic', 'kicked', 'praying', 'apples', 'draw', 'deserve', 'doubts', 'sushi', 'sugar', 'jokes', 'sell', 'teased', 'thought', 'understand', 'stoned', 'bleeding', 'bluffing', 'drowning', 'escaping', 'freezing', 'grateful', 'managing', 'shooting', 'starving', 'stubborn', 'scares', 'focused', 'looking', 'lead', 'closely', 'arm', 'set', 'shame', 'fox', 'gold', 'answered', 'approved', 'moody', 'witty', 'vanished', 'strict', 'apologize', 'loser', 'passed', 'dirty', 'rush', 'bird', 'flowers', 'downstairs', 'eats', 'type', 'tricked', 'annoying', 'autistic', 'tokyo', 'american', 'coughing', 'sneezing', 'believe', 'exaggerated', 'fed', 'freaked', 'led', 'tennis', 'trains', 'supper', 'sold', 'support', 'visited', 'volunteered', 'furious', 'tempted', 'allow', 'prove', 'student', 'important', 'impressed', 'danger', 'surprised', 'returned', 'nearby', 'trap', 'relief', 'possible', 'proceed', 'head', 'gate', 'stalling', 'suits', 'peace', 'suit', 'tastes', 'doll', 'absent', 'normal', 'skinny', 'unkind', 'opened', 'violent', 'second', 'snoring', 'cousins', 'doctors', 'says', 'polite', 'pretty', 'lay', 'cows', 'escape', 'deny', 'everything', 'fishing', 'flies', 'towel', 'park', 'disappeared', 'sons', 'beard', 'point', 'writer', 'wide', 'gifts', 'began', 'tomatoes', 'enjoyed', 'fever', 'sisters', 'travel', 'prefer', 'raise', 'somebody', 'homesick', 'glasses', 'handle', 'guy', 'getting', 'trouble', 'rather', 'their', 'large', 'name', 'bill', 'cooks', 'plays', 'foolish', 'train', 'chose', 'waiting', 'neat', 'understood', 'wore', 'swimming', 'brothers', 'helpless', 'whod', 'everyones', 'stared', 'cheating', 'every', 'relieved', 'terrible', 'cheap', 'sounded', 'mouth', 'snore', 'brief', 'humor', 'refuse', 'shaved', 'yawned', 'game', 'wept', 'aim', 'bless', 'awful', 'clapped', 'hung', 'promise', 'needy', 'sand', 'course', 'then', 'waved', 'unlock', 'cares', 'idiot', 'stink', 'dig', 'faster', 'burns', 'd', 'gum', 'disagree', 'art', 'listened', 'air', 'ice', 'threw', 'monk', 'baking', 'humble', 'rested', 'single', 'clear', 'windy', 'jesus', 'cheese', 'aside', 'nap', 'cover', 'burped', 'danced', 'drives', 'prayed', 'winked', 'yelled', 'harder', 'bother', 'wood', 'merciful', 'sensible', 'tolerant', 'panic', 'finish', 'eight', 'relented', 'squinted', 'jerk', 'exercised', 'bugs', 'mice', 'hesitated', 'jazz', 'beef', 'rock', 'lips', 'recovered', 'ufo', 'attend', 'baker', 'child', 'medic', 'sincere', 'starved', 'stuffed', 'through', 'touched', 'foggy', 'legal', 'rule', 'urgent', 'memorize', 'means', 'plants', 'clap', 'release', 'bite', 'slower', 'hers', 'coughed', 'vain', 'listens', 'refused', 'shouted', 'sweated', 'share', 'bore', 'team', 'abandon', 'ship', 'cops', 'attentive', 'forward', 'deal', 'ghosts', 'half', 'donut', 'driven', 'arrogant', 'barbaric', 'exciting', 'pathetic', 'romantic', 'apologized', 'lip', 'beans', 'liars', 'improvised', 'games', 'piano', 'lion', 'shaken', 'wonder', 'coward', 'hunter', 'mother', 'addicted', 'anorexic', 'artistic', 'expected', 'grounded', 'gullible', 'hungover', 'offended', 'pregnant', 'restless', 'thorough', 'ticklish', 'checked', 'deer', 'curse', 'steal', 'raining', 'goes', 'pigs', 'jaw', 'shrieked', 'louder', 'softly', 'whining', 'dreams', 'coat', 'approve', 'flinched', 'frank', 'heavy', 'ex', 'stoic', 'vague', 'filthy', 'starve', 'closed', 'doomed', 'scare', 'grown', 'add', 'mistaken', 'else', 'fan', 'security', 'skate', 'faint', 'favor', 'respond', 'feed', 'clock', 'kite', 'grows', 'braces', 'skating', 'grouch', 'friendly', 'or', 'nose', 'admired', 'muslim', 'paris', 'belong', 'blacked', 'caused', 'contributed', 'cough', 'dislike', 'chess', 'clue', 'winter', 'orders', 'kid', 'garlic', 'horses', 'movies', 'sports', 'sweets', 'autumn', 'nature', 'pandas', 'fist', 'resist', 'nearly', 'loan', 'bullied', 'watched', 'page', 'painter', 'redhead', 'soldier', 'suspect', 'addict', 'artist', 'concerned', 'convinced', 'dangerous', 'depressed', 'different', 'listening', 'diet', 'skeptical', 'uninsured', 'llama', 'wig', 'flat', 'worse', 'takes', 'gift', 'p', 'm', 'saturday', 'hopeless', 'treat', 'occupied', 'unlikely', 'moment', 'enter', 'foot', 'knee', 'dice', 'livid', 'together', 'stir', 'soup', 'sweep', 'shower', 'differ', 'fact', 'brown', 'japan', 'applauded', 'confessed', 'disagreed', 'baby', 'crafty', 'wicked', 'remembers', 'rushed', 'texted', 'weary', 'zoomed', 'elderly', 'limping', 'packing', 'floor', 'focus', 'enemies', 'lawyers', 'sinking', 'nonsense', 'which', 'whose', 'mail', 'modest', 'act', 'aint', 'engine', 'death', 'dinners', 'tigers', 'lines', 'year', 'accelerated', 'dislikes', 'actor', 'delicate', 'uncle', 'outgoing', 'stern', 'owes', 'high', 'banana', 'church', 'stroke', 'jeans', 'spiders', 'spinach', 'hunch', 'hurried', 'guessed', 'cookies', 'hunt', 'animals', 'bananas', 'city', 'puzzles', 'sea', 'justice', 'captured', 'sweating', 'aunt', 'behind', 'undressing', 'remarried', 'worth', 'bear', 'makes', 'christmas', 'insult', 'risky', 'tag', 'maybe', 'idiots', 'desk', 'hair', 'ache', 'prices', 'science', 'ditched', 'fooled', 'awkward', 'summer', 'magic', 'crime', 'illegal', 'logical', 'rose', 'roof', 'snag', 'backed', 'complained', 'hole', 'mugged', 'grew', 'ford', 'intervened', 'amusing', 'devious', 'devoted', 'dubious', 'enraged', 'frantic', 'helpful', 'hurting', 'naughty', 'panting', 'pleased', 'psychic', 'puzzled', 'sobbing', 'spoiled', 'noise', 'pinched', 'remembered', 'twice', 'slapped', 'risks', 'charming', 'cheerful', 'fearless', 'grieving', 'grinning', 'harmless', 'stranded', 'unstable', 'shook', 'surrendered', 'wed', 'decisive', 'famished', 'students', 'quitting', 'wind', 'ghost', 'content', 'afford', 'crows', 'tie', 'harm', 'interrupt', 'rub', 'carefully', 'acts', 'soccer', 'outraged', 'writes', 'lit', 'adventurous', 'orange', 'same', 'children', 'homework', 'shopping', 'weddings', 'sister', 'dry', 'keys', 'havent', 'area', 'baseball', 'party', 'played', 'guitar', 'relied', 'taxi', 'guest', 'niece', 'rival', 'able', 'arguing', 'texting', 'tied', 'handsome', 'necessary', 'sky', 'shoes', 'childish', 'doubtful', 'knife', 'acted', 'baked', 'believes', 'company', 'inspired', 'bossy', 'fussy', 'leaned', 'lived', 'dazed', 'tense', 'reads', 'wow', 'cheers', 'freeze', 'hop', 'cheer', 'cuff', 'resign', 'marry', 'seated', 'chill', 'bark', 'excuse', 'fantastic', 'goodnight', 'sexy', 'cured', 'aah', 'below', 'seize', 'seriously', 'bowed', 'froze', 'knits', 'rocks', 'swore', 'higher', 'bottoms', 'choose', 'definitely', 'destroy', 'brag', 'peek', 'yell', 'calls', 'fill', 'exists', 'faith', 'swiss', 'absurd', 'lovely', 'tragic', 'admit', 'chew', 'fixed', 'anemic', 'buying', 'immune', 'mature', 'twelve', 'happens', 'matters', 'fad', 'bulky', 'shiny', 'lasts', 'mama', 'comment', 'replace', 'scoot', 'shadow', 'agrees', 'cheats', 'gasped', 'goofed', 'moaned', 'obeyed', 'paints', 'paused', 'sighed', 'smoked', 'smokes', 'snores', 'cds', 'gives', 'specific', 'vigilant', 'watchful', 'beers', 'comfort', 'contact', 'stare', 'flip', 'coin', 'loaded', 'online', 'taller', 'assume', 'class', 'glue', 'oppose', 'surrender', 'cancel', 'klutz', 'loner', 'debt', 'jail', 'tasty', 'yen', 'cloudy', 'futile', 'locked', 'poison', 'across', 'split', 'timing', 'curt', 'action', 'huge', 'tvs', 'belched', 'blinked', 'decided', 'drowned', 'exhaled', 'frowned', 'gloated', 'grinned', 'groaned', 'ocd', 'inhaled', 'slim', 'kneeled', 'noticed', 'painted', 'prepaid', 'slipped', 'sneezed', 'teaches', 'tripped', 'vomited', 'alert', 'flaky', 'cnn', 'hell', 'stole', 'dump', 'loss', 'mess', 'ego', 'floats', 'objective', 'realistic', 'backup', 'fbi', 'describe', 'bug', 'safely', 'rifle', 'exist', 'evening', 'easter', 'snack', 'another', 'courage', 'bigot', 'honesty', 'pays', 'dare', 'touching', 'chinese', 'caviar', 'burp', 'detest', 'giddy', 'jogging', 'tests', 'hives', 'trips', 'rarely', 'star', 'suppose', 'sympathize', 'facts', 'pisces', 'purist', 'dyslexic', 'eighteen', 'perth', 'jam', 'rebel', 'stronger', 'worn', 'solid', 'iron', 'wolf', 'begun', 'plant', 'bedtime', 'bizarre', 'hailing', 'hearsay', 'morning', 'low', 'ladies', 'hip', 'cared', 'schools', 'sued', 'babe', 'while', 'filming', 'gawking', 'staring', 'command', 'control', 'trash', 'theyve', 'approves', 'chuckled', 'enlisted', 'grimaced', 'grumbled', 'acne', 'insisted', 'vet', 'frail', 'loyal', 'messy', 'objected', 'screamed', 'shivered', 'shrugged', 'stutters', 'nosy', 'whistled', 'amazed', 'unbelievable', 'arabs', 'dating', 'years', 'amuse', 'annoy', 'gross', 'questions', 'reasonable', 'drown', 'reply', 'mock', 'circle', 'healthily', 'peas', 'exhale', 'bloom', 'flying', 'fry', 'few', 'ham', 'advises', 'blog', 'lots', 'austrian', 'jesuit', 'bled', 'rope', 'thrilling', 'despise', 'queasy', 'flu', 'celery', 'date', 'ring', 'visa', 'sinned', 'voices', 'clocks', 'donuts', 'onions', 'reggae', 'salmon', 'spoons', 'tulips', 'camels', 'crew', 'stamps', 'violin', 'rely', 'plane', 'crown', 'rat', 'twitter', 'pony', 'pool', 'hiking', 'nights', 'poems', 'songs', 'cripple', 'dentist', 'fireman', 'tourist', 'orphan', 'easygoing', 'exhausted', 'expecting', 'flattered', 'impatient', 'gang', 'denial', 'miserable', 'motivated', 'satisfied', 'saying', 'damaged', 'bat', 'apart', 'sickens', 'chilly', 'superb', 'fungus', 'accurate', 'honor', 'business', 'gorgeous', 'improved', 'inhumane', 'midnight', 'obsolete', 'optional', 'unlocked', 'climbing', 'paddling', 'mortal', 'meats', 'scarce', 'moms', 'hairs', 'aches', 'names', 'neck', 'owls', 'robe', 'aloud', 'roll', 'bent', 'active', 'obeys', 'cutie', 'clearly', 'ease', 'bragging', 'meddling', 'shouting', 'straighten', 'number', 'saturn', 'copy', 'myth', 'tree', 'doable', 'bell', 'rang', 'asian', 'fools', 'spies', 'dvd', 'pun', 'blames', 'exercises', 'graduated', 'chef', 'jock', 'slob', 'temp', 'wimp', 'frugal', 'loving', 'unwell', 'joined', 'protested', 'pushed', 'raised', 'staggered', 'taught', 'west', 'whispered', 'choking', 'till', 'wax', 'paper', 'tools', 'parents', 'stalled', 'winners', 'hassle', 'when', 'whens', 'responded', 'sweaty', 'coke', 'babies', 'qualified', 'hiring', 'boats', 'sink', 'brace', 'cage', 'grass', 'notice', 'object', 'purr', 'yoga', 'recycle', 'complain', 'tempt', 'salad', 'dies', 'form', 'rid', 'kick', 'ride', 'golf', 'afternoon', 'birthday', 'holidays', 'cannot', 'flew', 'bankrupt', 'keeps', 'learns', 'respects', 'scolded', 'butcher', 'fanatic', 'gambler', 'samurai', 'slacker', 'animal', 'author', 'con', 'outlaw', 'henpecked', 'prison', 'ached', 'brakes', 'disgusting', 'perceptive', 'accept', 'hungarian', 'london', 'danish', 'borrow', 'leg', 'despised', 'flunk', 'gamble', 'seasick', 'guarantee', 'hailed', 'mondays', 'insects', 'ironing', 'karaoke', 'riddles', 'truck', 'amnesia', 'diary', 'castles', 'drawing', 'ketchup', 'lettuce', 'mahjong', 'noodles', 'oysters', 'sashimi', 'seafood', 'stories', 'sun', 'turtles', 'harvard', 'almonds', 'carrots', 'dessert', 'lasagna', 'ipod', 'sunsets', 'college', 'decline', 'broom', 'hobby', 'stamp', 'answers', 'privacy', 'surgery', 'hiccup', 'taxes', 'plead', 'cattle', 'five', 'serve', 'sneeze', 'korean', 'light', 'usually', 'chair', 'glass', 'puppy', 'popcorn', 'revenge', 'outdoors', 'poisoned', 'tortured', 'wear', 'prosper', 'phone', 'scold', 'beginner', 'botanist', 'musician', 'pacifist', 'prisoner', 'salesman', 'stuntman', 'teenager', 'weakling', 'against', 'atheist', 'officer', 'being', 'used', 'devastated', 'farsighted', 'fascinated', 'having', 'illiterate', 'interested', 'making', 'meditating', 'quitter', 'holiday', 'optimistic', 'overweight', 'overworked', 'successful', 'taking', 'oldest', 'unemployed', 'untalented', 'using', 'stew', 'weapon', 'hint', 'mug', 'fee', 'costs', 'sense', 'sale', 'wednesday', 'bargain', 'classic', 'admirable', 'ambush', 'beyond', 'brand', 'confusing', 'delicious', 'difficult', 'forbidden', 'grotesque', 'incorrect', 'marvelous', 'pointless', 'redundant', 'hour', 'posted', 'searching', 'kissing', 'lend', 'practice', 'blonde', 'power', 'mums', 'chest', 'heart', 'sore', 'joints', 'tires', 'tooth', 'wrist', 'nobodyll', 'pout', 'doors', 'pack', 'gear', 'tune', 'prepare', 'seals', 'choked', 'misses', 'bach', 'types', 'hottie', 'snap', 'counting', 'gossiping', 'grumbling', 'resisting', 'sniffling', 'whistling', 'picture', 'advice', 'ideal', 'given', 'skull', 'tower', 'evident', 'hogwash', 'line', 'plastic', 'rubbish', 'typical', 'barked', 'price', 'leaks', 'adore', 'quarreled', 'struggled', 'annoys', 'bites', 'test', 'creepy', 'theirs', 'appears', 'approached', 'barely', 'biked', 'brews', 'dialed', 'draws', 'dug', 'easily', 'feels', 'woozy', 'bigger', 'busted', 'fatter', 'hacked', 'grabbed', 'roses', 'ph', 'limp', 'asthma', 'issues', 'scurvy', 'talent', 'rats', 'biker', 'blond', 'dwarf', 'guard', 'lefty', 'miner', 'minor', 'moron', 'pilot', 'rabbi', 'average', 'callous', 'complex', 'cynical', 'dusting', 'elusive', 'excused', 'falling', 'gasping', 'grouchy', 'hideous', 'history', 'intense', 'jittery', 'jobless', 'likable', 'lovable', 'miserly', 'idol', 'neutral', 'nodding', 'obscene', 'playing', 'pompous', 'precise', 'quicker', 'radical', 'shaking', 'shallow', 'shaving', 'similar', 'sitting', 'sloshed', 'smarter', 'smashed', 'tactful', 'teasing', 'unfazed', 'unmoved', 'vicious', 'willing', 'yawning', 'sane', 'knelt', 'guns', 'tuna', 'misled', 'owns', 'punched', 'rewrote', 'calmly', 'notes', 'volunteers', 'beaten', 'bright', 'framed', 'fuming', 'gentle', 'grumpy', 'sewing', 'square', 'touchy', 'unhurt', 'untidy', 'improve', 'threat', 'gut', 'sauce', 'charm', 'road', 'blast', 'farm', 'guests', 'shots', 'earlier', 'bury', 'geniuses', 'partners', 'country', 'atm', 'tip', 'side', 'removed', 'wipe', 'morons', 'disgust', 'flatter', 'capsized', 'suggestions', 'envious', 'instead', 'balls', 'round', 'bees', 'honey', 'behave', 'brush', 'husband', 'police', 'chip', 'skip', 'whistle', 'boxes', 'if', 'congratulations', 'confess', 'protest', 'rap', 'snob', 'stingy', 'freak', 'interfere', 'misbehave', 'overdo', 'remind', 'tease', 'sheep', 'bags', 'trip', 'claps', 'everythings', 'fetch', 'frogs', 'tool', 'box', 'lawn', 'doughnut', 'dawn', 'into', 'ambition', 'camera', 'intrigues', 'ethiopian', 'dreamer', 'sly', 'unmarried', 'mentioned', 'laughs', 'radios', 'whisky', 'shouts', 'studied', 'surfing', 'comedian', 'frat', 'gardener', 'southpaw', 'antisocial', 'brother', 'forty', 'paraplegic', 'photogenic', 'helium', 'album', 'hoist', 'sails', 'candle', 'interesting', 'unfortunate', 'howd', 'howre', 'hypnotism', 'abhor', 'spain', 'appreciate', 'beg', 'tongue', 'booked', 'loudly', 'breathe', 'undo', 'consulted', 'contacted', 'cooked', 'couldve', 'cycle', 'disobeyed', 'downloaded', 'expect', 'feverish', 'isolated', 'funerals', 'politics', 'raccoons', 'reptiles', 'rug', 'donkey', 'laptop', 'theory', 'ticket', 'diabetes', 'skin', 'freckles', 'pens', 'drum', 'rains', 'elbow', 'intend', 'showered', 'learned', 'cartoons', 'eggplant', 'football', 'potatoes', 'interest', 'broccoli', 'comedies', 'westerns', 'misjudged', 'army', 'misunderstood', 'legs', 'internet', 'bucket', 'hammer', 'ladder', 'tissue', 'caffeine', 'boots', 'shave', 'ordered', 'bills', 'biking', 'letter', 'recommend', 'respected', 'movie', 'scored', 'goal', 'giraffe', 'pattern', 'bacon', 'swedish', 'supported', 'vitamins', 'refund', 'mommy', 'witness', 'born', 'courteous', 'dismissed', 'entranced', 'horrified', 'misquoted', 'mortified', 'bar', 'fork', 'soda', 'assist', 'defend', 'inform', 'mention', 'notify', 'jackson', 'christian', 'biologist', 'carpenter', 'chauffeur', 'communist', 'detective', 'housewife', 'lifeguard', 'masochist', 'owl', 'paramedic', 'policeman', 'professor', 'therapist', 'aquarius', 'engineer', 'optimist', 'begging', 'stiff', 'calling', 'catching', 'celebrating', 'chewing', 'color', 'constipated', 'cooperating', 'daydreaming', 'embarrassed', 'enjoying', 'feeling', 'asking', 'handed', 'nearsighted', 'crook', 'vacation', 'persevering', 'replaceable', 'spontaneous', 'such', 'copilot', 'unimpressed', 'choosy', 'waiter', 'babbling', 'infected', 'breathing', 'near', 'poisonous', 'salty', 'zebra', 'allowed', 'cafe', 'river', 'ethical', 'friday', 'blew', 'seven', 'mortifies', 'tasted', 'ages', 'ago', 'enticing', 'handmade', 'painless', 'matter', 'badly', 'pheasant', 'shortcut', 'surprise', 'acceptable', 'dirt', 'impossible', 'improbable', 'inadequate', 'incredible', 'irrelevant', 'misleading', 'bomb', 'ridiculous', 'sufficient', 'terrifying', 'wrap', 'updated', 'practicing', 'knead', 'dough', 'metal', 'message', 'lemons', 'sour', 'ditch', 'kites', 'improvise', 'negotiate', 'visit', 'served', 'decision', 'smaller', 'widow', 'alto', 'marys', 'quote', 'merry', 'mistakes', 'shrank', 'squeak', 'gray', 'grey', 'throat', 'seeing', 'changes', 'october', 'bottle', 'window', 'fence', 'peel', 'place', 'bets', 'button', 'rejection', 'remove', 'repeat', 'drugs', 'bores', 'secure', 'tonight', 'sharks', 'beauty', 'runner', 'graceful', 'caucasian', 'assertive', 'seventeen', 'cards', 'straight', 'spanish', 'spelling', 'hitting', 'whimpering', 'aspirin', 'chances', 'pills', 'story', 'frankly', 'cost', 'pagoda', 'pencil', 'dress', 'stuff', 'personal', 'damp', 'babys', 'bikes', 'growled', 'foods', 'stank', 'lake', 'leaves', 'moon', 'oven', 'powers', 'soups', 'taxis', 'howled', 'soap', 'fresh', 'actors', 'melons', 'pilots', 'yellow', 'russian', 'interns', 'tallest', 'hotel', 'peach', 'fate', 'each', 'added', 'admitted', 'attacked', 'pie', 'mute', 'blamed', 'chased', 'cries', 'himself', 'deceived', 'deserves', 'designed', 'disgusts', 'ducked', 'enjoys', 'exaggerates', 'uneasy', 'sigh', 'panicky', 'hiccups', 'options', 'rabbits', 'secrets', 'stamina', 'opera', 'insulted', 'barber', 'bigwig', 'busker', 'hermit', 'legend', 'madman', 'maniac', 'misfit', 'pirate', 'player', 'potter', 'priest', 'prince', 'psycho', 'racist', 'rapper', 'rookie', 'sailor', 'senior', 'smoker', 'surfer', 'tailor', 'weirdo', 'adorable', 'agitated', 'agnostic', 'adult', 'athletic', 'barefoot', 'blushing', 'careless', 'clueless', 'credible', 'cultured', 'dejected', 'depraved', 'deranged', 'diligent', 'disloyal', 'drenched', 'ecstatic', 'educated', 'eloquent', 'emphatic', 'fabulous', 'faithful', 'flexible', 'forceful', 'forgiven', 'generous', 'giggling', 'groaning', 'hammered', 'hesitant', 'humorous', 'immature', 'immobile', 'impolite', 'shock', 'insecure', 'insolent', 'involved', 'kneeling', 'knocking', 'learning', 'likeable', 'literate', 'loveable', 'enemy', 'neurotic', 'obedient', 'painting', 'perverse', 'pleasant', 'punctual', 'rational', 'reckless', 'reformed', 'reserved', 'resolute', 'retiring', 'sickened', 'skittish', 'sociable', 'spirited', 'studious', 'suicidal', 'tactless', 'talented', 'terminal', 'thinking', 'thirteen', 'thrilled', 'tireless', 'training', 'troubled', 'truthful', 'unafraid', 'unbiased', 'underage', 'unnerved', 'wasteful', 'wavering', 'wheezing', 'fazed', 'nasty', 'petty', 'timid', 'bail', 'glared', 'pacing', 'wines', 'blues', 'salsa', 'match', 'cross', 'perky', 'weight', 'chili', 'pasta', 'testify', 'mustve', 'fails', 'falls', 'stops', 'overreacted', 'rugby', 'novels', 'recorded', 'shark', 'eager', 'sees', 'tenor', 'sipped', 'slowed', 'speaks', 'rigid', 'sympathized', 'bath', 'photos', 'understands', 'past', 'abusive', 'adamant', 'alarmed', 'alerted', 'blinded', 'crushed', 'defiant', 'elected', 'evasive', 'lenient', 'moaning', 'tasered', 'wears', 'remain', 'suffer', 'medal', 'argue', 'budge', 'gloves', 'charmer', 'sank', 'brilliant', 'conscious', 'hilarious', 'charge', 'cousin', 'nephew', 'repulsive', 'screaming', 'suffering', 'thirtyish', 'earned', 'yawn', 'walls', 'toes', 'arrested', 'declared', 'raw', 'lack', 'picnics', 'waffles', 'experts', 'showers']\n",
            "Target Vocabulary ['<eos>', '<bof>', 'tom', 'ich', 'ist', 'es', 'das', 'nicht', 'sie', 'bin', 'wir', 'hat', 'du', 'er', 'habe', 'ein', 'war', 'zu', 'mich', 'sind', 'mir', 'dich', 'kann', 'uns', 'auf', 'die', 'werde', 'bist', 'hier', 'sich', 'wird', 'eine', 'wer', 'gut', 'haben', 'aus', 'einen', 'mag', 'an', 'wie', 'gehen', 'mein', 'in', 'sein', 'wurde', 'der', 'lass', 'dir', 'ihn', 'was', 'jetzt', 'liebe', 'da', 'mit', 'will', 'hause', 'den', 'komm', 'werden', 'nach', 'gro', 'geht', 'sehr', 'geh', 'meine', 'muss', 'hatte', 'mal', 'so', 'sieht', 'mach', 'alle', 'wei', 'bitte', 'brauche', 'hast', 'kein', 'fur', 'gesehen', 'sah', 'auto', 'beschaftigt', 'hasse', 'niemand', 'schon', 'konnen', 'sei', 'ihr', 'viel', 'gib', 'tun', 'glucklich', 'noch', 'weg', 'nimm', 'ging', 'krank', 'kommen', 'gerade', 'kannst', 'en', 'gemacht', 'maria', 'machen', 'einfach', 'leben', 'hund', 'buch', 'kam', 'darf', 'scheint', 'hor', 'zuruck', 'dem', 'helfen', 'geld', 'ihm', 'hei', 'schnell', 'nie', 'gehe', 'sicher', 'auch', 'keine', 'sehen', 'allein', 'verloren', 'wieder', 'tut', 'recht', 'zeit', 'gefunden', 'gehort', 'im', 'dort', 'liebt', 'macht', 'alt', 'und', 'nichts', 'gerne', 'weiter', 'ordnung', 'nur', 'essen', 'etwas', 'spa', 'bei', 'mehr', 'diese', 'versuchen', 'mochte', 'mude', 'warten', 'verruckt', 'ab', 'gegessen', 'fertig', 'verletzt', 'konnte', 'warum', 'weh', 'sterben', 'am', 'braucht', 'deine', 'fuhlte', 'gewonnen', 's', 'ruhig', 'komme', 'spat', 'gegangen', 'schau', 'kommt', 'fahren', 'ja', 'wutend', 'sehe', 'kalt', 'um', 'euch', 'angst', 'artig', 'dein', 'neu', 'bleiben', 'fu', 'arbeit', 'bleib', 'wo', 'gern', 'wissen', 'ganz', 'nett', 'gewinnen', 'lasst', 'gesagt', 'alles', 'brauchen', 'reich', 'rein', 'weinen', 'arbeiten', 'kenne', 'von', 'jung', 'e', 'katze', 'heute', 'hol', 'schuchtern', 'mann', 'su', 'sagte', 'singen', 'warte', 'traurig', 'sag', 'betrunken', 'still', 'schwimmen', 'fuhle', 'zum', 'dran', 'gestorben', 'drau', 'kennen', 'vor', 'tag', 'halte', 'vielleicht', 'vorbei', 'waren', 'lieben', 'schule', 'hilfe', 'herein', 'schlecht', 'versucht', 'blieb', 'frei', 'setz', 'gekommen', 'doch', 'los', 'bring', 'junge', 'gibt', 'dumm', 'meinen', 'mussen', 'siehst', 'hab', 'raus', 'halt', 'bereit', 'ernst', 'okay', 'wollen', 'getan', 'hut', 'bier', 'vater', 'dass', 'toms', 'wirst', 'weinte', 'tu', 'wusste', 'tot', 'leid', 'fruh', 'verargert', 'stand', 'einmal', 'eins', 'tee', 'hatten', 'jemand', 'gluck', 'nervos', 'mary', 'frau', 'dieses', 'hallo', 'rannte', 'frag', 'geschafft', 'hilft', 'sprich', 'her', 'geschlagen', 'nein', 'aufhoren', 'reden', 'kaputt', 'gab', 'arm', 'esse', 'seid', 'lesen', 'nehme', 'schuld', 'katzen', 'fisch', 't', 'rief', 'verwirrt', 'klein', 'kaffee', 'wach', 'wirklich', 'dick', 'gemein', 'schwach', 'lugt', 'zuhause', 'laufen', 'uhr', 'wahr', 'besser', 'verlieren', 'hin', 'mogen', 'funktioniert', 'kinder', 'witz', 'dies', 'immer', 'schlussel', 'boston', 'plan', 'schien', 'verstehe', 'gehts', 'versuch', 'schlie', 'dabei', 'hoffe', 'gefallt', 'vermisse', 'faul', 'ruhe', 'sieh', 'komisch', 'vorsichtig', 'wein', 'ig', 'bezahlen', 'bus', 'alleine', 'lese', 'hunger', 'oben', 'tanzen', 'rot', 'bose', 'man', 'isst', 'ihnen', 'schuldig', 'ware', 'iss', 'ruf', 'kurz', 'zieh', 'runter', 'lachelte', 'schlafen', 'schie', 'seltsam', 'kochen', 'weit', 'arbeitet', 'bekommen', 'bett', 'wette', 'lustig', 'als', 'geholfen', 'stark', 'schmerzen', 'verheiratet', 'sprechen', 'rauchen', 'fast', 'genie', 'kennt', 'sohn', 'steht', 'haus', 'wollte', 'mache', 'dieser', 'ins', 'deinen', 'fang', 'verstanden', 'bezahlt', 'hilf', 'getroffen', 'perfekt', 'gefallen', 'probier', 'vertraue', 'bald', 'hunde', 'hart', 'unten', 'guter', 'lies', 'bleibt', 'manner', 'langsam', 'klug', 'langweilig', 'anfangen', 'dafur', 'hungrig', 'einsam', 'drei', 'milch', 'fahre', 'oft', 'naiv', 'fragen', 'diat', 'eifersuchtig', 'gefangen', 'montag', 'keinen', 'liegt', 'trinke', 'wasser', 'musik', 'spiele', 'witze', 'zuerst', 'franzosisch', 'machte', 'brauchte', 'tur', 'vertraut', 'nass', 'stehen', 'vogel', 'fliegen', 'nacht', 'nahm', 'meins', 'lassen', 'pass', 'fuhr', 'reis', 'madchen', 'held', 'drinnen', 'lebt', 'zur', 'horen', 'lugen', 'angerufen', 'hielt', 'pech', 'lugner', 'schlaft', 'alter', 'tasche', 'arbeite', 'arzt', 'drin', 'verliebt', 'karte', 'wagen', 'cool', 'stimmt', 'fair', 'laut', 'hort', 'unrecht', 'nahe', 'musst', 'hasst', 'verdient', 'taxi', 'schwarz', 'zeig', 'schwer', 'gehoren', 'worden', 'verkauft', 'musste', 'abendessen', 'hoffnung', 'warst', 'zwei', 'redet', 'beeil', 'wohl', 'gelogen', 'einverstanden', 'bis', 'klar', 'dunn', 'hasslich', 'hierher', 'weine', 'schrecklich', 'ohnmachtig', 'helfe', 'gehorchen', 'gelangweilt', 'fernseher', 'dunkel', 'schlief', 'schwimmt', 'vergessen', 'gefeuert', 'boden', 'uberprufen', 'job', 'bekam', 'schlau', 'hore', 'koch', 'beruhmt', 'verlassen', 'mama', 'sicherheit', 'krieg', 'selbst', 'dazu', 'sage', 'augen', 'sofort', 'gekauft', 'gerettet', 'eier', 'besturzt', 'holen', 'neugierig', 'damit', 'brav', 'blod', 'verandert', 'kampfen', 'brauchst', 'gesungen', 'trinken', 'mutter', 'lie', 'apfel', 'trank', 'frauen', 'lernen', 'geschieden', 'studiere', 'leise', 'traum', 'sa', 'geworden', 'singt', 'boot', 'las', 'vertraute', 'leicht', 'zimmer', 'andern', 'familie', 'wurdest', 'gewinnt', 'finden', 'spielen', 'lacheln', 'jahre', 'danke', 'ungerecht', 'rennt', 'bewegen', 'hoch', 'half', 'nickte', 'zahlen', 'gerecht', 'verirrt', 'lauter', 'steh', 'luge', 'ski', 'gewinne', 'anrufen', 'blind', 'pingelig', 'fest', 'geduldig', 'sing', 'gott', 'grausam', 'lauft', 'lief', 'erinnere', 'stimme', 'beeilen', 'koche', 'sauber', 'rechnung', 'problem', 'gebissen', 'gearbeitet', 'kaufen', 'ding', 'neues', 'jungen', 'geweint', 'grund', 'sagen', 'geliebt', 'beliebt', 'spreche', 'durst', 'unglucklich', 'ungewohnlich', 'keiner', 'bescheid', 'unhoflich', 'weise', 'toll', 'treffen', 'vermissen', 'pleite', 'kocht', 'gerufen', 'waffe', 'egal', 'pizza', 'geschlafen', 'frage', 'freund', 'diabetiker', 'entkommen', 'unschuldig', 'morgen', 'unser', 'sollen', 'reizend', 'unglaublich', 'wussten', 'rufen', 'gesund', 'angelogen', 'seine', 'meinem', 'gebracht', 'pferd', 'gegeben', 'besorgt', 'spiel', 'fehlt', 'ball', 'vermisst', 'verraten', 'fahrrad', 'klingt', 'ihre', 'vergeben', 'sollte', 'feuer', 'entspann', 'sang', 'spater', 'fahr', 'finde', 'ordentlich', 'fass', 'warnen', 'beruhige', 'folge', 'vergiss', 'davon', 'gebe', 'lachte', 'sauer', 'hinter', 'gesprochen', 'gewahlt', 'bord', 'eingestellt', 'schneller', 'pflicht', 'vertrauen', 'anderer', 'meinung', 'fleisch', 'liebte', 'luft', 'panik', 'schoss', 'passiert', 'nochmal', 'rede', 'gehabt', 'streng', 'wirf', 'weint', 'gefragt', 'fragte', 'obst', 'kuchen', 'schnee', 'dagegen', 'entscheiden', 'aufrichtig', 'nutzlos', 'schade', 'fangen', 'mittagessen', 'gingen', 'glatze', 'au', 'falsch', 'rennen', 'behalten', 'eingeladen', 'rufe', 'bestes', 'fallen', 'hand', 'schame', 'tue', 'ubel', 'nackt', 'bucher', 'selten', 'muhe', 'kanadier', 'anwalt', 'ohr', 'verhungern', 'blau', 'salz', 'traumen', 'unsere', 'lieber', 'pause', 'genug', 'verschwunden', 'dinge', 'zusammen', 'hasste', 'schmutzig', 'sollten', 'erfolgreich', 'fernsehen', 'fische', 'uber', 'typ', 'riecht', 'spricht', 'geheiratet', 'maus', 'jemanden', 'freiwillig', 'sorgen', 'stoppen', 'lehrer', 'geheimnis', 'daran', 'zog', 'offne', 'willst', 'ausland', 'gewarnt', 'adoptiert', 'verlobt', 'wurden', 'freunde', 'ehrlich', 'angekommen', 'tisch', 'idee', 'redete', 'lauf', 'probiere', 'fiel', 'schwimme', 'fett', 'behalt', 'wasch', 'hande', 'willkommen', 'naher', 'tapfer', 'leg', 'sprach', 'taub', 'aufgehort', 'richtig', 'wozu', 'schreib', 'antworten', 'gute', 'seinen', 'geschummelt', 'kicherte', 'knapp', 'soweit', 'zah', 'gar', 'schlimm', 'geschneit', 'spring', 'gelassen', 'verlasse', 'beweg', 'tritt', 'bewegte', 'super', 'wunderbar', 'schreibe', 'sterbe', 'jeden', 'gucken', 'trink', 'freundlich', 'kannte', 'versprochen', 'gierig', 'bescheiden', 'ruiniert', 'ignorier', 'wichtig', 'deins', 'stadt', 'seite', 'tanzt', 'wartete', 'kreativ', 'lachen', 'suchen', 'schaffen', 'brot', 'beide', 'gesicht', 'verschlafen', 'schwindlig', 'besoffen', 'folgen', 'schreien', 'durch', 'unbewaffnet', 'wohlhabend', 'schneit', 'regel', 'liste', 'dieb', 'spazieren', 'betrogen', 'lange', 'geschickt', 'erzahlt', 'schluss', 'bewaffnet', 'mutig', 'hey', 'zahlt', 'singe', 'zweifel', 'leiden', 'beweise', 'lebe', 'schlafrig', 'erklaren', 'obdachlos', 'einem', 'engel', 'stehe', 'krebs', 'leer', 'geschehen', 'unmoralisch', 'genau', 'rate', 'trafen', 'spion', 'launisch', 'meinte', 'mochten', 'verstecken', 'ausruhen', 'lugst', 'traume', 'schlittschuh', 'lang', 'sangen', 'gas', 'erkaltet', 'liest', 'kuss', 'menge', 'studiert', 'augenblick', 'japaner', 'glaube', 'weitermachen', 'ahnung', 'hingehen', 'nehmen', 'niedergeschlagen', 'einer', 'gefahr', 'zufrieden', 'chef', 'blut', 'falle', 'eilte', 'fortfahren', 'mensch', 'offnen', 'zeigen', 'schreiben', 'risiko', 'aufgabe', 'tasse', 'plane', 'verlie', 'verlor', 'schreit', 'sechs', 'ausgeraubt', 'uberleben', 'wahrheit', 'wem', 'hoflich', 'kussen', 'setzen', 'fressen', 'lied', 'gefolgt', 'wort', 'trug', 'radio', 'englisch', 'brachte', 'reise', 'bar', 'mund', 'denke', 'ziemlich', 'ruhestand', 'zug', 'spielt', 'allen', 'starb', 'getotet', 'wache', 'lacht', 'zogert', 'bruder', 'niemals', 'wahlerisch', 'messer', 'druck', 'fantastisch', 'nachlassen', 'bins', 'a', 'fassen', 'gewartet', 'dj', 'satt', 'klappt', 'vorsicht', 'log', 'dollar', 'klatschte', 'furchte', 'meinst', 'wachte', 'erster', 'nuchtern', 'warm', 'guck', 'dorthin', 'ubernimm', 'na', 'gescheitert', 'sahen', 'warteten', 'wen', 'idiot', 'eines', 'anderes', 'beneide', 'horte', 'setzte', 'uberlebt', 'amusiert', 'funktionieren', 'grun', 'cd', 'heraus', 'ach', 'stimmte', 'trinkt', 'fahrt', 'fehler', 'schaute', 'raucht', 'schrie', 'jungs', 'bringen', 'durfen', 'diskret', 'vernunftig', 'verlass', 'acht', 'gehasst', 'blodmann', 'nochmals', 'zwilling', 'verbrannt', 'trainiert', 'schwindelig', 'stellte', 'mathe', 'lippen', 'sollst', 'reparieren', 'klarkommen', 'aufstehen', 'kind', 'veganer', 'tanze', 'daruber', 'entspannt', 'bleibe', 'gesetz', 'bedient', 'schmeckt', 'moglich', 'regnen', 'fruhling', 'versuchs', 'teilen', 'dank', 'halten', 'schick', 'denk', 'hustete', 'letzte', 'ausgegangen', 'hellwach', 'schalte', 'erinnern', 'gibts', 'reihe', 'stirbt', 'fuhre', 'bringe', 'herauf', 'zehn', 'drum', 'geschwommen', 'trotzdem', 'guten', 'abend', 'berliner', 'ehrgeizig', 'heldenhaft', 'getreten', 'madels', 'unterstutze', 'aufregend', 'geschnitten', 'freude', 'joggen', 'sushi', 'igkeiten', 'zucker', 'gefehlt', 'bekifft', 'versagen', 'geschrieben', 'lieb', 'suchtig', 'moment', 'dankbar', 'beleidigt', 'schwanger', 'zuverlassig', 'schlafe', 'grundlich', 'meines', 'echt', 'pfeife', 'regnet', 'sache', 'uberlass', 'ohren', 'darum', 'repariere', 'irre', 'kamen', 'hassen', 'sagten', 'gold', 'schrieb', 'erschossen', 'gruselig', 'brach', 'trat', 'wahnsinnig', 'erledigt', 'nutze', 'verstehen', 'geben', 'tat', 'gehst', 'besonders', 'gelacht', 'geantwortet', 'zeichne', 'esst', 'blumen', 'wenig', 'umarmt', 'blass', 'autos', 'heiliger', 'ubertrieben', 'habs', 'aufgestanden', 'scherze', 'menschen', 'tennis', 'herbst', 'abendbrot', 'rettete', 'hinein', 'weckte', 'fehlen', 'ansehen', 'student', 'beeindruckt', 'druben', 'uberrascht', 'zuruckgekommen', 'erleichterung', 'schwierig', 'unwahrscheinlich', 'fortgehen', 'reinkommen', 'haar', 'fuller', 'tor', 'frieden', 'ende', 'ruhr', 'suppe', 'ziehe', 'puppe', 'reicht', 'betet', 'baby', 'normal', 'mager', 'erfolg', 'beschwipst', 'drehte', 'hinkt', 'gewalttatig', 'verwundet', 'entlassen', 'gemeint', 'wieso', 'verspaten', 'verblufft', 'cousins', 'arzte', 'schockiert', 'geraten', 'bekomme', 'machst', 'hubsch', 'unfair', 'benimm', 'doof', 'benutzen', 'herunter', 'kuhe', 'motor', 'magst', 'liebst', 'konnt', 'schonen', 'handtuch', 'sohne', 'tragt', 'bart', 'schriftsteller', 'schauspieler', 'machtig', 'lernt', 'bisschen', 'deinem', 'leute', 'geschenke', 'geglaubt', 'wegen', 'tomaten', 'zustimmen', 'fieber', 'schwestern', 'heimweh', 'kummern', 'langweile', 'aufgeregt', 'entschuldige', 'hinsetzen', 'betrog', 'fort', 'gekusst', 'erzahl', 'quatsch', 'positiv', 'wich', 'benommen', 'geschossen', 'erkaltung', 'linkshander', 'hinterhaltig', 'sympathisch', 'liebenswert', 'gepflegt', 'gescheit', 'mussten', 'respektieren', 'hilflos', 'welche', 'wehgetan', 'vorbereitet', 'traumt', 'starrte', 'flei', 'erleichtert', 'diesen', 'klang', 'wirkt', 'stopp', 'unmoglich', 'wiedersehen', 'gekundigt', 'schnarche', 'drauf', 'zeigs', 'maul', 'kopf', 'tief', 'gesprungen', 'rasierte', 'gahnte', 'nachste', 'seins', 'verboten', 'rette', 'schwamm', 'stimmen', 'gesundheit', 'heim', 'stirb', 'trage', 'funf', 'lage', 'aufgegeben', 'bedurftig', 'stecke', 'gehore', 'beachte', 'sand', 'behalte', 'dreh', 'locker', 'rutsch', 'schuss', 'naturlich', 'hats', 'unterschreiben', 'sitz', 'beginnen', 'machs', 'wars', 'doste', 'versuchte', 'einig', 'siegen', 'kummert', 'ziel', 'antworte', 'irgendwen', 'tatsachen', 'suche', 'fall', 'schrei', 'untersuchen', 'such', 'brennt', 'vergib', 'ausreichend', 'unsinn', 'menschlich', 'kaputtgemacht', 'gebaut', 'abgesagt', 'kaue', 'kaugummi', 'kunst', 'eis', 'zuruckgetreten', 'verwende', 'monch', 'voreingenommen', 'bezahle', 'pummelig', 'verstecke', 'bewege', 'ausgeruht', 'zwolf', 'kostenlos', 'windig', 'jesus', 'beten', 'vorne', 'schlag', 'hebe', 'wachsam', 'lern', 'nickerchen', 'deckung', 'schmecken', 'standen', 'rulpste', 'betrugt', 'schnappte', 'gehauen', 'achzte', 'malt', 'betete', 'seufzte', 'rauchte', 'schnarcht', 'zwinkerte', 'froh', 'rechts', 'lachten', 'geschrien', 'nachstes', 'holz', 'schuldest', 'verlaufen', 'form', 'tolerant', 'teile', 'besuch', 'verbindung', 'zahl', 'betruge', 'entlang', 'davongekommen', 'mumm', 'insekten', 'mause', 'bargeld', 'zogerte', 'wohne', 'rindfleisch', 'rock', 'erholt', 'ufo', 'rieche', 'geruhrt', 'geirrt', 'kaufe', 'nachsehen', 'verwenden', 'backer', 'eigenbrotler', 'krankenschwester', 'angsthase', 'gefangnis', 'selbstsuchtig', 'fassungslos', 'nachster', 'neblig', 'legal', 'mitnehmen', 'real', 'zweck', 'druber', 'wirs', 'entspannen', 'studieren', 'schaue', 'vielen', 'pflanzen', 'wachsen', 'klatschen', 'langsamer', 'enorm', 'umarmten', 'lachelten', 'blinzelte', 'entkam', 'versteht', 'leidet', 'unter', 'dachschaden', 'leitung', 'eitel', 'kniete', 'bemerkt', 'voraus', 'lehnte', 'witzig', 'unternehmungslustig', 'drehe', 'wecke', 'lag', 'setzten', 'zeitig', 'stecken', 'nummer', 'kommst', 'polizei', 'aufmerksam', 'ei', 'einzuwenden', 'gebetet', 'nerv', 'geister', 'erwachsen', 'frohe', 'meidet', 'stritt', 'sitzenlassen', 'dichter', 'unleidlich', 'laufer', 'arrogant', 'barbarisch', 'erbarmlich', 'romantisch', 'bewundere', 'entschuldigte', 'biss', 'kaum', 'blendend', 'bohnen', 'umarmte', 'reisen', 'schloss', 'erfunden', 'schlaf', 'klavier', 'verkaufe', 'gerochen', 'erschuttert', 'zuruckkommen', 'zurechtkommen', 'verspate', 'nachschauen', 'verklagen', 'jager', 'sanger', 'magersuchtig', 'kunstlerisch', 'erwartet', 'leichtglaubig', 'kater', 'heilige', 'stur', 'beste', 'vollig', 'gedauert', 'fluch', 'skurril', 'scherz', 'voran', 'lerne', 'unterbrechen', 'schweine', 'kiefer', 'interessiert', 'blicke', 'heb', 'stelle', 'dahin', 'dann', 'fuchs', 'erschoss', 'kreischte', 'verklagt', 'hammer', 'summen', 'mantel', 'gaben', 'kannten', 'ihres', 'ekelhaft', 'antwortete', 'hinterher', 'mut', 'treu', 'unordentlich', 'stoisch', 'druckt', 'vage', 'irrt', 'traf', 'uberlebte', 'letzter', 'niemandem', 'gestanden', 'mittag', 'schauten', 'miteinander', 'regen', 'vorurteile', 'geschlossen', 'niete', 'zugehort', 'soll', 'aufgeben', 'darfst', 'stirbst', 'scharfsinnig', 'gewachsen', 'irgendwelche', 'sonst', 'fachmann', 'sicherheitsdienst', 'mitmachen', 'gelachelt', 'verstehst', 'passt', 'werd', 'tote', 'zahn', 'hinunter', 'baut', 'fuhrt', 'hosentrager', 'englander', 'gefiel', 'hereingelegt', 'miesepeter', 'lastig', 'tokyo', 'oder', 'nase', 'bewunderte', 'moslem', 'huste', 'paris', 'niese', 'schach', 'eingeschlafen', 'winter', 'befehle', 'knoblauch', 'pferde', 'sport', 'zuge', 'natur', 'pandas', 'faust', 'gekocht', 'heiratete', 'wehren', 'beinahe', 'kredit', 'besucht', 'zumute', 'schamte', 'beobachtet', 'wandern', 'zuhoren', 'erlaube', 'hole', 'umbringen', 'beweisen', 'verhindern', 'maler', 'rotschopf', 'soldat', 'tatverdachtiger', 'kunstler', 'uberzeugt', 'gefahrlich', 'anders', 'ubergewichtig', 'skeptisch', 'versichert', 'daheim', 'sucht', 'lama', 'perucke', 'tatsachlich', 'geschenk', 'samstag', 'gelaufen', 'befehl', 'nervt', 'besetzt', 'minute', 'zuruckgehen', 'tresor', 'feger', 'schmerzt', 'feuchtes', 'kopfweh', 'knie', 'verandern', 'wurfel', 'gehorcht', 'lauferin', 'misch', 'richte', 'kopie', 'tatsache', 'zeichen', 'besteht', 'gutgehen', 'braun', 'irren', 'nun', 'japan', 'landkarte', 'rannten', 'gebeichtet', 'narr', 'versteckt', 'unfreundlich', 'verrucht', 'offnete', 'erinnert', 'reingelegt', 'erblasste', 'zoomte', 'genervt', 'packt', 'ruht', 'geschnarcht', 'bewundern', 'regeln', 'prima', 'konzentrieren', 'feinde', 'sinken', 'sitzen', 'angeschossen', 'wann', 'sagt', 'fastet', 'summt', 'post', 'hineingehen', 'fragst', 'verdorben', 'scheinst', 'solltest', 'riechst', 'legen', 'tod', 'abgeschnitten', 'tiger', 'kennst', 'versuchung', 'fern', 'salat', 'wunsche', 'jeder', 'angeln', 'steige', 'ihrer', 'park', 'jahr', 'herzlichen', 'gluckwunsch', 'verschwand', 'drachen', 'steigen', 'amerikaner', 'onkel', 'aufgeschlossen', 'respektiert', 'durstig', 'spieler', 'tier', 'kostet', 'beeilt', 'banane', 'verantwortlich', 'kaufte', 'schlagen', 'zahle', 'gefahren', 'getrunken', 'kirche', 'schlaganfall', 'partys', 'spinnen', 'spinat', 'dreizehn', 'enttauscht', 'kekse', 'herz', 'nudeln', 'tiere', 'bananen', 'meer', 'gebacken', 'schluckauf', 'schulde', 'bezahlte', 'nannte', 'gerechtigkeit', 'mitbringen', 'tragen', 'ruber', 'erschie', 'danken', 'tante', 'freier', 'zerstort', 'schwierigkeiten', 'dummkopf', 'ferien', 'arbeitslos', 'lachelt', 'wert', 'aber', 'weihnachten', 'riskant', 'laufenden', 'viele', 'blond', 'anschlie', 'notig', 'schreibtisch', 'wirds', 'preise', 'beweis', 'platz', 'bestellen', 'end', 'rad', 'argerte', 'erblindete', 'pfeifen', 'sommer', 'verbrechen', 'huhn', 'toricht', 'illegal', 'logisch', 'unverschamt', 'dach', 'liebten', 'scheinen', 'riechen', 'idioten', 'loch', 'fand', 'geschnappt', 'erwischt', 'uberfallen', 'ford', 'versagt', 'minderjahrig', 'amusant', 'hingebungsvoll', 'angezogen', 'fallt', 'konzentriert', 'verzweifelt', 'hilfreich', 'scherzt', 'denkt', 'keucht', 'anwesend', 'egoistisch', 'besonderes', 'verwohnt', 'unbeeindruckt', 'wartet', 'besten', 'besitzt', 'erinnerte', 'zweimal', 'risiken', 'umgebracht', 'skifahren', 'empfindlich', 'verhandeln', 'blutet', 'furchtlos', 'trauert', 'harmlos', 'mittellos', 'boss', 'labil', 'stra', 'anhalten', 'herausbekommen', 'entschlossen', 'zurecht', 'studenten', 'werdet', 'konntest', 'schlechter', 'geist', 'neidisch', 'leisten', 'besuchen', 'wenn', 'krahen', 'krawatte', 'mochtest', 'laufe', 'lug', 'eure', 'diesem', 'mitleid', 'begann', 'sieben', 'brille', 'schreibt', 'enden', 'eile', 'orange', 'reserviert', 'hintergangen', 'hausaufgaben', 'kalte', 'hochzeiten', 'schwester', 'baseball', 'feiere', 'wiedergesehen', 'spielte', 'gitarre', 'ganzen', 'roch', 'punktlich', 'nichte', 'rivale', 'beschamt', 'bereich', 'autistisch', 'blufft', 'kampft', 'japanerin', 'billig', 'schoner', 'frisch', 'blo', 'himmel', 'schuhe', 'anzug', 'grau', 'angenehm', 'aufgegangen', 'feiern', 'sangerin', 'zeige', 'kindisch', 'hase', 'pfeffer', 'voll', 'streiten', 'verangstigt', 'backte', 'stumm', 'glaubte', 'glaubt', 'bestritten', 'futterte', 'gekampft', 'erregt', 'gesellschaft', 'ohnmacht', 'inspiriert', 'verruckter', 'ertrinkt', 'begeistert', 'furchtbar', 'unbeweglich', 'rucksichtslos', 'beunruhigt', 'rechthaberisch', 'taff', 'lebte', 'angespannt', 'stach', 'alarmiert', 'potzdonner', 'angriff', 'bewegung', 'kapiert', 'schlage', 'umarme', 'kusst', 'tschuss', 'laufst', 'reg', 'handschellen', 'beheben', 'ernsthaft', 'greif', 'vergnugen', 'weigere', 'trete', 'benutze', 'glatzkopfig', 'eintritt', 'kusse', 'heirate', 'hervorragend', 'gezahlt', 'beobachte', 'zielen', 'bellen', 'fuhl', 'hols', 'sexy', 'willen', 'anderte', 'aufgelegt', 'versprechs', 'kasse', 'geheilt', 'brannte', 'geklappt', 'halb', 'vier', 'viertel', 'neun', 'kuhl', 'geoffnet', 'unsers', 'schwimm', 'schauen', 'lieg', 'hinten', 'stuck', 'ah', 'siehe', 'unterschreibe', 'harre', 'fielen', 'schwammen', 'verneigte', 'erstarrte', 'strickt', 'fluchte', 'winkte', 'unterhalten', 'fahrst', 'fangst', 'stinkst', 'hasts', 'hoher', 'herum', 'trag', 'prufe', 'fruhzeitig', 'hingegangen', 'grab', 'bewegt', 'schubsen', 'ruft', 'volltanken', 'existiert', 'legte', 'schaffte', 'schweizer', 'tragisch', 'geb', 'springen', 'getrunkten', 'repariert', 'gefallst', 'geriet', 'tust', 'gekotzt', 'ruppig', 'reingehen', 'blutarmut', 'immun', 'reif', 'ledig', 'hinterlistig', 'modeerscheinung', 'sperrig', 'nah', 'glanzt', 'steckt', 'lasset', 'abstimmen', 'draus', 'kommentar', 'ersetze', 'beeile', 'riech', 'beginne', 'nehmt', 'betrublich', 'mogeln', 'schliefen', 'versuchten', 'abgestimmt', 'genugen', 'tanzte', 'versagte', 'verga', 'kampfte', 'dummen', 'gehorchte', 'inne', 'telefonierte', 'heulen', 'abbiegen', 'cds', 'unseren', 'quitt', 'telefoniert', 'solls', 'bestimmst', 'gnadig', 'gewappnet', 'gnadenlos', 'spezifisch', 'troste', 'gerannt', 'fischen', 'streitet', 'ausbrechen', 'lach', 'starr', 'sorge', 'munze', 'kniff', 'gleich', 'stinkreich', 'stockbetrunken', 'stehts', 'dosen', 'online', 'geschwanzt', 'dreihundert', 'jazzmusik', 'kleber', 'gesorgt', 'benzin', 'ergebe', 'langweilte', 'gelegen', 'absagen', 'einsteigen', 'siebzehn', 'tollpatsch', 'faste', 'summe', 'schulden', 'hinweg', 'rente', 'erschrocken', 'pappsatt', 'ignoriere', 'funfzig', 'yen', 'falschung', 'bewolkt', 'abgeschlossen', 'gift', 'geheim', 'dringend', 'nachprufen', 'hochgehen', 'genauer', 'wunsch', 'prag', 'regiert', 'welt', 'gutes', 'timing', 'stell', 'merk', 'verabschiede', 'schroff', 'langer', 'haltet', 'handele', 'erteil', 'absage', 'gratis', 'brannten', 'riefen', 'tanzten', 'kussten', 'mist', 'jubelte', 'entschieden', 'ertrank', 'atmete', 'runzelte', 'stirn', 'freute', 'hamisch', 'grinste', 'zwangen', 'eingeatmet', 'schallplattenunterhalter', 'hammertyp', 'deprimiert', 'gutig', 'schlank', 'malte', 'zahlte', 'entspannte', 'rutschte', 'nieste', 'schwitzte', 'unterrichtet', 'stolperte', 'ubergeben', 'betrubt', 'aussteigen', 'bescheuert', 'unzuverlassig', 'cnn', 'wahlt', 'holle', 'gestohlen', 'drecksloch', 'verlust', 'durcheinander', 'team', 'ego', 'gejubelt', 'woran', 'gemogelt', 'geweckt', 'gehorst', 'objektiv', 'realistisch', 'verstarkung', 'fbi', 'melde', 'kummere', 'beschreibe', 'gewusst', 'geblieben', 'unterschrieben', 'seh', 'unterrichtest', 'merkt', 'porzellankiste', 'untersuch', 'gewehr', 'treppe', 'existieren', 'halfte', 'drumrum', 'endlich', 'handige', 'ostern', 'imbiss', 'koste', 'schafft', 'religioser', 'eiferer', 'ehrlichkeit', 'beruhrend', 'chinese', 'krankenpfleger', 'bete', 'kaviar', 'zerbrochen', 'rulpse', 'zeichnen', 'erwarten', 'kase', 'lebendig', 'tests', 'kuli', 'nesselsucht', 'druckte', 'improvisierte', 'umarmung', 'farbe', 'lowen', 'stern', 'geneckt', 'gedacht', 'vorbeikommen', 'kriege', 'purist', 'veranlagt', 'blute', 'bluffe', 'einigerma', 'ertrinke', 'legastheniker', 'kampfe', 'friere', 'hausarrest', 'perth', 'stau', 'aufstandischer', 'ruhelos', 'erbarmen', 'starker', 'kitzlig', 'erschopft', 'nachgeschaut', 'eisen', 'hirsch', 'wolf', 'begonnen', 'erschreckte', 'frucht', 'pflanze', 'schnappchen', 'furs', 'hagelt', 'gerucht', 'niedrig', 'rauskommst', 'konzentrier', 'renn', 'red', 'nachdenken', 'aufhort', 'hufte', 'scherte', 'niemanden', 'enspannt', 'fassung', 'weilchen', 'filmen', 'glotzen', 'starren', 'meckern', 'kommando', 'kontrolle', 'mull', 'jubelten', 'entkamen', 'weigerten', 'entspannten', 'hielten', 'schwitzten', 'gefalscht', 'unseres', 'klappen', 'eingebrochen', 'baute', 'schnitt', 'grimassen', 'murrte', 'akne', 'beharrte', 'veteran', 'brutal', 'gebrechlich', 'ex', 'fettleibig', 'albern', 'widersprach', 'versprach', 'lenkte', 'zitterte', 'zuckte', 'achseln', 'stottert', 'erzahlte', 'pfiff', 'erstaunt', 'abwarten', 'weck', 'araber', 'bereiteten', 'trauen', 'greifen', 'ausgehen', 'furchten', 'scherzen', 'ziehen', 'erbaut', 'dankst', 'daumen', 'vergingen', 'amusierst', 'nerven', 'mitkommen', 'beangstigst', 'bleibst', 'eklig', 'damlich', 'druckst', 'gewitzt', 'angefahren', 'fuge', 'hinzu', 'zugelassen', 'neuen', 'fan', 'langweilst', 'backen', 'untergliedere', 'umarmen', 'tanz', 'ertrunken', 'kapierst', 'seien', 'hinauf', 'schubs', 'reagier', 'darauf', 'hetz', 'kreis', 'sies', 'erbsen', 'sogar', 'ausatmen', 'futtere', 'futtert', 'bluhen', 'spiegelei', 'paar', 'sekunde', 'hau', 'segne', 'augenblickchen', 'schinken', 'berat', 'netztagebuch', 'ignorierte', 'vorzeitig', 'belogen', 'fortgeschickt', 'erblindet', 'osterreicher', 'jesuit', 'rechtsanwalt', 'autist', 'bedien', 'hieressen', 'blutete', 'seil', 'verspatet', 'amerikanerin', 'spuren', 'zusehen', 'herbeigefuhrt', 'beigetragen', 'verachte', 'hingesehen', 'gefuttert', 'spure', 'flau', 'schlechtes', 'gewissen', 'verziehen', 'ausgeflippt', 'umsonst', 'grippe', 'sellerie', 'verabredung', 'ring', 'visum', 'gesundigt', 'beruf', 'manches', 'franzosische', 'uhren', 'filme', 'zwiebeln', 'reggae', 'lachs', 'loffel', 'tulpen', 'kamele', 'spielfilme', 'veranlasst', 'zubereitet', 'rausgehen', 'weigern', 'crew', 'briefmarken', 'geige', 'zuruckgetan', 'respektiere', 'bedankte', 'flugzeug', 'krone', 'kanns', 'spaziergang', 'twitter', 'gemeldet', 'pferdchen', 'schwimmbecken', 'gehanselt', 'nachts', 'gedichte', 'lieder', 'ausrufen', 'probieren', 'kruppel', 'zahnarzt', 'feuerwehrmann', 'patientin', 'tourist', 'suchtiger', 'waisenkind', 'geschmeichelt', 'ungeduldig', 'gang', 'wahrhaben', 'motiviert', 'vom', 'fach', 'uberaus', 'beschadigt', 'ernstes', 'fledermaus', 'eben', 'schlimmer', 'frostig', 'schaden', 'abends', 'pilz', 'trifft', 'ehre', 'geschaft', 'wunderschon', 'hoffnungslos', 'verbessert', 'unmenschlich', 'mitternacht', 'veraltet', 'bullen', 'entsperrt', 'befindet', 'kontrollier', 'leine', 'beschaftige', 'klettere', 'kontakt', 'fasse', 'paddel', 'eintreten', 'belassen', 'sterblich', 'auswendig', 'ruckenschmerzen', 'gefressen', 'stinken', 'nacken', 'vorbeigekommen', 'oh', 'mannschaft', 'eulen', 'niedlich', 'beliebige', 'bademantel', 'schinden', 'schicken', 'buckte', 'verabscheute', 'aktiv', 'falsche', 'hoffnungen', 'schnelle', 'fuchsteufelswild', 'einige', 'deutlich', 'ruhrt', 'lasse', 'zuversichtlich', 'anzugeben', 'feg', 'duschen', 'geschmacker', 'verschieden', 'unsres', 'saturn', 'mythos', 'baum', 'machbar', 'glocke', 'lautete', 'zerbrach', 'kundigten', 'verschwanden', 'asiaten', 'dummkopfe', 'spione', 'dvd', 'wortspiel', 'ertuchtigte', 'weggehen', 'sportler', 'poet', 'chaot', 'zeitarbeiter', 'weichei', 'parteiisch', 'pummel', 'dost', 'sparsam', 'witzelt', 'verliert', 'liebevoll', 'einfaltig', 'raffiniert', 'protestierte', 'schubste', 'aufgezogen', 'sturzte', 'wankte', 'zeigte', 'angeschrieben', 'davor', 'achtzig', 'aufdringlich', 'wortkarg', 'beangstigend', 'gen', 'westen', 'flusterte', 'erzahlen', 'erstaunlich', 'verunsichert', 'erstickt', 'ihren', 'gebrauch', 'ruckendeckung', 'bohnere', 'habens', 'halfen', 'papier', 'werkzeug', 'einziehen', 'schamen', 'fasten', 'rechtsanwalte', 'eltern', 'stocken', 'gewinner', 'zirkus', 'passierte', 'ubriggeblieben', 'benutzt', 'welches', 'denn', 'angestellt', 'zuschieben', 'hilfst', 'irrst', 'aussichtslos', 'schaust', 'wirkst', 'scheitern', 'befangen', 'verlierst', 'bezahlst', 'verschwitzt', 'cola', 'kleinen', 'gestatten', 'geeignet', 'brechen', 'schlafst', 'stellen', 'junggeselle', 'vogeln', 'boote', 'untergehen', 'bereiten', 'gesellen', 'anfassen', 'reinige', 'kafig', 'ture', 'gras', 'schneide', 'sagtest', 'haltst', 'erledige', 'schnurren', 'leugnest', 'yoga', 'horst', 'recyceln', 'kauf', 'beschwer', 'kummer', 'gehorch', 'vorfuhrung', 'bezahlten', 'bildet', 'reihen', 'steig', 'federn', 'entledige', 'ran', 'leih', 'helfende', 'mitfahren', 'golf', 'frohes', 'geburtstag', 'feiertage', 'beschleunigt', 'gebeten', 'furchtet', 'zierlich', 'rucken', 'schimpfte', 'gelahmt', 'fleischhauer', 'fanatiker', 'samurai', 'faulpelz', 'jasager', 'autor', 'exknacki', 'gesetzloser', 'pantoffelheld', 'beim', 'versteck', 'bremse', 'nutzlich', 'vergeht', 'breit', 'entgegen', 'geheult', 'ungar', 'schuchterner', 'london', 'teilchen', 'fing', 'leihe', 'bein', 'gebrochen', 'verwendung', 'verachtet', 'durchgefallen', 'treibe', 'glucksspiel', 'ubers', 'seekrank', 'folgte', 'mitgebracht', 'garantiere', 'nietenhose', 'absolut', 'bugeln', 'karaoke', 'juristen', 'ratsel', 'pick', 'up', 'gedachtnis', 'ehefrau', 'tagebuch', 'schlosser', 'angle', 'ketchup', 'mahjong', 'austern', 'saschimi', 'meeresfruchte', 'geschichten', 'unterhalte', 'sonne', 'angel', 'jagen', 'schildkroten', 'harvard', 'mandeln', 'karotten', 'nachtisch', 'lasagne', 'ipod', 'puzzles', 'sonnenuntergange', 'universitat', 'ablehnen', 'besen', 'bitten', 'hobby', 'zigarette', 'briefmarke', 'benotige', 'privatsphare', 'unterstutzung', 'operiert', 'besitze', 'steuern', 'bekenne', 'zuchte', 'vieh', 'verabschiedete', 'kochin', 'nachrichten', 'diene', 'koreanisch', 'franzosischunterricht', 'dachte', 'gepack', 'bog', 'normalerweise', 'stuhl', 'glas', 'hundewelpen', 'gehaltserhohung', 'popcorn', 'rache', 'ventilator', 'urlaub', 'vergiftet', 'geschwitzt', 'gefoltert', 'genommen', 'brillentrager', 'anzeigen', 'wiederkommen', 'runterkommen', 'hinfahren', 'umziehen', 'schimpfen', 'unterrichten', 'einladen', 'beobachten', 'anstrengen', 'anfangerin', 'botaniker', 'musiker', 'netter', 'pazifist', 'strafgefangener', 'reicher', 'verkaufer', 'stuntman', 'teenager', 'schwachling', 'atheist', 'offizier', 'ausgenutzt', 'todmude', 'weitsichtig', 'fasziniert', 'analphabet', 'eilig', 'bereite', 'meditiere', 'aufgibt', 'optimistisch', 'uberarbeitet', 'alteste', 'untalentiert', 'eintopf', 'ausgezogen', 'wink', 'becher', 'gebuhr', 'sinn', 'lecker', 'absicht', 'verkauf', 'schneite', 'unserer', 'bestens', 'mittwoch', 'abgemacht', 'klassiker', 'neuer', 'versprechen', 'bewundernswert', 'uberfall', 'beleidigung', 'brandneu', 'kostlich', 'inkorrekt', 'uberflussig', 'hauptverkehrszeit', 'geschieht', 'wohnung', 'uben', 'starben', 'vorangehen', 'doofkopfe', 'schlicht', 'brust', 'gelenke', 'platten', 'handgelenk', 'daraus', 'brullte', 'erfahren', 'begreifst', 'schmoll', 'turen', 'pack', 'zeug', 'melodie', 'entferne', 'weitergehen', 'gestiegen', 'heran', 'wissenschaft', 'robben', 'findet', 'hinrei', 'erwurgt', 'laufpass', 'genarrt', 'unbeholfen', 'wild', 'bach', 'tippt', 'strengt', 'schadlich', 'tratschen', 'murren', 'schnuffeln', 'foto', 'rat', 'erfordert', 'ideal', 'zauberhaft', 'selbstverstandlichkeit', 'schadel', 'turm', 'offensichtlich', 'satz', 'plastik', 'lautet', 'typisch', 'bellte', 'preis', 'stieg', 'leckt', 'abgefahren', 'haken', 'applaudierten', 'kauften', 'hassten', 'gestritten', 'ruinierten', 'erreicht', 'strengen', 'trost', 'argert', 'lowe', 'test', 'vati', 'aufzustehen', 'zukunft', 'naherte', 'zusammengeschlagen', 'radelte', 'braut', 'zusammengebrochen', 'notruf', 'beklagt', 'unterbrochen', 'wahlte', 'zeichnet', 'grub', 'muhelos', 'fuhlt', 'gespendet', 'anruf', 'dicker', 'gehackt', 'zuchtete', 'rosen', 'dr', 'phil', 'asthma', 'probleme', 'skorbut', 'talent', 'ratten', 'reh', 'beachtete', 'improvisiert', 'schritt', 'radfahrer', 'trinker', 'zwerg', 'wachter', 'verlierer', 'bergmann', 'pilot', 'rabbi', 'schamt', 'durchschnittlich', 'ungelenk', 'gefuhllos', 'vielschichtig', 'zynisch', 'fragwurdig', 'staubt', 'entschuldigt', 'durchgedreht', 'schnappt', 'griesgram', 'abscheulich', 'geschichte', 'intensiv', 'geizig', 'idol', 'name', 'ungezogen', 'neutral', 'nickt', 'obszon', 'dienst', 'freut', 'aufgeblasen', 'prazise', 'ubersinnlich', 'radikal', 'zittert', 'oberflachlich', 'rasiert', 'ahnlich', 'sitzt', 'kluger', 'schluchzt', 'vollgegessen', 'taktvoll', 'neckisch', 'derjenige', 'beruhrt', 'unbewegt', 'bosartig', 'jammert', 'willig', 'gahnt', 'nieder', 'pistolen', 'jazz', 'nusse', 'thunfisch', 'ob', 'bleich', 'uberblick', 'larm', 'meint', 'gefuhrt', 'weggezogen', 'gebraucht', 'gezwickt', 'innen', 'umgeschrieben', 'gru', 'netten', 'eindruck', 'verschlief', 'gestochen', 'gestartet', 'tatenlos', 'zuruckgehalten', 'verpetzt', 'notizen', 'meldet', 'abwesend', 'clever', 'sanft', 'murrisch', 'zweiter', 'nahen', 'spie', 'unverletzt', 'eifrig', 'verbessern', 'bezaubernd', 'gelaunt', 'grinsen', 'verkatert', 'bewusstlos', 'bauchgefuhl', 'igkeit', 'charme', 'ewig', 'zogen', 'mordsspa', 'streit', 'bauernhof', 'gaste', 'schusse', 'ignoriert', 'begegnet', 'angreifen', 'helden', 'brauchten', 'kapitulierten', 'ausgetrickst', 'vertrauten', 'meldeten', 'schi', 'begraben', 'toten', 'anmalen', 'genies', 'furchterlich', 'partner', 'land', 'gedanke', 'welcher', 'passieren', 'wart', 'geldautomaten', 'trinkgeld', 'beschwert', 'eingeschritten', 'weggenommen', 'verletzen', 'beisammen', 'wisch', 'fuhrung', 'ubernehmen', 'widerst', 'schmeichelst', 'lernst', 'scharf', 'verstort', 'amusieren', 'feiges', 'summst', 'te', 'nichtsnutz', 'gewinnst', 'deines', 'funfzehn', 'kenterte', 'vorschlage', 'getranke', 'rote', 'guckst', 'achtzehn', 'lachelst', 'habt', 'arbeitest', 'stattdessen', 'balle', 'rund', 'bienen', 'honig', 'burste', 'tute', 'anschaffen', 'beteiligen', 'danach', 'aufmachen', 'auslassen', 'dus', 'kartons', 'klatsche', 'klapp', 'grunde', 'zugestimmt', 'protestiert', 'reagiert', 'fallenlassen', 'gemundet', 'liebtest', 'meintest', 'gelesen', 'grabe', 'tiefes', 'rap', 'erinnerst', 'glaubst', 'vertraust', 'snob', 'knausrig', 'flipp', 'argere', 'betrink', 'zuleide', 'beleidigen', 'unterbrich', 'daneben', 'ubertreib', 'parken', 'widersetze', 'streu', 'wunde', 'necke', 'schaf', 'taschen', 'schone', 'beteten', 'folgt', 'frosche', 'werkzeugkiste', 'rasen', 'sachen', 'gonne', 'handelt', 'morgengrauen', 'kamera', 'schlechte', 'reizt', 'athiopier', 'unmoglicher', 'traumer', 'medium', 'schlauer', 'unverheiratet', 'ballfreund', 'erwahnt', 'vertreibt', 'radios', 'whisky', 'lernte', 'zugewinkt', 'wellenreiten', 'komodiant', 'studentenverbindung', 'gartner', 'ganzer', 'unsozial', 'hundemude', 'bekommt', 'unterwegs', 'vierzig', 'querschnittsgelahmt', 'fotogen', 'aufgebracht', 'helium', 'hellte', 'album', 'he', 'ausweis', 'geturkt', 'hisst', 'segel', 'kerze', 'gewagt', 'fuhlen', 'woher', 'interessant', 'gekostet', 'deiner', 'hypnose', 'verabscheue', 'totmude', 'einzudosen', 'spanien', 'tokio', 'sitze', 'patsche', 'schatzen', 'zunge', 'gerulpst', 'rauch', 'verleugnen', 'zuruckkehren', 'riskieren', 'ungeschehen', 'beriet', 'kontaktiert', 'heruntergeladen', 'fiebrig', 'genauso', 'ubergangen', 'gefuhlt', 'jedes', 'antwort', 'erhalten', 'beerdigungen', 'politik', 'waschbaren', 'reptilien', 'einzukaufen', 'ausstehen', 'teppich', 'esel', 'laptop', 'theorie', 'ticket', 'trockene', 'haut', 'sommersprossen', 'uberlegen', 'trommel', 'gerausch', 'ellbogen', 'eingezogen', 'geduscht', 'grad', 'gespieben', 'andauernd', 'niesen', 'namen', 'typen', 'gegend', 'gelernt', 'raum', 'cartoons', 'auberginen', 'kartoffeln', 'rotwein', 'lache', 'feier', 'interesse', 'broccoli', 'komodien', 'western', 'zufugen', 'eventuell', 'eingeschatzt', 'armee', 'fehlst', 'beine', 'unbedingt', 'internet', 'brauch', 'eimer', 'leiter', 'taschentuch', 'koffein', 'stiefel', 'rasieren', 'gewesen', 'treffe', 'bestellt', 'rechnungen', 'gespielt', 'aufgesetzt', 'brief', 'ausgelesen', 'empfehle', 'film', 'giraffe', 'muster', 'schuttelte', 'speck', 'schwedisch', 'unterstutzte', 'vitamine', 'unterrichte', 'duschbad', 'vertrau', 'meiner', 'dasselbe', 'losgehen', 'zuschauen', 'zeuge', 'geboren', 'hingerissen', 'entsetzt', 'zitiert', 'gedemutigt', 'aufhalten', 'wunschte', 'gingest', 'dauern', 'abstreiten', 'nachgeben', 'notiert', 'gabel', 'limonade', 'ausprobieren', 'bliebe', 'umhoren', 'verteidigen', 'begleite', 'informieren', 'erwahnen', 'benachrichtigen', 'bestelle', 'kooperieren', 'jackson', 'gast', 'christ', 'tv', 'biologin', 'zimmermann', 'chauffeur', 'stadtmadchen', 'kommunistin', 'detektiv', 'schutze', 'glucklicher', 'hausfrau', 'rettungsschwimmer', 'masochist', 'nachteule', 'sanitater', 'polizist', 'professor', 'therapeut', 'risikofreudig', 'sternzeichen', 'wassermann', 'ingenieur', 'optimist', 'flehe', 'langerweile', 'farbenblind', 'verstopfung', 'kooperiere', 'tagtraumen', 'eigener', 'kurzsichtig', 'schlitzohr', 'streite', 'schreie', 'beharrlich', 'ersetzbar', 'spontan', 'copilot', 'peinlich', 'gucke', 'kellner', 'genossen', 'faxen', 'dicke', 'plappert', 'gutaussehend', 'infiziert', 'atmet', 'giftig', 'versalzen', 'arztin', 'zebra', 'erlaubt', 'cafe', 'fluss', 'ethisch', 'freitag', 'umgehauen', 'kaputtgegangen', 'notwendig', 'hangt', 'schmeckte', 'verlockend', 'herrschte', 'frost', 'handgemacht', 'schmerzlos', 'gelohnt', 'rolle', 'ne', 'arge', 'sackgasse', 'fasan', 'abkurzung', 'uberraschung', 'akzeptabel', 'spottbillig', 'verdientes', 'schones', 'wetter', 'unpassend', 'irrelevant', 'zauberei', 'irrefuhrend', 'bombe', 'lacherlich', 'erschreckend', 'verpack', 'ube', 'wechselgeld', 'bewahren', 'knete', 'teig', 'blei', 'metall', 'hinterlasse', 'nachricht', 'zitronen', 'nachhause', 'vortritt', 'entledigen', 'saufen', 'improvisieren', 'zuckerschlecken', 'betrachte', 'serviert', 'entscheide', 'verkleinere', 'verwitwet', 'zitieren', 'anprobieren', 'frohliche', 'unvermeidlich', 'benotigt', 'jeans', 'eingelaufen', 'quietschen', 'halsschmerzen', 'verliere', 'andert', 'oktober', 'flasche', 'fenster', 'streiche', 'zaun', 'stift', 'schal', 'hierhin', 'drucke', 'druckknopf', 'setze', 'puzzlespielen', 'zuruckweisung', 'donut', 'drogen', 'langweilt', 'naturwissenschaften', 'sichere', 'worauf', 'hinauswill', 'schicke', 'haie', 'hubsche', 'elegant', 'sturkopf', 'gekniffen', 'ohrfeigte', 'erstach', 'fuhrte', 'fesselte', 'chefin', 'arbeitete', 'zeigt', 'durchsetzungsvermogen', 'karten', 'aufrecht', 'spanisch', 'buchstabieren', 'stiehl', 'wimmern', 'fege', 'aspirin', 'tabletten', 'erzahle', 'geschichtchen', 'offen', 'kostete', 'pagode', 'bleistift', 'betrug', 'bezweifeln', 'kleid', 'zeugs', 'gestern', 'personlich', 'feucht', 'angehalten', 'knurrte', 'erstarb', 'stank', 'see', 'blatter', 'mond', 'ofen', 'bezahlung', 'strom', 'brunnen', 'trocken', 'wind', 'heulte', 'keinerlei', 'seife', 'redeten', 'melonen', 'piloten', 'gelb', 'glauben', 'fuhren', 'ignorierten', 'wohnen', 'vermissten', 'verkaufen', 'besuchten', 'lagen', 'denen', 'russen', 'praktikanten', 'ten', 'hotel', 'pfirsich', 'schicksal', 'stumpfsinnig', 'unnutz', 'neuigkeit', 'zeiten', 'jedem', 'beschleunigte', 'handelte', 'benahm', 'betrunkener', 'dazugegeben', 'zugegeben', 'ums', 'genehmigt', 'angegriffen', 'lippe', 'malen', 'verursacht', 'verfolgte', 'ausgecheckt', 'leistete', 'beitrag', 'hinterging', 'entworfen', 'gejagt', 'bestanden', 'gezeigt', 'ruhrte', 'ekelt', 'duckte', 'ubertreibt', 'verstummte', 'unbehaglich', 'wehrte', 'flippte', 'geargert', 'geandert', 'panisch', 'husten', 'buckel', 'gewisser', 'ausgesorgt', 'mehrere', 'moglichkeiten', 'kaninchen', 'geheimnisse', 'durchhaltevermogen', 'oper', 'vorschriften', 'barbier', 'hohes', 'enmusikant', 'feigling', 'einsiedler', 'legende', 'pirat', 'topfer', 'priester', 'prinz', 'rassist', 'rapper', 'einsteiger', 'seemann', 'senior', 'raucher', 'wellenreiter', 'schneider', 'komischer', 'kauz', 'agnostisch', 'athletisch', 'barfu', 'sorglos', 'charmant', 'frohlich', 'ahnungslos', 'hustet', 'glaubwurdig', 'kultiviert', 'ausschlaggebend', 'geistesgestort', 'untreu', 'umstanden', 'entsprechend', 'unschlussig', 'durchnasst', 'gebildet', 'beredt', 'uberzeugend', 'flieht', 'sagenhaft', 'ausgehungert', 'flexibel', 'kraftvoll', 'friert', 'zugig', 'kichert', 'grinst', 'stohnt', 'beiden', 'beinen', 'hoffnungsloser', 'humorvoll', 'unreif', 'schock', 'unsicher', 'involviert', 'kniet', 'klopft', 'verwaltet', 'barmherzig', 'feind', 'neurotisch', 'gehorsam', 'emport', 'pervers', 'rational', 'reformiert', 'rastlos', 'zieht', 'verrichtet', 'einkaufe', 'angewidert', 'niest', 'kontaktfreudig', 'temperamentvoll', 'verhungert', 'selbstmordgefahrdet', 'schwitzt', 'taktlos', 'talentiert', 'endstadium', 'kitzelig', 'unermudlich', 'unvoreingenommen', 'entnervt', 'verschwender', 'kleinlich', 'smart', 'sprang', 'erschien', 'freilassung', 'kaution', 'gerichtsverhandlung', 'guckte', 'weitergegessen', 'weiterbewegt', 'weiterversucht', 'totete', 'kusste', 'beugte', 'blues', 'salsa', 'zundete', 'streichholz', 'schaut', 'kaltem', 'blick', 'flott', 'festgefahren', 'abgenommen', 'chili', 'supergerne', 'moge', 'aussagen', 'vermisste', 'erhalb', 'uberreagiert', 'verschied', 'rugby', 'romane', 'aufgenommen', 'hai', 'erschreckt', 'toller', 'langweilen', 'bereitwillig', 'baren', 'tenor', 'schluckchen', 'bremste', 'ergeben', 'bad', 'fotos', 'dressiert', 'erneut', 'wandte', 'meldete', 'warnte', 'beleidigend', 'unnachgiebig', 'geblendet', 'gemobbt', 'trotzig', 'betagt', 'ausweichend', 'nachsichtig', 'stohnte', 'unartig', 'keuchte', 'erfreut', 'schluchzte', 'niedergestochen', 'taser', 'beschossen', 'teilnehmen', 'fliehen', 'empfangt', 'medaille', 'gewann', 'ruhren', 'handschuhe', 'angestrengt', 'herausfinden', 'charmeur', 'experte', 'sank', 'genial', 'bewusstsein', 'saukomisch', 'cousin', 'neffe', 'absto', 'verdienen', 'aufzuhalten', 'versuche', 'gahnen', 'wande', 'hintrittst', 'zehen', 'bereits', 'verhafteten', 'nennen', 'nahmen', 'machten', 'erklarten', 'rohen', 'picknicks', 'brachten', 'waffeln', 'handeln', 'fachleute', 'duschten', 'zuruckhaben']\n"
          ],
          "name": "stdout"
        }
      ]
    },
    {
      "cell_type": "code",
      "metadata": {
        "id": "kqZ9H1KBuVc6"
      },
      "source": [
        "from sklearn.model_selection import train_test_split\n",
        "\n",
        "X_train , X_test , Y_train, Y_test = train_test_split(encoder_input_sequences, decoder_input_sequences , test_size=0.2)"
      ],
      "execution_count": null,
      "outputs": []
    },
    {
      "cell_type": "markdown",
      "metadata": {
        "id": "CuQ7B78BhLrx"
      },
      "source": [
        "**Task 3 (5 marks)** \n",
        "\n",
        "---\n",
        "\n",
        "---\n",
        "\n",
        "*  Assign each unique word an integer value (5 marks).\n",
        "*  Create word embedding for your vocabulary using pre-trained Glove embeddings (10 marks) (http://nlp.stanford.edu/data/glove.6B.zip)\n",
        "* Print the first line of the embeddings (see below) "
      ]
    },
    {
      "cell_type": "code",
      "metadata": {
        "id": "pPq-c1tqfoRO"
      },
      "source": [
        "s_word_dict = {}\n",
        "for i,w in enumerate(Source_vocabulary):\n",
        "    s_word_dict[w] = i"
      ],
      "execution_count": null,
      "outputs": []
    },
    {
      "cell_type": "code",
      "metadata": {
        "id": "tqEWYrBiykb4"
      },
      "source": [
        "t_word_dict = {}\n",
        "for i,w in enumerate(target_vocabulary):\n",
        "    t_word_dict[w] = i"
      ],
      "execution_count": null,
      "outputs": []
    },
    {
      "cell_type": "code",
      "metadata": {
        "id": "QuIr5-zMyBIo",
        "colab": {
          "base_uri": "https://localhost:8080/",
          "height": 71
        },
        "outputId": "34e98dc3-31db-4196-98ed-e7b6c0ff8cbd"
      },
      "source": [
        "print(s_word_dict)\n",
        "print(t_word_dict)"
      ],
      "execution_count": null,
      "outputs": [
        {
          "output_type": "stream",
          "text": [
            "{'tom': 0, 'i': 1, 'is': 2, 'it': 3, 'a': 4, 'im': 5, 'you': 6, 'was': 7, 'me': 8, 'we': 9, 'he': 10, 'its': 11, 'this': 12, 'that': 13, 'to': 14, 'the': 15, 'my': 16, 'do': 17, 'are': 18, 'go': 19, 'ill': 20, 'can': 21, 'toms': 22, 'were': 23, 'she': 24, 'dont': 25, 'they': 26, 'not': 27, 'like': 28, 'have': 29, 'here': 30, 'be': 31, 'thats': 32, 'come': 33, 'up': 34, 'in': 35, 'love': 36, 'him': 37, 'get': 38, 'well': 39, 'isnt': 40, 'did': 41, 'want': 42, 'youre': 43, 'need': 44, 'has': 45, 'no': 46, 'on': 47, 'am': 48, 'know': 49, 'home': 50, 'who': 51, 'got': 52, 'how': 53, 'too': 54, 'hes': 55, 'now': 56, 'will': 57, 'cant': 58, 'us': 59, 'your': 60, 'there': 61, 'see': 62, 'saw': 63, 'theyre': 64, 'help': 65, 'one': 66, 'stop': 67, 'lets': 68, 'let': 69, 'look': 70, 'out': 71, 'take': 72, 'just': 73, 'may': 74, 'what': 75, 'very': 76, 'busy': 77, 'good': 78, 'all': 79, 'at': 80, 'keep': 81, 'try': 82, 'hate': 83, 'back': 84, 'car': 85, 'so': 86, 'mary': 87, 'looks': 88, 'down': 89, 'please': 90, 'her': 91, 'for': 92, 'had': 93, 'work': 94, 'wait': 95, 'ok': 96, 'happy': 97, 'didnt': 98, 'eat': 99, 'alone': 100, 'wasnt': 101, 'give': 102, 'lost': 103, 'ive': 104, 'must': 105, 'wont': 106, 'made': 107, 'never': 108, 'stay': 109, 'seems': 110, 'why': 111, 'came': 112, 'them': 113, 'likes': 114, 'whos': 115, 'an': 116, 'again': 117, 'dog': 118, 'book': 119, 'leave': 120, 'over': 121, 'cold': 122, 'lot': 123, 'money': 124, 'hurt': 125, 'with': 126, 'went': 127, 'fine': 128, 'feel': 129, 'said': 130, 'sing': 131, 'read': 132, 'felt': 133, 'sick': 134, 'away': 135, 'new': 136, 'late': 137, 'ready': 138, 'loves': 139, 'ask': 140, 'call': 141, 'win': 142, 'right': 143, 'found': 144, 'nice': 145, 'bad': 146, 'off': 147, 'fun': 148, 'hot': 149, 'fast': 150, 'talk': 151, 'time': 152, 'great': 153, 'swim': 154, 'say': 155, 'looked': 156, 'knew': 157, 'cry': 158, 'knows': 159, 'old': 160, 'ate': 161, 'by': 162, 'mine': 163, 'job': 164, 'big': 165, 'shes': 166, 'these': 167, 'died': 168, 'hard': 169, 'miss': 170, 'drunk': 171, 'tired': 172, 'life': 173, 'more': 174, 'run': 175, 'tell': 176, 'left': 177, 'watch': 178, 'die': 179, 'walk': 180, 'quiet': 181, 'called': 182, 'his': 183, 'going': 184, 'boy': 185, 'won': 186, 'sad': 187, 'rich': 188, 'safe': 189, 'sit': 190, 'angry': 191, 'easy': 192, 'tomll': 193, 'young': 194, 'needs': 195, 'cat': 196, 'shy': 197, 'man': 198, 'find': 199, 'nobody': 200, 'mad': 201, 'show': 202, 'drive': 203, 'hope': 204, 'took': 205, 'coming': 206, 'stupid': 207, 'fish': 208, 'and': 209, 'cool': 210, 'trust': 211, 'dead': 212, 'id': 213, 'cook': 214, 'crazy': 215, 'wrong': 216, 'hungry': 217, 'nothing': 218, 'kept': 219, 'hurry': 220, 'way': 221, 'hold': 222, 'open': 223, 'free': 224, 'mean': 225, 'hurts': 226, 'broke': 227, 'early': 228, 'upset': 229, 'move': 230, 'shot': 231, 'start': 232, 'whats': 233, 'drink': 234, 'told': 235, 'play': 236, 'wants': 237, 'day': 238, 'today': 239, 'ran': 240, 'fair': 241, 'hit': 242, 'still': 243, 'use': 244, 'pay': 245, 'sure': 246, 'works': 247, 'met': 248, 'lying': 249, 'of': 250, 'tall': 251, 'lie': 252, 'inside': 253, 'gave': 254, 'first': 255, 'done': 256, 'loved': 257, 'turn': 258, 'married': 259, 'make': 260, 'does': 261, 'lied': 262, 'fat': 263, 'speak': 264, 'tv': 265, 'yes': 266, 'study': 267, 'bit': 268, 'hat': 269, 'cats': 270, 'school': 271, 'beer': 272, 'only': 273, 'should': 274, 'might': 275, 'everyone': 276, 'needed': 277, 'quit': 278, 'helped': 279, 'tried': 280, 'heres': 281, 'bored': 282, 'true': 283, 'stood': 284, 'walked': 285, 'careful': 286, 'bring': 287, 'think': 288, 'scared': 289, 'asleep': 290, 'crying': 291, 'lucky': 292, 'joke': 293, 'youll': 294, 'coffee': 295, 'plan': 296, 'agree': 297, 'cried': 298, 'smiled': 299, 'weak': 300, 'live': 301, 'dying': 302, 'yours': 303, 'put': 304, 'serious': 305, 'wine': 306, 'sat': 307, 'better': 308, 'close': 309, 'gone': 310, 'break': 311, 'nervous': 312, 'outside': 313, 'correct': 314, 'doing': 315, 'dream': 316, 'sweet': 317, 'theyll': 318, 'about': 319, 'boston': 320, 'seemed': 321, 'fell': 322, 'stayed': 323, 'some': 324, 'follow': 325, 'bed': 326, 'lazy': 327, 'awake': 328, 'sorry': 329, 'listen': 330, 'check': 331, 'hear': 332, 'tea': 333, 'itll': 334, 'bus': 335, 'buy': 336, 'where': 337, 'count': 338, 'sleep': 339, 'dance': 340, 'could': 341, 'enjoy': 342, 'working': 343, 'reading': 344, 'french': 345, 'everybody': 346, 'change': 347, 'arent': 348, 'paid': 349, 'kind': 350, 'wet': 351, 'fix': 352, 'stand': 353, 'calm': 354, 'dogs': 355, 'forget': 356, 'changed': 357, 'cheated': 358, 'blind': 359, 'tough': 360, 'fired': 361, 'men': 362, 'hows': 363, 'remember': 364, 'afraid': 365, 'bet': 366, 'alive': 367, 'hated': 368, 'food': 369, 'jealous': 370, 'theres': 371, 'lose': 372, 'funny': 373, 'wheres': 374, 'hand': 375, 'those': 376, 'key': 377, 'wife': 378, 'son': 379, 'trusted': 380, 'wanted': 381, 'hello': 382, 'perfect': 383, 'cute': 384, 'hired': 385, 'poor': 386, 'drank': 387, 'hero': 388, 'lonely': 389, 'mind': 390, 'thatll': 391, 'yourself': 392, 'dad': 393, 'strong': 394, 'bag': 395, 'asked': 396, 'cut': 397, 'milk': 398, 'liked': 399, 'kids': 400, 'naive': 401, 'talking': 402, 'talks': 403, 'best': 404, 'hates': 405, 'almost': 406, 'water': 407, 'music': 408, 'our': 409, 'small': 410, 'door': 411, 'red': 412, 'much': 413, 'shoot': 414, 'sang': 415, 'really': 416, 'thanks': 417, 'kiss': 418, 'wake': 419, 'ugly': 420, 'helps': 421, 'soon': 422, 'weird': 423, 'laughed': 424, 'obey': 425, 'worked': 426, 'ours': 427, 'smart': 428, 'boring': 429, 'rice': 430, 'smell': 431, 'missed': 432, 'anybody': 433, 'bought': 434, 'eyes': 435, 'thirsty': 436, 'monday': 437, 'simple': 438, 'wise': 439, 'hugged': 440, 'stopped': 441, 'ashamed': 442, 'black': 443, 'running': 444, 'singing': 445, 'short': 446, 'things': 447, 'guilty': 448, 'joking': 449, 'seen': 450, 'rest': 451, 'sells': 452, 'mom': 453, 'room': 454, 'caught': 455, 'arrived': 456, 'two': 457, 'fire': 458, 'begin': 459, 'join': 460, 'shut': 461, 'brave': 462, 'real': 463, 'okay': 464, 'thin': 465, 'touch': 466, 'fly': 467, 'woke': 468, 'dark': 469, 'care': 470, 'moved': 471, 'slept': 472, 'weve': 473, 'wholl': 474, 'patient': 475, 'duty': 476, 'slowly': 477, 'night': 478, 'cruel': 479, 'heard': 480, 'rude': 481, 'famous': 482, 'sleepy': 483, 'thirty': 484, 'clean': 485, 'white': 486, 'kidding': 487, 'once': 488, 'war': 489, 'owe': 490, 'fight': 491, 'curious': 492, 'strange': 493, 'blame': 494, 'dizzy': 495, 'often': 496, 'eggs': 497, 'dieting': 498, 'unlucky': 499, 'useless': 500, 'winning': 501, 'broken': 502, 'lunch': 503, 'loud': 504, 'yet': 505, 'upstairs': 506, 'girls': 507, 'doctor': 508, 'father': 509, 'ears': 510, 'divorced': 511, 'sleeping': 512, 'happen': 513, 'smoking': 514, 'boat': 515, 'dinner': 516, 'someone': 517, 'boss': 518, 'enough': 519, 'family': 520, 'trusts': 521, 'would': 522, 'youd': 523, 'confused': 524, 'killed': 525, 'relax': 526, 'hug': 527, 'long': 528, 'nodded': 529, 'waited': 530, 'bald': 531, 'next': 532, 'lies': 533, 'warn': 534, 'write': 535, 'answer': 536, 'birds': 537, 'ignore': 538, 'far': 539, 'sign': 540, 'step': 541, 'talked': 542, 'around': 543, 'moving': 544, 'god': 545, 'girl': 546, 'biased': 547, 'eating': 548, 'decide': 549, 'youve': 550, 'laugh': 551, 'liar': 552, 'fruit': 553, 'blue': 554, 'manage': 555, 'humming': 556, 'pain': 557, 'leaving': 558, 'unusual': 559, 'wounded': 560, 'secret': 561, 'trying': 562, 'shall': 563, 'kissed': 564, 'nuts': 565, 'quickly': 566, 'gun': 567, 'succeeded': 568, 'hey': 569, 'map': 570, 'books': 571, 'pizza': 572, 'women': 573, 'fool': 574, 'learn': 575, 'friend': 576, 'lawyer': 577, 'finished': 578, 'innocent': 579, 'walking': 580, 'pass': 581, 'followed': 582, 'meant': 583, 'later': 584, 'wins': 585, 'english': 586, 'pale': 587, 'japanese': 588, 'horse': 589, 'house': 590, 'worried': 591, 'helping': 592, 'been': 593, 'fault': 594, 'unfair': 595, 'ones': 596, 'became': 597, 'doesnt': 598, 'lives': 599, 'guys': 600, 'word': 601, 'idea': 602, 'turned': 603, 'smiling': 604, 'sounds': 605, 'hi': 606, 'smile': 607, 'awesome': 608, 'beat': 609, 'hang': 610, 'runs': 611, 'welcome': 612, 'spoke': 613, 'full': 614, 'tidy': 615, 'terrific': 616, 'ski': 617, 'stuck': 618, 'burned': 619, 'jump': 620, 'walks': 621, 'thank': 622, 'drove': 623, 'failed': 624, 'along': 625, 'promised': 626, 'survived': 627, 'hiding': 628, 'losing': 629, 'vote': 630, 'problem': 631, 'pick': 632, 'fit': 633, 'dressed': 634, 'snow': 635, 'face': 636, 'saved': 637, 'scream': 638, 'certain': 639, 'dancing': 640, 'healthy': 641, 'injured': 642, 'popular': 643, 'relaxed': 644, 'retired': 645, 'wealthy': 646, 'smoke': 647, 'send': 648, 'escaped': 649, 'last': 650, 'invited': 651, 'dumped': 652, 'horrible': 653, 'always': 654, 'naked': 655, 'proof': 656, 'cab': 657, 'canadian': 658, 'genius': 659, 'diabetic': 660, 'fighting': 661, 'saint': 662, 'positive': 663, 'speaking': 664, 'standing': 665, 'studying': 666, 'watching': 667, 'driving': 668, 'feet': 669, 'yelling': 670, 'insane': 671, 'dreaming': 672, 'any': 673, 'tomorrow': 674, 'kill': 675, 'cars': 676, 'smells': 677, 'after': 678, 'forgave': 679, 'own': 680, 'quite': 681, 'rescued': 682, 'mouse': 683, 'teacher': 684, 'order': 685, 'nobodys': 686, 'throw': 687, 'abroad': 688, 'honest': 689, 'warned': 690, 'adopted': 691, 'amazing': 692, 'annoyed': 693, 'engaged': 694, 'rules': 695, 'friends': 696, 'seem': 697, 'also': 698, 'end': 699, 'already': 700, 'believed': 701, 'betrayed': 702, 'bike': 703, 'table': 704, 'continue': 705, 'stabbed': 706, 'lock': 707, 'pull': 708, 'push': 709, 'wash': 710, 'grab': 711, 'tries': 712, 'jumped': 713, 'dj': 714, 'deaf': 715, 'save': 716, 'catch': 717, 'hands': 718, 'fainted': 719, 'obese': 720, 'picky': 721, 'snowed': 722, 'warm': 723, 'times': 724, 'dozed': 725, 'voted': 726, 'forgot': 727, 'anyone': 728, 'clever': 729, 'built': 730, 'canceled': 731, 'meat': 732, 'pity': 733, 'resigned': 734, 'greedy': 735, 'ruined': 736, 'pray': 737, 'oh': 738, 'sharp': 739, 'cheat': 740, 'thisll': 741, 'fought': 742, 'luck': 743, 'sec': 744, 'boys': 745, 'even': 746, 'creative': 747, 'prepared': 748, 'closer': 749, 'as': 750, 'seat': 751, 'guts': 752, 'age': 753, 'wasted': 754, 'bread': 755, 'dumb': 756, 'cash': 757, 'cake': 758, 'overslept': 759, 'gas': 760, 'fasting': 761, 'selfish': 762, 'shocked': 763, 'staying': 764, 'stunned': 765, 'trapped': 766, 'unarmed': 767, 'unhappy': 768, 'happened': 769, 'rain': 770, 'fake': 771, 'list': 772, 'wish': 773, 'card': 774, 'thief': 775, 'gets': 776, 'sent': 777, 'tipsy': 778, 'meet': 779, 'armed': 780, 'fall': 781, 'teach': 782, 'denied': 783, 'admire': 784, 'baffled': 785, 'myself': 786, 'pen': 787, 'candy': 788, 'paint': 789, 'seldom': 790, 'smelled': 791, 'fail': 792, 'wrote': 793, 'explain': 794, 'sue': 795, 'singer': 796, 'homeless': 797, 'angel': 798, 'reliable': 799, 'cancer': 800, 'salt': 801, 'empty': 802, 'immoral': 803, 'snowing': 804, 'writing': 805, 'lifes': 806, 'guess': 807, 'quietly': 808, 'spy': 809, 'scary': 810, 'silly': 811, 'silent': 812, 'paying': 813, 'woman': 814, 'expert': 815, 'something': 816, 'ignored': 817, 'comes': 818, 'beautiful': 819, 'deserved': 820, 'hide': 821, 'people': 822, 'skiing': 823, 'respect': 824, 'blood': 825, 'minute': 826, 'laughing': 827, 'thatd': 828, 'risk': 829, 'cup': 830, 'adores': 831, 'plans': 832, 'anxious': 833, 'cooking': 834, 'missing': 835, 'six': 836, 'robbed': 837, 'succeed': 838, 'survive': 839, 'special': 840, 'truth': 841, 'ball': 842, 'powerful': 843, 'song': 844, 'apple': 845, 'parties': 846, 'radio': 847, 'news': 848, 'excited': 849, 'sings': 850, 'present': 851, 'whatll': 852, 'from': 853, 'couldnt': 854, 'attack': 855, 'goodbye': 856, 'ahead': 857, 'deep': 858, 'taste': 859, 'swam': 860, 'fear': 861, 'giggled': 862, 'sober': 863, 'stinks': 864, 'loosen': 865, 'tight': 866, 'swims': 867, 'agreed': 868, 'wonderful': 869, 'aboard': 870, 'carry': 871, 'quick': 872, 'examine': 873, 'forgive': 874, 'human': 875, 'envy': 876, 'panicked': 877, 'amused': 878, 'chubby': 879, 'sneaky': 880, 'eaten': 881, 'green': 882, 'cd': 883, 'town': 884, 'dances': 885, 'drinks': 886, 'odd': 887, 'phoned': 888, 'glad': 889, 'discreet': 890, 'ruthless': 891, 'worry': 892, 'started': 893, 'twin': 894, 'dozing': 895, 'both': 896, 'math': 897, 'nurse': 898, 'vegan': 899, 'chicken': 900, 'finicky': 901, 'resting': 902, 'law': 903, 'spring': 904, 'many': 905, 'grow': 906, 'return': 907, 'blushed': 908, 'cheered': 909, 'evil': 910, 'slow': 911, 'older': 912, 'pushy': 913, 'anything': 914, 'boil': 915, 'egg': 916, 'ten': 917, 'anyway': 918, 'drop': 919, 'avoids': 920, 'poet': 921, 'cranky': 922, 'heroic': 923, 'kicked': 924, 'praying': 925, 'apples': 926, 'draw': 927, 'deserve': 928, 'doubts': 929, 'sushi': 930, 'sugar': 931, 'jokes': 932, 'sell': 933, 'teased': 934, 'thought': 935, 'understand': 936, 'stoned': 937, 'bleeding': 938, 'bluffing': 939, 'drowning': 940, 'escaping': 941, 'freezing': 942, 'grateful': 943, 'managing': 944, 'shooting': 945, 'starving': 946, 'stubborn': 947, 'scares': 948, 'focused': 949, 'looking': 950, 'lead': 951, 'closely': 952, 'arm': 953, 'set': 954, 'shame': 955, 'fox': 956, 'gold': 957, 'answered': 958, 'approved': 959, 'moody': 960, 'witty': 961, 'vanished': 962, 'strict': 963, 'apologize': 964, 'loser': 965, 'passed': 966, 'dirty': 967, 'rush': 968, 'bird': 969, 'flowers': 970, 'downstairs': 971, 'eats': 972, 'type': 973, 'tricked': 974, 'annoying': 975, 'autistic': 976, 'tokyo': 977, 'american': 978, 'coughing': 979, 'sneezing': 980, 'believe': 981, 'exaggerated': 982, 'fed': 983, 'freaked': 984, 'led': 985, 'tennis': 986, 'trains': 987, 'supper': 988, 'sold': 989, 'support': 990, 'visited': 991, 'volunteered': 992, 'furious': 993, 'tempted': 994, 'allow': 995, 'prove': 996, 'student': 997, 'important': 998, 'impressed': 999, 'danger': 1000, 'surprised': 1001, 'returned': 1002, 'nearby': 1003, 'trap': 1004, 'relief': 1005, 'possible': 1006, 'proceed': 1007, 'head': 1008, 'gate': 1009, 'stalling': 1010, 'suits': 1011, 'peace': 1012, 'suit': 1013, 'tastes': 1014, 'doll': 1015, 'absent': 1016, 'normal': 1017, 'skinny': 1018, 'unkind': 1019, 'opened': 1020, 'violent': 1021, 'second': 1022, 'snoring': 1023, 'cousins': 1024, 'doctors': 1025, 'says': 1026, 'polite': 1027, 'pretty': 1028, 'lay': 1029, 'cows': 1030, 'escape': 1031, 'deny': 1032, 'everything': 1033, 'fishing': 1034, 'flies': 1035, 'towel': 1036, 'park': 1037, 'disappeared': 1038, 'sons': 1039, 'beard': 1040, 'point': 1041, 'writer': 1042, 'wide': 1043, 'gifts': 1044, 'began': 1045, 'tomatoes': 1046, 'enjoyed': 1047, 'fever': 1048, 'sisters': 1049, 'travel': 1050, 'prefer': 1051, 'raise': 1052, 'somebody': 1053, 'homesick': 1054, 'glasses': 1055, 'handle': 1056, 'guy': 1057, 'getting': 1058, 'trouble': 1059, 'rather': 1060, 'their': 1061, 'large': 1062, 'name': 1063, 'bill': 1064, 'cooks': 1065, 'plays': 1066, 'foolish': 1067, 'train': 1068, 'chose': 1069, 'waiting': 1070, 'neat': 1071, 'understood': 1072, 'wore': 1073, 'swimming': 1074, 'brothers': 1075, 'helpless': 1076, 'whod': 1077, 'everyones': 1078, 'stared': 1079, 'cheating': 1080, 'every': 1081, 'relieved': 1082, 'terrible': 1083, 'cheap': 1084, 'sounded': 1085, 'mouth': 1086, 'snore': 1087, 'brief': 1088, 'humor': 1089, 'refuse': 1090, 'shaved': 1091, 'yawned': 1092, 'game': 1093, 'wept': 1094, 'aim': 1095, 'bless': 1096, 'awful': 1097, 'clapped': 1098, 'hung': 1099, 'promise': 1100, 'needy': 1101, 'sand': 1102, 'course': 1103, 'then': 1104, 'waved': 1105, 'unlock': 1106, 'cares': 1107, 'idiot': 1108, 'stink': 1109, 'dig': 1110, 'faster': 1111, 'burns': 1112, 'd': 1113, 'gum': 1114, 'disagree': 1115, 'art': 1116, 'listened': 1117, 'air': 1118, 'ice': 1119, 'threw': 1120, 'monk': 1121, 'baking': 1122, 'humble': 1123, 'rested': 1124, 'single': 1125, 'clear': 1126, 'windy': 1127, 'jesus': 1128, 'cheese': 1129, 'aside': 1130, 'nap': 1131, 'cover': 1132, 'burped': 1133, 'danced': 1134, 'drives': 1135, 'prayed': 1136, 'winked': 1137, 'yelled': 1138, 'harder': 1139, 'bother': 1140, 'wood': 1141, 'merciful': 1142, 'sensible': 1143, 'tolerant': 1144, 'panic': 1145, 'finish': 1146, 'eight': 1147, 'relented': 1148, 'squinted': 1149, 'jerk': 1150, 'exercised': 1151, 'bugs': 1152, 'mice': 1153, 'hesitated': 1154, 'jazz': 1155, 'beef': 1156, 'rock': 1157, 'lips': 1158, 'recovered': 1159, 'ufo': 1160, 'attend': 1161, 'baker': 1162, 'child': 1163, 'medic': 1164, 'sincere': 1165, 'starved': 1166, 'stuffed': 1167, 'through': 1168, 'touched': 1169, 'foggy': 1170, 'legal': 1171, 'rule': 1172, 'urgent': 1173, 'memorize': 1174, 'means': 1175, 'plants': 1176, 'clap': 1177, 'release': 1178, 'bite': 1179, 'slower': 1180, 'hers': 1181, 'coughed': 1182, 'vain': 1183, 'listens': 1184, 'refused': 1185, 'shouted': 1186, 'sweated': 1187, 'share': 1188, 'bore': 1189, 'team': 1190, 'abandon': 1191, 'ship': 1192, 'cops': 1193, 'attentive': 1194, 'forward': 1195, 'deal': 1196, 'ghosts': 1197, 'half': 1198, 'donut': 1199, 'driven': 1200, 'arrogant': 1201, 'barbaric': 1202, 'exciting': 1203, 'pathetic': 1204, 'romantic': 1205, 'apologized': 1206, 'lip': 1207, 'beans': 1208, 'liars': 1209, 'improvised': 1210, 'games': 1211, 'piano': 1212, 'lion': 1213, 'shaken': 1214, 'wonder': 1215, 'coward': 1216, 'hunter': 1217, 'mother': 1218, 'addicted': 1219, 'anorexic': 1220, 'artistic': 1221, 'expected': 1222, 'grounded': 1223, 'gullible': 1224, 'hungover': 1225, 'offended': 1226, 'pregnant': 1227, 'restless': 1228, 'thorough': 1229, 'ticklish': 1230, 'checked': 1231, 'deer': 1232, 'curse': 1233, 'steal': 1234, 'raining': 1235, 'goes': 1236, 'pigs': 1237, 'jaw': 1238, 'shrieked': 1239, 'louder': 1240, 'softly': 1241, 'whining': 1242, 'dreams': 1243, 'coat': 1244, 'approve': 1245, 'flinched': 1246, 'frank': 1247, 'heavy': 1248, 'ex': 1249, 'stoic': 1250, 'vague': 1251, 'filthy': 1252, 'starve': 1253, 'closed': 1254, 'doomed': 1255, 'scare': 1256, 'grown': 1257, 'add': 1258, 'mistaken': 1259, 'else': 1260, 'fan': 1261, 'security': 1262, 'skate': 1263, 'faint': 1264, 'favor': 1265, 'respond': 1266, 'feed': 1267, 'clock': 1268, 'kite': 1269, 'grows': 1270, 'braces': 1271, 'skating': 1272, 'grouch': 1273, 'friendly': 1274, 'or': 1275, 'nose': 1276, 'admired': 1277, 'muslim': 1278, 'paris': 1279, 'belong': 1280, 'blacked': 1281, 'caused': 1282, 'contributed': 1283, 'cough': 1284, 'dislike': 1285, 'chess': 1286, 'clue': 1287, 'winter': 1288, 'orders': 1289, 'kid': 1290, 'garlic': 1291, 'horses': 1292, 'movies': 1293, 'sports': 1294, 'sweets': 1295, 'autumn': 1296, 'nature': 1297, 'pandas': 1298, 'fist': 1299, 'resist': 1300, 'nearly': 1301, 'loan': 1302, 'bullied': 1303, 'watched': 1304, 'page': 1305, 'painter': 1306, 'redhead': 1307, 'soldier': 1308, 'suspect': 1309, 'addict': 1310, 'artist': 1311, 'concerned': 1312, 'convinced': 1313, 'dangerous': 1314, 'depressed': 1315, 'different': 1316, 'listening': 1317, 'diet': 1318, 'skeptical': 1319, 'uninsured': 1320, 'llama': 1321, 'wig': 1322, 'flat': 1323, 'worse': 1324, 'takes': 1325, 'gift': 1326, 'p': 1327, 'm': 1328, 'saturday': 1329, 'hopeless': 1330, 'treat': 1331, 'occupied': 1332, 'unlikely': 1333, 'moment': 1334, 'enter': 1335, 'foot': 1336, 'knee': 1337, 'dice': 1338, 'livid': 1339, 'together': 1340, 'stir': 1341, 'soup': 1342, 'sweep': 1343, 'shower': 1344, 'differ': 1345, 'fact': 1346, 'brown': 1347, 'japan': 1348, 'applauded': 1349, 'confessed': 1350, 'disagreed': 1351, 'baby': 1352, 'crafty': 1353, 'wicked': 1354, 'remembers': 1355, 'rushed': 1356, 'texted': 1357, 'weary': 1358, 'zoomed': 1359, 'elderly': 1360, 'limping': 1361, 'packing': 1362, 'floor': 1363, 'focus': 1364, 'enemies': 1365, 'lawyers': 1366, 'sinking': 1367, 'nonsense': 1368, 'which': 1369, 'whose': 1370, 'mail': 1371, 'modest': 1372, 'act': 1373, 'aint': 1374, 'engine': 1375, 'death': 1376, 'dinners': 1377, 'tigers': 1378, 'lines': 1379, 'year': 1380, 'accelerated': 1381, 'dislikes': 1382, 'actor': 1383, 'delicate': 1384, 'uncle': 1385, 'outgoing': 1386, 'stern': 1387, 'owes': 1388, 'high': 1389, 'banana': 1390, 'church': 1391, 'stroke': 1392, 'jeans': 1393, 'spiders': 1394, 'spinach': 1395, 'hunch': 1396, 'hurried': 1397, 'guessed': 1398, 'cookies': 1399, 'hunt': 1400, 'animals': 1401, 'bananas': 1402, 'city': 1403, 'puzzles': 1404, 'sea': 1405, 'justice': 1406, 'captured': 1407, 'sweating': 1408, 'aunt': 1409, 'behind': 1410, 'undressing': 1411, 'remarried': 1412, 'worth': 1413, 'bear': 1414, 'makes': 1415, 'christmas': 1416, 'insult': 1417, 'risky': 1418, 'tag': 1419, 'maybe': 1420, 'idiots': 1421, 'desk': 1422, 'hair': 1423, 'ache': 1424, 'prices': 1425, 'science': 1426, 'ditched': 1427, 'fooled': 1428, 'awkward': 1429, 'summer': 1430, 'magic': 1431, 'crime': 1432, 'illegal': 1433, 'logical': 1434, 'rose': 1435, 'roof': 1436, 'snag': 1437, 'backed': 1438, 'complained': 1439, 'hole': 1440, 'mugged': 1441, 'grew': 1442, 'ford': 1443, 'intervened': 1444, 'amusing': 1445, 'devious': 1446, 'devoted': 1447, 'dubious': 1448, 'enraged': 1449, 'frantic': 1450, 'helpful': 1451, 'hurting': 1452, 'naughty': 1453, 'panting': 1454, 'pleased': 1455, 'psychic': 1456, 'puzzled': 1457, 'sobbing': 1458, 'spoiled': 1459, 'noise': 1460, 'pinched': 1461, 'remembered': 1462, 'twice': 1463, 'slapped': 1464, 'risks': 1465, 'charming': 1466, 'cheerful': 1467, 'fearless': 1468, 'grieving': 1469, 'grinning': 1470, 'harmless': 1471, 'stranded': 1472, 'unstable': 1473, 'shook': 1474, 'surrendered': 1475, 'wed': 1476, 'decisive': 1477, 'famished': 1478, 'students': 1479, 'quitting': 1480, 'wind': 1481, 'ghost': 1482, 'content': 1483, 'afford': 1484, 'crows': 1485, 'tie': 1486, 'harm': 1487, 'interrupt': 1488, 'rub': 1489, 'carefully': 1490, 'acts': 1491, 'soccer': 1492, 'outraged': 1493, 'writes': 1494, 'lit': 1495, 'adventurous': 1496, 'orange': 1497, 'same': 1498, 'children': 1499, 'homework': 1500, 'shopping': 1501, 'weddings': 1502, 'sister': 1503, 'dry': 1504, 'keys': 1505, 'havent': 1506, 'area': 1507, 'baseball': 1508, 'party': 1509, 'played': 1510, 'guitar': 1511, 'relied': 1512, 'taxi': 1513, 'guest': 1514, 'niece': 1515, 'rival': 1516, 'able': 1517, 'arguing': 1518, 'texting': 1519, 'tied': 1520, 'handsome': 1521, 'necessary': 1522, 'sky': 1523, 'shoes': 1524, 'childish': 1525, 'doubtful': 1526, 'knife': 1527, 'acted': 1528, 'baked': 1529, 'believes': 1530, 'company': 1531, 'inspired': 1532, 'bossy': 1533, 'fussy': 1534, 'leaned': 1535, 'lived': 1536, 'dazed': 1537, 'tense': 1538, 'reads': 1539, 'wow': 1540, 'cheers': 1541, 'freeze': 1542, 'hop': 1543, 'cheer': 1544, 'cuff': 1545, 'resign': 1546, 'marry': 1547, 'seated': 1548, 'chill': 1549, 'bark': 1550, 'excuse': 1551, 'fantastic': 1552, 'goodnight': 1553, 'sexy': 1554, 'cured': 1555, 'aah': 1556, 'below': 1557, 'seize': 1558, 'seriously': 1559, 'bowed': 1560, 'froze': 1561, 'knits': 1562, 'rocks': 1563, 'swore': 1564, 'higher': 1565, 'bottoms': 1566, 'choose': 1567, 'definitely': 1568, 'destroy': 1569, 'brag': 1570, 'peek': 1571, 'yell': 1572, 'calls': 1573, 'fill': 1574, 'exists': 1575, 'faith': 1576, 'swiss': 1577, 'absurd': 1578, 'lovely': 1579, 'tragic': 1580, 'admit': 1581, 'chew': 1582, 'fixed': 1583, 'anemic': 1584, 'buying': 1585, 'immune': 1586, 'mature': 1587, 'twelve': 1588, 'happens': 1589, 'matters': 1590, 'fad': 1591, 'bulky': 1592, 'shiny': 1593, 'lasts': 1594, 'mama': 1595, 'comment': 1596, 'replace': 1597, 'scoot': 1598, 'shadow': 1599, 'agrees': 1600, 'cheats': 1601, 'gasped': 1602, 'goofed': 1603, 'moaned': 1604, 'obeyed': 1605, 'paints': 1606, 'paused': 1607, 'sighed': 1608, 'smoked': 1609, 'smokes': 1610, 'snores': 1611, 'cds': 1612, 'gives': 1613, 'specific': 1614, 'vigilant': 1615, 'watchful': 1616, 'beers': 1617, 'comfort': 1618, 'contact': 1619, 'stare': 1620, 'flip': 1621, 'coin': 1622, 'loaded': 1623, 'online': 1624, 'taller': 1625, 'assume': 1626, 'class': 1627, 'glue': 1628, 'oppose': 1629, 'surrender': 1630, 'cancel': 1631, 'klutz': 1632, 'loner': 1633, 'debt': 1634, 'jail': 1635, 'tasty': 1636, 'yen': 1637, 'cloudy': 1638, 'futile': 1639, 'locked': 1640, 'poison': 1641, 'across': 1642, 'split': 1643, 'timing': 1644, 'curt': 1645, 'action': 1646, 'huge': 1647, 'tvs': 1648, 'belched': 1649, 'blinked': 1650, 'decided': 1651, 'drowned': 1652, 'exhaled': 1653, 'frowned': 1654, 'gloated': 1655, 'grinned': 1656, 'groaned': 1657, 'ocd': 1658, 'inhaled': 1659, 'slim': 1660, 'kneeled': 1661, 'noticed': 1662, 'painted': 1663, 'prepaid': 1664, 'slipped': 1665, 'sneezed': 1666, 'teaches': 1667, 'tripped': 1668, 'vomited': 1669, 'alert': 1670, 'flaky': 1671, 'cnn': 1672, 'hell': 1673, 'stole': 1674, 'dump': 1675, 'loss': 1676, 'mess': 1677, 'ego': 1678, 'floats': 1679, 'objective': 1680, 'realistic': 1681, 'backup': 1682, 'fbi': 1683, 'describe': 1684, 'bug': 1685, 'safely': 1686, 'rifle': 1687, 'exist': 1688, 'evening': 1689, 'easter': 1690, 'snack': 1691, 'another': 1692, 'courage': 1693, 'bigot': 1694, 'honesty': 1695, 'pays': 1696, 'dare': 1697, 'touching': 1698, 'chinese': 1699, 'caviar': 1700, 'burp': 1701, 'detest': 1702, 'giddy': 1703, 'jogging': 1704, 'tests': 1705, 'hives': 1706, 'trips': 1707, 'rarely': 1708, 'star': 1709, 'suppose': 1710, 'sympathize': 1711, 'facts': 1712, 'pisces': 1713, 'purist': 1714, 'dyslexic': 1715, 'eighteen': 1716, 'perth': 1717, 'jam': 1718, 'rebel': 1719, 'stronger': 1720, 'worn': 1721, 'solid': 1722, 'iron': 1723, 'wolf': 1724, 'begun': 1725, 'plant': 1726, 'bedtime': 1727, 'bizarre': 1728, 'hailing': 1729, 'hearsay': 1730, 'morning': 1731, 'low': 1732, 'ladies': 1733, 'hip': 1734, 'cared': 1735, 'schools': 1736, 'sued': 1737, 'babe': 1738, 'while': 1739, 'filming': 1740, 'gawking': 1741, 'staring': 1742, 'command': 1743, 'control': 1744, 'trash': 1745, 'theyve': 1746, 'approves': 1747, 'chuckled': 1748, 'enlisted': 1749, 'grimaced': 1750, 'grumbled': 1751, 'acne': 1752, 'insisted': 1753, 'vet': 1754, 'frail': 1755, 'loyal': 1756, 'messy': 1757, 'objected': 1758, 'screamed': 1759, 'shivered': 1760, 'shrugged': 1761, 'stutters': 1762, 'nosy': 1763, 'whistled': 1764, 'amazed': 1765, 'unbelievable': 1766, 'arabs': 1767, 'dating': 1768, 'years': 1769, 'amuse': 1770, 'annoy': 1771, 'gross': 1772, 'questions': 1773, 'reasonable': 1774, 'drown': 1775, 'reply': 1776, 'mock': 1777, 'circle': 1778, 'healthily': 1779, 'peas': 1780, 'exhale': 1781, 'bloom': 1782, 'flying': 1783, 'fry': 1784, 'few': 1785, 'ham': 1786, 'advises': 1787, 'blog': 1788, 'lots': 1789, 'austrian': 1790, 'jesuit': 1791, 'bled': 1792, 'rope': 1793, 'thrilling': 1794, 'despise': 1795, 'queasy': 1796, 'flu': 1797, 'celery': 1798, 'date': 1799, 'ring': 1800, 'visa': 1801, 'sinned': 1802, 'voices': 1803, 'clocks': 1804, 'donuts': 1805, 'onions': 1806, 'reggae': 1807, 'salmon': 1808, 'spoons': 1809, 'tulips': 1810, 'camels': 1811, 'crew': 1812, 'stamps': 1813, 'violin': 1814, 'rely': 1815, 'plane': 1816, 'crown': 1817, 'rat': 1818, 'twitter': 1819, 'pony': 1820, 'pool': 1821, 'hiking': 1822, 'nights': 1823, 'poems': 1824, 'songs': 1825, 'cripple': 1826, 'dentist': 1827, 'fireman': 1828, 'tourist': 1829, 'orphan': 1830, 'easygoing': 1831, 'exhausted': 1832, 'expecting': 1833, 'flattered': 1834, 'impatient': 1835, 'gang': 1836, 'denial': 1837, 'miserable': 1838, 'motivated': 1839, 'satisfied': 1840, 'saying': 1841, 'damaged': 1842, 'bat': 1843, 'apart': 1844, 'sickens': 1845, 'chilly': 1846, 'superb': 1847, 'fungus': 1848, 'accurate': 1849, 'honor': 1850, 'business': 1851, 'gorgeous': 1852, 'improved': 1853, 'inhumane': 1854, 'midnight': 1855, 'obsolete': 1856, 'optional': 1857, 'unlocked': 1858, 'climbing': 1859, 'paddling': 1860, 'mortal': 1861, 'meats': 1862, 'scarce': 1863, 'moms': 1864, 'hairs': 1865, 'aches': 1866, 'names': 1867, 'neck': 1868, 'owls': 1869, 'robe': 1870, 'aloud': 1871, 'roll': 1872, 'bent': 1873, 'active': 1874, 'obeys': 1875, 'cutie': 1876, 'clearly': 1877, 'ease': 1878, 'bragging': 1879, 'meddling': 1880, 'shouting': 1881, 'straighten': 1882, 'number': 1883, 'saturn': 1884, 'copy': 1885, 'myth': 1886, 'tree': 1887, 'doable': 1888, 'bell': 1889, 'rang': 1890, 'asian': 1891, 'fools': 1892, 'spies': 1893, 'dvd': 1894, 'pun': 1895, 'blames': 1896, 'exercises': 1897, 'graduated': 1898, 'chef': 1899, 'jock': 1900, 'slob': 1901, 'temp': 1902, 'wimp': 1903, 'frugal': 1904, 'loving': 1905, 'unwell': 1906, 'joined': 1907, 'protested': 1908, 'pushed': 1909, 'raised': 1910, 'staggered': 1911, 'taught': 1912, 'west': 1913, 'whispered': 1914, 'choking': 1915, 'till': 1916, 'wax': 1917, 'paper': 1918, 'tools': 1919, 'parents': 1920, 'stalled': 1921, 'winners': 1922, 'hassle': 1923, 'when': 1924, 'whens': 1925, 'responded': 1926, 'sweaty': 1927, 'coke': 1928, 'babies': 1929, 'qualified': 1930, 'hiring': 1931, 'boats': 1932, 'sink': 1933, 'brace': 1934, 'cage': 1935, 'grass': 1936, 'notice': 1937, 'object': 1938, 'purr': 1939, 'yoga': 1940, 'recycle': 1941, 'complain': 1942, 'tempt': 1943, 'salad': 1944, 'dies': 1945, 'form': 1946, 'rid': 1947, 'kick': 1948, 'ride': 1949, 'golf': 1950, 'afternoon': 1951, 'birthday': 1952, 'holidays': 1953, 'cannot': 1954, 'flew': 1955, 'bankrupt': 1956, 'keeps': 1957, 'learns': 1958, 'respects': 1959, 'scolded': 1960, 'butcher': 1961, 'fanatic': 1962, 'gambler': 1963, 'samurai': 1964, 'slacker': 1965, 'animal': 1966, 'author': 1967, 'con': 1968, 'outlaw': 1969, 'henpecked': 1970, 'prison': 1971, 'ached': 1972, 'brakes': 1973, 'disgusting': 1974, 'perceptive': 1975, 'accept': 1976, 'hungarian': 1977, 'london': 1978, 'danish': 1979, 'borrow': 1980, 'leg': 1981, 'despised': 1982, 'flunk': 1983, 'gamble': 1984, 'seasick': 1985, 'guarantee': 1986, 'hailed': 1987, 'mondays': 1988, 'insects': 1989, 'ironing': 1990, 'karaoke': 1991, 'riddles': 1992, 'truck': 1993, 'amnesia': 1994, 'diary': 1995, 'castles': 1996, 'drawing': 1997, 'ketchup': 1998, 'lettuce': 1999, 'mahjong': 2000, 'noodles': 2001, 'oysters': 2002, 'sashimi': 2003, 'seafood': 2004, 'stories': 2005, 'sun': 2006, 'turtles': 2007, 'harvard': 2008, 'almonds': 2009, 'carrots': 2010, 'dessert': 2011, 'lasagna': 2012, 'ipod': 2013, 'sunsets': 2014, 'college': 2015, 'decline': 2016, 'broom': 2017, 'hobby': 2018, 'stamp': 2019, 'answers': 2020, 'privacy': 2021, 'surgery': 2022, 'hiccup': 2023, 'taxes': 2024, 'plead': 2025, 'cattle': 2026, 'five': 2027, 'serve': 2028, 'sneeze': 2029, 'korean': 2030, 'light': 2031, 'usually': 2032, 'chair': 2033, 'glass': 2034, 'puppy': 2035, 'popcorn': 2036, 'revenge': 2037, 'outdoors': 2038, 'poisoned': 2039, 'tortured': 2040, 'wear': 2041, 'prosper': 2042, 'phone': 2043, 'scold': 2044, 'beginner': 2045, 'botanist': 2046, 'musician': 2047, 'pacifist': 2048, 'prisoner': 2049, 'salesman': 2050, 'stuntman': 2051, 'teenager': 2052, 'weakling': 2053, 'against': 2054, 'atheist': 2055, 'officer': 2056, 'being': 2057, 'used': 2058, 'devastated': 2059, 'farsighted': 2060, 'fascinated': 2061, 'having': 2062, 'illiterate': 2063, 'interested': 2064, 'making': 2065, 'meditating': 2066, 'quitter': 2067, 'holiday': 2068, 'optimistic': 2069, 'overweight': 2070, 'overworked': 2071, 'successful': 2072, 'taking': 2073, 'oldest': 2074, 'unemployed': 2075, 'untalented': 2076, 'using': 2077, 'stew': 2078, 'weapon': 2079, 'hint': 2080, 'mug': 2081, 'fee': 2082, 'costs': 2083, 'sense': 2084, 'sale': 2085, 'wednesday': 2086, 'bargain': 2087, 'classic': 2088, 'admirable': 2089, 'ambush': 2090, 'beyond': 2091, 'brand': 2092, 'confusing': 2093, 'delicious': 2094, 'difficult': 2095, 'forbidden': 2096, 'grotesque': 2097, 'incorrect': 2098, 'marvelous': 2099, 'pointless': 2100, 'redundant': 2101, 'hour': 2102, 'posted': 2103, 'searching': 2104, 'kissing': 2105, 'lend': 2106, 'practice': 2107, 'blonde': 2108, 'power': 2109, 'mums': 2110, 'chest': 2111, 'heart': 2112, 'sore': 2113, 'joints': 2114, 'tires': 2115, 'tooth': 2116, 'wrist': 2117, 'nobodyll': 2118, 'pout': 2119, 'doors': 2120, 'pack': 2121, 'gear': 2122, 'tune': 2123, 'prepare': 2124, 'seals': 2125, 'choked': 2126, 'misses': 2127, 'bach': 2128, 'types': 2129, 'hottie': 2130, 'snap': 2131, 'counting': 2132, 'gossiping': 2133, 'grumbling': 2134, 'resisting': 2135, 'sniffling': 2136, 'whistling': 2137, 'picture': 2138, 'advice': 2139, 'ideal': 2140, 'given': 2141, 'skull': 2142, 'tower': 2143, 'evident': 2144, 'hogwash': 2145, 'line': 2146, 'plastic': 2147, 'rubbish': 2148, 'typical': 2149, 'barked': 2150, 'price': 2151, 'leaks': 2152, 'adore': 2153, 'quarreled': 2154, 'struggled': 2155, 'annoys': 2156, 'bites': 2157, 'test': 2158, 'creepy': 2159, 'theirs': 2160, 'appears': 2161, 'approached': 2162, 'barely': 2163, 'biked': 2164, 'brews': 2165, 'dialed': 2166, 'draws': 2167, 'dug': 2168, 'easily': 2169, 'feels': 2170, 'woozy': 2171, 'bigger': 2172, 'busted': 2173, 'fatter': 2174, 'hacked': 2175, 'grabbed': 2176, 'roses': 2177, 'ph': 2178, 'limp': 2179, 'asthma': 2180, 'issues': 2181, 'scurvy': 2182, 'talent': 2183, 'rats': 2184, 'biker': 2185, 'blond': 2186, 'dwarf': 2187, 'guard': 2188, 'lefty': 2189, 'miner': 2190, 'minor': 2191, 'moron': 2192, 'pilot': 2193, 'rabbi': 2194, 'average': 2195, 'callous': 2196, 'complex': 2197, 'cynical': 2198, 'dusting': 2199, 'elusive': 2200, 'excused': 2201, 'falling': 2202, 'gasping': 2203, 'grouchy': 2204, 'hideous': 2205, 'history': 2206, 'intense': 2207, 'jittery': 2208, 'jobless': 2209, 'likable': 2210, 'lovable': 2211, 'miserly': 2212, 'idol': 2213, 'neutral': 2214, 'nodding': 2215, 'obscene': 2216, 'playing': 2217, 'pompous': 2218, 'precise': 2219, 'quicker': 2220, 'radical': 2221, 'shaking': 2222, 'shallow': 2223, 'shaving': 2224, 'similar': 2225, 'sitting': 2226, 'sloshed': 2227, 'smarter': 2228, 'smashed': 2229, 'tactful': 2230, 'teasing': 2231, 'unfazed': 2232, 'unmoved': 2233, 'vicious': 2234, 'willing': 2235, 'yawning': 2236, 'sane': 2237, 'knelt': 2238, 'guns': 2239, 'tuna': 2240, 'misled': 2241, 'owns': 2242, 'punched': 2243, 'rewrote': 2244, 'calmly': 2245, 'notes': 2246, 'volunteers': 2247, 'beaten': 2248, 'bright': 2249, 'framed': 2250, 'fuming': 2251, 'gentle': 2252, 'grumpy': 2253, 'sewing': 2254, 'square': 2255, 'touchy': 2256, 'unhurt': 2257, 'untidy': 2258, 'improve': 2259, 'threat': 2260, 'gut': 2261, 'sauce': 2262, 'charm': 2263, 'road': 2264, 'blast': 2265, 'farm': 2266, 'guests': 2267, 'shots': 2268, 'earlier': 2269, 'bury': 2270, 'geniuses': 2271, 'partners': 2272, 'country': 2273, 'atm': 2274, 'tip': 2275, 'side': 2276, 'removed': 2277, 'wipe': 2278, 'morons': 2279, 'disgust': 2280, 'flatter': 2281, 'capsized': 2282, 'suggestions': 2283, 'envious': 2284, 'instead': 2285, 'balls': 2286, 'round': 2287, 'bees': 2288, 'honey': 2289, 'behave': 2290, 'brush': 2291, 'husband': 2292, 'police': 2293, 'chip': 2294, 'skip': 2295, 'whistle': 2296, 'boxes': 2297, 'if': 2298, 'congratulations': 2299, 'confess': 2300, 'protest': 2301, 'rap': 2302, 'snob': 2303, 'stingy': 2304, 'freak': 2305, 'interfere': 2306, 'misbehave': 2307, 'overdo': 2308, 'remind': 2309, 'tease': 2310, 'sheep': 2311, 'bags': 2312, 'trip': 2313, 'claps': 2314, 'everythings': 2315, 'fetch': 2316, 'frogs': 2317, 'tool': 2318, 'box': 2319, 'lawn': 2320, 'doughnut': 2321, 'dawn': 2322, 'into': 2323, 'ambition': 2324, 'camera': 2325, 'intrigues': 2326, 'ethiopian': 2327, 'dreamer': 2328, 'sly': 2329, 'unmarried': 2330, 'mentioned': 2331, 'laughs': 2332, 'radios': 2333, 'whisky': 2334, 'shouts': 2335, 'studied': 2336, 'surfing': 2337, 'comedian': 2338, 'frat': 2339, 'gardener': 2340, 'southpaw': 2341, 'antisocial': 2342, 'brother': 2343, 'forty': 2344, 'paraplegic': 2345, 'photogenic': 2346, 'helium': 2347, 'album': 2348, 'hoist': 2349, 'sails': 2350, 'candle': 2351, 'interesting': 2352, 'unfortunate': 2353, 'howd': 2354, 'howre': 2355, 'hypnotism': 2356, 'abhor': 2357, 'spain': 2358, 'appreciate': 2359, 'beg': 2360, 'tongue': 2361, 'booked': 2362, 'loudly': 2363, 'breathe': 2364, 'undo': 2365, 'consulted': 2366, 'contacted': 2367, 'cooked': 2368, 'couldve': 2369, 'cycle': 2370, 'disobeyed': 2371, 'downloaded': 2372, 'expect': 2373, 'feverish': 2374, 'isolated': 2375, 'funerals': 2376, 'politics': 2377, 'raccoons': 2378, 'reptiles': 2379, 'rug': 2380, 'donkey': 2381, 'laptop': 2382, 'theory': 2383, 'ticket': 2384, 'diabetes': 2385, 'skin': 2386, 'freckles': 2387, 'pens': 2388, 'drum': 2389, 'rains': 2390, 'elbow': 2391, 'intend': 2392, 'showered': 2393, 'learned': 2394, 'cartoons': 2395, 'eggplant': 2396, 'football': 2397, 'potatoes': 2398, 'interest': 2399, 'broccoli': 2400, 'comedies': 2401, 'westerns': 2402, 'misjudged': 2403, 'army': 2404, 'misunderstood': 2405, 'legs': 2406, 'internet': 2407, 'bucket': 2408, 'hammer': 2409, 'ladder': 2410, 'tissue': 2411, 'caffeine': 2412, 'boots': 2413, 'shave': 2414, 'ordered': 2415, 'bills': 2416, 'biking': 2417, 'letter': 2418, 'recommend': 2419, 'respected': 2420, 'movie': 2421, 'scored': 2422, 'goal': 2423, 'giraffe': 2424, 'pattern': 2425, 'bacon': 2426, 'swedish': 2427, 'supported': 2428, 'vitamins': 2429, 'refund': 2430, 'mommy': 2431, 'witness': 2432, 'born': 2433, 'courteous': 2434, 'dismissed': 2435, 'entranced': 2436, 'horrified': 2437, 'misquoted': 2438, 'mortified': 2439, 'bar': 2440, 'fork': 2441, 'soda': 2442, 'assist': 2443, 'defend': 2444, 'inform': 2445, 'mention': 2446, 'notify': 2447, 'jackson': 2448, 'christian': 2449, 'biologist': 2450, 'carpenter': 2451, 'chauffeur': 2452, 'communist': 2453, 'detective': 2454, 'housewife': 2455, 'lifeguard': 2456, 'masochist': 2457, 'owl': 2458, 'paramedic': 2459, 'policeman': 2460, 'professor': 2461, 'therapist': 2462, 'aquarius': 2463, 'engineer': 2464, 'optimist': 2465, 'begging': 2466, 'stiff': 2467, 'calling': 2468, 'catching': 2469, 'celebrating': 2470, 'chewing': 2471, 'color': 2472, 'constipated': 2473, 'cooperating': 2474, 'daydreaming': 2475, 'embarrassed': 2476, 'enjoying': 2477, 'feeling': 2478, 'asking': 2479, 'handed': 2480, 'nearsighted': 2481, 'crook': 2482, 'vacation': 2483, 'persevering': 2484, 'replaceable': 2485, 'spontaneous': 2486, 'such': 2487, 'copilot': 2488, 'unimpressed': 2489, 'choosy': 2490, 'waiter': 2491, 'babbling': 2492, 'infected': 2493, 'breathing': 2494, 'near': 2495, 'poisonous': 2496, 'salty': 2497, 'zebra': 2498, 'allowed': 2499, 'cafe': 2500, 'river': 2501, 'ethical': 2502, 'friday': 2503, 'blew': 2504, 'seven': 2505, 'mortifies': 2506, 'tasted': 2507, 'ages': 2508, 'ago': 2509, 'enticing': 2510, 'handmade': 2511, 'painless': 2512, 'matter': 2513, 'badly': 2514, 'pheasant': 2515, 'shortcut': 2516, 'surprise': 2517, 'acceptable': 2518, 'dirt': 2519, 'impossible': 2520, 'improbable': 2521, 'inadequate': 2522, 'incredible': 2523, 'irrelevant': 2524, 'misleading': 2525, 'bomb': 2526, 'ridiculous': 2527, 'sufficient': 2528, 'terrifying': 2529, 'wrap': 2530, 'updated': 2531, 'practicing': 2532, 'knead': 2533, 'dough': 2534, 'metal': 2535, 'message': 2536, 'lemons': 2537, 'sour': 2538, 'ditch': 2539, 'kites': 2540, 'improvise': 2541, 'negotiate': 2542, 'visit': 2543, 'served': 2544, 'decision': 2545, 'smaller': 2546, 'widow': 2547, 'alto': 2548, 'marys': 2549, 'quote': 2550, 'merry': 2551, 'mistakes': 2552, 'shrank': 2553, 'squeak': 2554, 'gray': 2555, 'grey': 2556, 'throat': 2557, 'seeing': 2558, 'changes': 2559, 'october': 2560, 'bottle': 2561, 'window': 2562, 'fence': 2563, 'peel': 2564, 'place': 2565, 'bets': 2566, 'button': 2567, 'rejection': 2568, 'remove': 2569, 'repeat': 2570, 'drugs': 2571, 'bores': 2572, 'secure': 2573, 'tonight': 2574, 'sharks': 2575, 'beauty': 2576, 'runner': 2577, 'graceful': 2578, 'caucasian': 2579, 'assertive': 2580, 'seventeen': 2581, 'cards': 2582, 'straight': 2583, 'spanish': 2584, 'spelling': 2585, 'hitting': 2586, 'whimpering': 2587, 'aspirin': 2588, 'chances': 2589, 'pills': 2590, 'story': 2591, 'frankly': 2592, 'cost': 2593, 'pagoda': 2594, 'pencil': 2595, 'dress': 2596, 'stuff': 2597, 'personal': 2598, 'damp': 2599, 'babys': 2600, 'bikes': 2601, 'growled': 2602, 'foods': 2603, 'stank': 2604, 'lake': 2605, 'leaves': 2606, 'moon': 2607, 'oven': 2608, 'powers': 2609, 'soups': 2610, 'taxis': 2611, 'howled': 2612, 'soap': 2613, 'fresh': 2614, 'actors': 2615, 'melons': 2616, 'pilots': 2617, 'yellow': 2618, 'russian': 2619, 'interns': 2620, 'tallest': 2621, 'hotel': 2622, 'peach': 2623, 'fate': 2624, 'each': 2625, 'added': 2626, 'admitted': 2627, 'attacked': 2628, 'pie': 2629, 'mute': 2630, 'blamed': 2631, 'chased': 2632, 'cries': 2633, 'himself': 2634, 'deceived': 2635, 'deserves': 2636, 'designed': 2637, 'disgusts': 2638, 'ducked': 2639, 'enjoys': 2640, 'exaggerates': 2641, 'uneasy': 2642, 'sigh': 2643, 'panicky': 2644, 'hiccups': 2645, 'options': 2646, 'rabbits': 2647, 'secrets': 2648, 'stamina': 2649, 'opera': 2650, 'insulted': 2651, 'barber': 2652, 'bigwig': 2653, 'busker': 2654, 'hermit': 2655, 'legend': 2656, 'madman': 2657, 'maniac': 2658, 'misfit': 2659, 'pirate': 2660, 'player': 2661, 'potter': 2662, 'priest': 2663, 'prince': 2664, 'psycho': 2665, 'racist': 2666, 'rapper': 2667, 'rookie': 2668, 'sailor': 2669, 'senior': 2670, 'smoker': 2671, 'surfer': 2672, 'tailor': 2673, 'weirdo': 2674, 'adorable': 2675, 'agitated': 2676, 'agnostic': 2677, 'adult': 2678, 'athletic': 2679, 'barefoot': 2680, 'blushing': 2681, 'careless': 2682, 'clueless': 2683, 'credible': 2684, 'cultured': 2685, 'dejected': 2686, 'depraved': 2687, 'deranged': 2688, 'diligent': 2689, 'disloyal': 2690, 'drenched': 2691, 'ecstatic': 2692, 'educated': 2693, 'eloquent': 2694, 'emphatic': 2695, 'fabulous': 2696, 'faithful': 2697, 'flexible': 2698, 'forceful': 2699, 'forgiven': 2700, 'generous': 2701, 'giggling': 2702, 'groaning': 2703, 'hammered': 2704, 'hesitant': 2705, 'humorous': 2706, 'immature': 2707, 'immobile': 2708, 'impolite': 2709, 'shock': 2710, 'insecure': 2711, 'insolent': 2712, 'involved': 2713, 'kneeling': 2714, 'knocking': 2715, 'learning': 2716, 'likeable': 2717, 'literate': 2718, 'loveable': 2719, 'enemy': 2720, 'neurotic': 2721, 'obedient': 2722, 'painting': 2723, 'perverse': 2724, 'pleasant': 2725, 'punctual': 2726, 'rational': 2727, 'reckless': 2728, 'reformed': 2729, 'reserved': 2730, 'resolute': 2731, 'retiring': 2732, 'sickened': 2733, 'skittish': 2734, 'sociable': 2735, 'spirited': 2736, 'studious': 2737, 'suicidal': 2738, 'tactless': 2739, 'talented': 2740, 'terminal': 2741, 'thinking': 2742, 'thirteen': 2743, 'thrilled': 2744, 'tireless': 2745, 'training': 2746, 'troubled': 2747, 'truthful': 2748, 'unafraid': 2749, 'unbiased': 2750, 'underage': 2751, 'unnerved': 2752, 'wasteful': 2753, 'wavering': 2754, 'wheezing': 2755, 'fazed': 2756, 'nasty': 2757, 'petty': 2758, 'timid': 2759, 'bail': 2760, 'glared': 2761, 'pacing': 2762, 'wines': 2763, 'blues': 2764, 'salsa': 2765, 'match': 2766, 'cross': 2767, 'perky': 2768, 'weight': 2769, 'chili': 2770, 'pasta': 2771, 'testify': 2772, 'mustve': 2773, 'fails': 2774, 'falls': 2775, 'stops': 2776, 'overreacted': 2777, 'rugby': 2778, 'novels': 2779, 'recorded': 2780, 'shark': 2781, 'eager': 2782, 'sees': 2783, 'tenor': 2784, 'sipped': 2785, 'slowed': 2786, 'speaks': 2787, 'rigid': 2788, 'sympathized': 2789, 'bath': 2790, 'photos': 2791, 'understands': 2792, 'past': 2793, 'abusive': 2794, 'adamant': 2795, 'alarmed': 2796, 'alerted': 2797, 'blinded': 2798, 'crushed': 2799, 'defiant': 2800, 'elected': 2801, 'evasive': 2802, 'lenient': 2803, 'moaning': 2804, 'tasered': 2805, 'wears': 2806, 'remain': 2807, 'suffer': 2808, 'medal': 2809, 'argue': 2810, 'budge': 2811, 'gloves': 2812, 'charmer': 2813, 'sank': 2814, 'brilliant': 2815, 'conscious': 2816, 'hilarious': 2817, 'charge': 2818, 'cousin': 2819, 'nephew': 2820, 'repulsive': 2821, 'screaming': 2822, 'suffering': 2823, 'thirtyish': 2824, 'earned': 2825, 'yawn': 2826, 'walls': 2827, 'toes': 2828, 'arrested': 2829, 'declared': 2830, 'raw': 2831, 'lack': 2832, 'picnics': 2833, 'waffles': 2834, 'experts': 2835, 'showers': 2836}\n",
            "{'<eos>': 0, '<bof>': 1, 'tom': 2, 'ich': 3, 'ist': 4, 'es': 5, 'das': 6, 'nicht': 7, 'sie': 8, 'bin': 9, 'wir': 10, 'hat': 11, 'du': 12, 'er': 13, 'habe': 14, 'ein': 15, 'war': 16, 'zu': 17, 'mich': 18, 'sind': 19, 'mir': 20, 'dich': 21, 'kann': 22, 'uns': 23, 'auf': 24, 'die': 25, 'werde': 26, 'bist': 27, 'hier': 28, 'sich': 29, 'wird': 30, 'eine': 31, 'wer': 32, 'gut': 33, 'haben': 34, 'aus': 35, 'einen': 36, 'mag': 37, 'an': 38, 'wie': 39, 'gehen': 40, 'mein': 41, 'in': 42, 'sein': 43, 'wurde': 44, 'der': 45, 'lass': 46, 'dir': 47, 'ihn': 48, 'was': 49, 'jetzt': 50, 'liebe': 51, 'da': 52, 'mit': 53, 'will': 54, 'hause': 55, 'den': 56, 'komm': 57, 'werden': 58, 'nach': 59, 'gro': 60, 'geht': 61, 'sehr': 62, 'geh': 63, 'meine': 64, 'muss': 65, 'hatte': 66, 'mal': 67, 'so': 68, 'sieht': 69, 'mach': 70, 'alle': 71, 'wei': 72, 'bitte': 73, 'brauche': 74, 'hast': 75, 'kein': 76, 'fur': 77, 'gesehen': 78, 'sah': 79, 'auto': 80, 'beschaftigt': 81, 'hasse': 82, 'niemand': 83, 'schon': 84, 'konnen': 85, 'sei': 86, 'ihr': 87, 'viel': 88, 'gib': 89, 'tun': 90, 'glucklich': 91, 'noch': 92, 'weg': 93, 'nimm': 94, 'ging': 95, 'krank': 96, 'kommen': 97, 'gerade': 98, 'kannst': 99, 'en': 100, 'gemacht': 101, 'maria': 102, 'machen': 103, 'einfach': 104, 'leben': 105, 'hund': 106, 'buch': 107, 'kam': 108, 'darf': 109, 'scheint': 110, 'hor': 111, 'zuruck': 112, 'dem': 113, 'helfen': 114, 'geld': 115, 'ihm': 116, 'hei': 117, 'schnell': 118, 'nie': 119, 'gehe': 120, 'sicher': 121, 'auch': 122, 'keine': 123, 'sehen': 124, 'allein': 125, 'verloren': 126, 'wieder': 127, 'tut': 128, 'recht': 129, 'zeit': 130, 'gefunden': 131, 'gehort': 132, 'im': 133, 'dort': 134, 'liebt': 135, 'macht': 136, 'alt': 137, 'und': 138, 'nichts': 139, 'gerne': 140, 'weiter': 141, 'ordnung': 142, 'nur': 143, 'essen': 144, 'etwas': 145, 'spa': 146, 'bei': 147, 'mehr': 148, 'diese': 149, 'versuchen': 150, 'mochte': 151, 'mude': 152, 'warten': 153, 'verruckt': 154, 'ab': 155, 'gegessen': 156, 'fertig': 157, 'verletzt': 158, 'konnte': 159, 'warum': 160, 'weh': 161, 'sterben': 162, 'am': 163, 'braucht': 164, 'deine': 165, 'fuhlte': 166, 'gewonnen': 167, 's': 168, 'ruhig': 169, 'komme': 170, 'spat': 171, 'gegangen': 172, 'schau': 173, 'kommt': 174, 'fahren': 175, 'ja': 176, 'wutend': 177, 'sehe': 178, 'kalt': 179, 'um': 180, 'euch': 181, 'angst': 182, 'artig': 183, 'dein': 184, 'neu': 185, 'bleiben': 186, 'fu': 187, 'arbeit': 188, 'bleib': 189, 'wo': 190, 'gern': 191, 'wissen': 192, 'ganz': 193, 'nett': 194, 'gewinnen': 195, 'lasst': 196, 'gesagt': 197, 'alles': 198, 'brauchen': 199, 'reich': 200, 'rein': 201, 'weinen': 202, 'arbeiten': 203, 'kenne': 204, 'von': 205, 'jung': 206, 'e': 207, 'katze': 208, 'heute': 209, 'hol': 210, 'schuchtern': 211, 'mann': 212, 'su': 213, 'sagte': 214, 'singen': 215, 'warte': 216, 'traurig': 217, 'sag': 218, 'betrunken': 219, 'still': 220, 'schwimmen': 221, 'fuhle': 222, 'zum': 223, 'dran': 224, 'gestorben': 225, 'drau': 226, 'kennen': 227, 'vor': 228, 'tag': 229, 'halte': 230, 'vielleicht': 231, 'vorbei': 232, 'waren': 233, 'lieben': 234, 'schule': 235, 'hilfe': 236, 'herein': 237, 'schlecht': 238, 'versucht': 239, 'blieb': 240, 'frei': 241, 'setz': 242, 'gekommen': 243, 'doch': 244, 'los': 245, 'bring': 246, 'junge': 247, 'gibt': 248, 'dumm': 249, 'meinen': 250, 'mussen': 251, 'siehst': 252, 'hab': 253, 'raus': 254, 'halt': 255, 'bereit': 256, 'ernst': 257, 'okay': 258, 'wollen': 259, 'getan': 260, 'hut': 261, 'bier': 262, 'vater': 263, 'dass': 264, 'toms': 265, 'wirst': 266, 'weinte': 267, 'tu': 268, 'wusste': 269, 'tot': 270, 'leid': 271, 'fruh': 272, 'verargert': 273, 'stand': 274, 'einmal': 275, 'eins': 276, 'tee': 277, 'hatten': 278, 'jemand': 279, 'gluck': 280, 'nervos': 281, 'mary': 282, 'frau': 283, 'dieses': 284, 'hallo': 285, 'rannte': 286, 'frag': 287, 'geschafft': 288, 'hilft': 289, 'sprich': 290, 'her': 291, 'geschlagen': 292, 'nein': 293, 'aufhoren': 294, 'reden': 295, 'kaputt': 296, 'gab': 297, 'arm': 298, 'esse': 299, 'seid': 300, 'lesen': 301, 'nehme': 302, 'schuld': 303, 'katzen': 304, 'fisch': 305, 't': 306, 'rief': 307, 'verwirrt': 308, 'klein': 309, 'kaffee': 310, 'wach': 311, 'wirklich': 312, 'dick': 313, 'gemein': 314, 'schwach': 315, 'lugt': 316, 'zuhause': 317, 'laufen': 318, 'uhr': 319, 'wahr': 320, 'besser': 321, 'verlieren': 322, 'hin': 323, 'mogen': 324, 'funktioniert': 325, 'kinder': 326, 'witz': 327, 'dies': 328, 'immer': 329, 'schlussel': 330, 'boston': 331, 'plan': 332, 'schien': 333, 'verstehe': 334, 'gehts': 335, 'versuch': 336, 'schlie': 337, 'dabei': 338, 'hoffe': 339, 'gefallt': 340, 'vermisse': 341, 'faul': 342, 'ruhe': 343, 'sieh': 344, 'komisch': 345, 'vorsichtig': 346, 'wein': 347, 'ig': 348, 'bezahlen': 349, 'bus': 350, 'alleine': 351, 'lese': 352, 'hunger': 353, 'oben': 354, 'tanzen': 355, 'rot': 356, 'bose': 357, 'man': 358, 'isst': 359, 'ihnen': 360, 'schuldig': 361, 'ware': 362, 'iss': 363, 'ruf': 364, 'kurz': 365, 'zieh': 366, 'runter': 367, 'lachelte': 368, 'schlafen': 369, 'schie': 370, 'seltsam': 371, 'kochen': 372, 'weit': 373, 'arbeitet': 374, 'bekommen': 375, 'bett': 376, 'wette': 377, 'lustig': 378, 'als': 379, 'geholfen': 380, 'stark': 381, 'schmerzen': 382, 'verheiratet': 383, 'sprechen': 384, 'rauchen': 385, 'fast': 386, 'genie': 387, 'kennt': 388, 'sohn': 389, 'steht': 390, 'haus': 391, 'wollte': 392, 'mache': 393, 'dieser': 394, 'ins': 395, 'deinen': 396, 'fang': 397, 'verstanden': 398, 'bezahlt': 399, 'hilf': 400, 'getroffen': 401, 'perfekt': 402, 'gefallen': 403, 'probier': 404, 'vertraue': 405, 'bald': 406, 'hunde': 407, 'hart': 408, 'unten': 409, 'guter': 410, 'lies': 411, 'bleibt': 412, 'manner': 413, 'langsam': 414, 'klug': 415, 'langweilig': 416, 'anfangen': 417, 'dafur': 418, 'hungrig': 419, 'einsam': 420, 'drei': 421, 'milch': 422, 'fahre': 423, 'oft': 424, 'naiv': 425, 'fragen': 426, 'diat': 427, 'eifersuchtig': 428, 'gefangen': 429, 'montag': 430, 'keinen': 431, 'liegt': 432, 'trinke': 433, 'wasser': 434, 'musik': 435, 'spiele': 436, 'witze': 437, 'zuerst': 438, 'franzosisch': 439, 'machte': 440, 'brauchte': 441, 'tur': 442, 'vertraut': 443, 'nass': 444, 'stehen': 445, 'vogel': 446, 'fliegen': 447, 'nacht': 448, 'nahm': 449, 'meins': 450, 'lassen': 451, 'pass': 452, 'fuhr': 453, 'reis': 454, 'madchen': 455, 'held': 456, 'drinnen': 457, 'lebt': 458, 'zur': 459, 'horen': 460, 'lugen': 461, 'angerufen': 462, 'hielt': 463, 'pech': 464, 'lugner': 465, 'schlaft': 466, 'alter': 467, 'tasche': 468, 'arbeite': 469, 'arzt': 470, 'drin': 471, 'verliebt': 472, 'karte': 473, 'wagen': 474, 'cool': 475, 'stimmt': 476, 'fair': 477, 'laut': 478, 'hort': 479, 'unrecht': 480, 'nahe': 481, 'musst': 482, 'hasst': 483, 'verdient': 484, 'taxi': 485, 'schwarz': 486, 'zeig': 487, 'schwer': 488, 'gehoren': 489, 'worden': 490, 'verkauft': 491, 'musste': 492, 'abendessen': 493, 'hoffnung': 494, 'warst': 495, 'zwei': 496, 'redet': 497, 'beeil': 498, 'wohl': 499, 'gelogen': 500, 'einverstanden': 501, 'bis': 502, 'klar': 503, 'dunn': 504, 'hasslich': 505, 'hierher': 506, 'weine': 507, 'schrecklich': 508, 'ohnmachtig': 509, 'helfe': 510, 'gehorchen': 511, 'gelangweilt': 512, 'fernseher': 513, 'dunkel': 514, 'schlief': 515, 'schwimmt': 516, 'vergessen': 517, 'gefeuert': 518, 'boden': 519, 'uberprufen': 520, 'job': 521, 'bekam': 522, 'schlau': 523, 'hore': 524, 'koch': 525, 'beruhmt': 526, 'verlassen': 527, 'mama': 528, 'sicherheit': 529, 'krieg': 530, 'selbst': 531, 'dazu': 532, 'sage': 533, 'augen': 534, 'sofort': 535, 'gekauft': 536, 'gerettet': 537, 'eier': 538, 'besturzt': 539, 'holen': 540, 'neugierig': 541, 'damit': 542, 'brav': 543, 'blod': 544, 'verandert': 545, 'kampfen': 546, 'brauchst': 547, 'gesungen': 548, 'trinken': 549, 'mutter': 550, 'lie': 551, 'apfel': 552, 'trank': 553, 'frauen': 554, 'lernen': 555, 'geschieden': 556, 'studiere': 557, 'leise': 558, 'traum': 559, 'sa': 560, 'geworden': 561, 'singt': 562, 'boot': 563, 'las': 564, 'vertraute': 565, 'leicht': 566, 'zimmer': 567, 'andern': 568, 'familie': 569, 'wurdest': 570, 'gewinnt': 571, 'finden': 572, 'spielen': 573, 'lacheln': 574, 'jahre': 575, 'danke': 576, 'ungerecht': 577, 'rennt': 578, 'bewegen': 579, 'hoch': 580, 'half': 581, 'nickte': 582, 'zahlen': 583, 'gerecht': 584, 'verirrt': 585, 'lauter': 586, 'steh': 587, 'luge': 588, 'ski': 589, 'gewinne': 590, 'anrufen': 591, 'blind': 592, 'pingelig': 593, 'fest': 594, 'geduldig': 595, 'sing': 596, 'gott': 597, 'grausam': 598, 'lauft': 599, 'lief': 600, 'erinnere': 601, 'stimme': 602, 'beeilen': 603, 'koche': 604, 'sauber': 605, 'rechnung': 606, 'problem': 607, 'gebissen': 608, 'gearbeitet': 609, 'kaufen': 610, 'ding': 611, 'neues': 612, 'jungen': 613, 'geweint': 614, 'grund': 615, 'sagen': 616, 'geliebt': 617, 'beliebt': 618, 'spreche': 619, 'durst': 620, 'unglucklich': 621, 'ungewohnlich': 622, 'keiner': 623, 'bescheid': 624, 'unhoflich': 625, 'weise': 626, 'toll': 627, 'treffen': 628, 'vermissen': 629, 'pleite': 630, 'kocht': 631, 'gerufen': 632, 'waffe': 633, 'egal': 634, 'pizza': 635, 'geschlafen': 636, 'frage': 637, 'freund': 638, 'diabetiker': 639, 'entkommen': 640, 'unschuldig': 641, 'morgen': 642, 'unser': 643, 'sollen': 644, 'reizend': 645, 'unglaublich': 646, 'wussten': 647, 'rufen': 648, 'gesund': 649, 'angelogen': 650, 'seine': 651, 'meinem': 652, 'gebracht': 653, 'pferd': 654, 'gegeben': 655, 'besorgt': 656, 'spiel': 657, 'fehlt': 658, 'ball': 659, 'vermisst': 660, 'verraten': 661, 'fahrrad': 662, 'klingt': 663, 'ihre': 664, 'vergeben': 665, 'sollte': 666, 'feuer': 667, 'entspann': 668, 'sang': 669, 'spater': 670, 'fahr': 671, 'finde': 672, 'ordentlich': 673, 'fass': 674, 'warnen': 675, 'beruhige': 676, 'folge': 677, 'vergiss': 678, 'davon': 679, 'gebe': 680, 'lachte': 681, 'sauer': 682, 'hinter': 683, 'gesprochen': 684, 'gewahlt': 685, 'bord': 686, 'eingestellt': 687, 'schneller': 688, 'pflicht': 689, 'vertrauen': 690, 'anderer': 691, 'meinung': 692, 'fleisch': 693, 'liebte': 694, 'luft': 695, 'panik': 696, 'schoss': 697, 'passiert': 698, 'nochmal': 699, 'rede': 700, 'gehabt': 701, 'streng': 702, 'wirf': 703, 'weint': 704, 'gefragt': 705, 'fragte': 706, 'obst': 707, 'kuchen': 708, 'schnee': 709, 'dagegen': 710, 'entscheiden': 711, 'aufrichtig': 712, 'nutzlos': 713, 'schade': 714, 'fangen': 715, 'mittagessen': 716, 'gingen': 717, 'glatze': 718, 'au': 719, 'falsch': 720, 'rennen': 721, 'behalten': 722, 'eingeladen': 723, 'rufe': 724, 'bestes': 725, 'fallen': 726, 'hand': 727, 'schame': 728, 'tue': 729, 'ubel': 730, 'nackt': 731, 'bucher': 732, 'selten': 733, 'muhe': 734, 'kanadier': 735, 'anwalt': 736, 'ohr': 737, 'verhungern': 738, 'blau': 739, 'salz': 740, 'traumen': 741, 'unsere': 742, 'lieber': 743, 'pause': 744, 'genug': 745, 'verschwunden': 746, 'dinge': 747, 'zusammen': 748, 'hasste': 749, 'schmutzig': 750, 'sollten': 751, 'erfolgreich': 752, 'fernsehen': 753, 'fische': 754, 'uber': 755, 'typ': 756, 'riecht': 757, 'spricht': 758, 'geheiratet': 759, 'maus': 760, 'jemanden': 761, 'freiwillig': 762, 'sorgen': 763, 'stoppen': 764, 'lehrer': 765, 'geheimnis': 766, 'daran': 767, 'zog': 768, 'offne': 769, 'willst': 770, 'ausland': 771, 'gewarnt': 772, 'adoptiert': 773, 'verlobt': 774, 'wurden': 775, 'freunde': 776, 'ehrlich': 777, 'angekommen': 778, 'tisch': 779, 'idee': 780, 'redete': 781, 'lauf': 782, 'probiere': 783, 'fiel': 784, 'schwimme': 785, 'fett': 786, 'behalt': 787, 'wasch': 788, 'hande': 789, 'willkommen': 790, 'naher': 791, 'tapfer': 792, 'leg': 793, 'sprach': 794, 'taub': 795, 'aufgehort': 796, 'richtig': 797, 'wozu': 798, 'schreib': 799, 'antworten': 800, 'gute': 801, 'seinen': 802, 'geschummelt': 803, 'kicherte': 804, 'knapp': 805, 'soweit': 806, 'zah': 807, 'gar': 808, 'schlimm': 809, 'geschneit': 810, 'spring': 811, 'gelassen': 812, 'verlasse': 813, 'beweg': 814, 'tritt': 815, 'bewegte': 816, 'super': 817, 'wunderbar': 818, 'schreibe': 819, 'sterbe': 820, 'jeden': 821, 'gucken': 822, 'trink': 823, 'freundlich': 824, 'kannte': 825, 'versprochen': 826, 'gierig': 827, 'bescheiden': 828, 'ruiniert': 829, 'ignorier': 830, 'wichtig': 831, 'deins': 832, 'stadt': 833, 'seite': 834, 'tanzt': 835, 'wartete': 836, 'kreativ': 837, 'lachen': 838, 'suchen': 839, 'schaffen': 840, 'brot': 841, 'beide': 842, 'gesicht': 843, 'verschlafen': 844, 'schwindlig': 845, 'besoffen': 846, 'folgen': 847, 'schreien': 848, 'durch': 849, 'unbewaffnet': 850, 'wohlhabend': 851, 'schneit': 852, 'regel': 853, 'liste': 854, 'dieb': 855, 'spazieren': 856, 'betrogen': 857, 'lange': 858, 'geschickt': 859, 'erzahlt': 860, 'schluss': 861, 'bewaffnet': 862, 'mutig': 863, 'hey': 864, 'zahlt': 865, 'singe': 866, 'zweifel': 867, 'leiden': 868, 'beweise': 869, 'lebe': 870, 'schlafrig': 871, 'erklaren': 872, 'obdachlos': 873, 'einem': 874, 'engel': 875, 'stehe': 876, 'krebs': 877, 'leer': 878, 'geschehen': 879, 'unmoralisch': 880, 'genau': 881, 'rate': 882, 'trafen': 883, 'spion': 884, 'launisch': 885, 'meinte': 886, 'mochten': 887, 'verstecken': 888, 'ausruhen': 889, 'lugst': 890, 'traume': 891, 'schlittschuh': 892, 'lang': 893, 'sangen': 894, 'gas': 895, 'erkaltet': 896, 'liest': 897, 'kuss': 898, 'menge': 899, 'studiert': 900, 'augenblick': 901, 'japaner': 902, 'glaube': 903, 'weitermachen': 904, 'ahnung': 905, 'hingehen': 906, 'nehmen': 907, 'niedergeschlagen': 908, 'einer': 909, 'gefahr': 910, 'zufrieden': 911, 'chef': 912, 'blut': 913, 'falle': 914, 'eilte': 915, 'fortfahren': 916, 'mensch': 917, 'offnen': 918, 'zeigen': 919, 'schreiben': 920, 'risiko': 921, 'aufgabe': 922, 'tasse': 923, 'plane': 924, 'verlie': 925, 'verlor': 926, 'schreit': 927, 'sechs': 928, 'ausgeraubt': 929, 'uberleben': 930, 'wahrheit': 931, 'wem': 932, 'hoflich': 933, 'kussen': 934, 'setzen': 935, 'fressen': 936, 'lied': 937, 'gefolgt': 938, 'wort': 939, 'trug': 940, 'radio': 941, 'englisch': 942, 'brachte': 943, 'reise': 944, 'bar': 945, 'mund': 946, 'denke': 947, 'ziemlich': 948, 'ruhestand': 949, 'zug': 950, 'spielt': 951, 'allen': 952, 'starb': 953, 'getotet': 954, 'wache': 955, 'lacht': 956, 'zogert': 957, 'bruder': 958, 'niemals': 959, 'wahlerisch': 960, 'messer': 961, 'druck': 962, 'fantastisch': 963, 'nachlassen': 964, 'bins': 965, 'a': 966, 'fassen': 967, 'gewartet': 968, 'dj': 969, 'satt': 970, 'klappt': 971, 'vorsicht': 972, 'log': 973, 'dollar': 974, 'klatschte': 975, 'furchte': 976, 'meinst': 977, 'wachte': 978, 'erster': 979, 'nuchtern': 980, 'warm': 981, 'guck': 982, 'dorthin': 983, 'ubernimm': 984, 'na': 985, 'gescheitert': 986, 'sahen': 987, 'warteten': 988, 'wen': 989, 'idiot': 990, 'eines': 991, 'anderes': 992, 'beneide': 993, 'horte': 994, 'setzte': 995, 'uberlebt': 996, 'amusiert': 997, 'funktionieren': 998, 'grun': 999, 'cd': 1000, 'heraus': 1001, 'ach': 1002, 'stimmte': 1003, 'trinkt': 1004, 'fahrt': 1005, 'fehler': 1006, 'schaute': 1007, 'raucht': 1008, 'schrie': 1009, 'jungs': 1010, 'bringen': 1011, 'durfen': 1012, 'diskret': 1013, 'vernunftig': 1014, 'verlass': 1015, 'acht': 1016, 'gehasst': 1017, 'blodmann': 1018, 'nochmals': 1019, 'zwilling': 1020, 'verbrannt': 1021, 'trainiert': 1022, 'schwindelig': 1023, 'stellte': 1024, 'mathe': 1025, 'lippen': 1026, 'sollst': 1027, 'reparieren': 1028, 'klarkommen': 1029, 'aufstehen': 1030, 'kind': 1031, 'veganer': 1032, 'tanze': 1033, 'daruber': 1034, 'entspannt': 1035, 'bleibe': 1036, 'gesetz': 1037, 'bedient': 1038, 'schmeckt': 1039, 'moglich': 1040, 'regnen': 1041, 'fruhling': 1042, 'versuchs': 1043, 'teilen': 1044, 'dank': 1045, 'halten': 1046, 'schick': 1047, 'denk': 1048, 'hustete': 1049, 'letzte': 1050, 'ausgegangen': 1051, 'hellwach': 1052, 'schalte': 1053, 'erinnern': 1054, 'gibts': 1055, 'reihe': 1056, 'stirbt': 1057, 'fuhre': 1058, 'bringe': 1059, 'herauf': 1060, 'zehn': 1061, 'drum': 1062, 'geschwommen': 1063, 'trotzdem': 1064, 'guten': 1065, 'abend': 1066, 'berliner': 1067, 'ehrgeizig': 1068, 'heldenhaft': 1069, 'getreten': 1070, 'madels': 1071, 'unterstutze': 1072, 'aufregend': 1073, 'geschnitten': 1074, 'freude': 1075, 'joggen': 1076, 'sushi': 1077, 'igkeiten': 1078, 'zucker': 1079, 'gefehlt': 1080, 'bekifft': 1081, 'versagen': 1082, 'geschrieben': 1083, 'lieb': 1084, 'suchtig': 1085, 'moment': 1086, 'dankbar': 1087, 'beleidigt': 1088, 'schwanger': 1089, 'zuverlassig': 1090, 'schlafe': 1091, 'grundlich': 1092, 'meines': 1093, 'echt': 1094, 'pfeife': 1095, 'regnet': 1096, 'sache': 1097, 'uberlass': 1098, 'ohren': 1099, 'darum': 1100, 'repariere': 1101, 'irre': 1102, 'kamen': 1103, 'hassen': 1104, 'sagten': 1105, 'gold': 1106, 'schrieb': 1107, 'erschossen': 1108, 'gruselig': 1109, 'brach': 1110, 'trat': 1111, 'wahnsinnig': 1112, 'erledigt': 1113, 'nutze': 1114, 'verstehen': 1115, 'geben': 1116, 'tat': 1117, 'gehst': 1118, 'besonders': 1119, 'gelacht': 1120, 'geantwortet': 1121, 'zeichne': 1122, 'esst': 1123, 'blumen': 1124, 'wenig': 1125, 'umarmt': 1126, 'blass': 1127, 'autos': 1128, 'heiliger': 1129, 'ubertrieben': 1130, 'habs': 1131, 'aufgestanden': 1132, 'scherze': 1133, 'menschen': 1134, 'tennis': 1135, 'herbst': 1136, 'abendbrot': 1137, 'rettete': 1138, 'hinein': 1139, 'weckte': 1140, 'fehlen': 1141, 'ansehen': 1142, 'student': 1143, 'beeindruckt': 1144, 'druben': 1145, 'uberrascht': 1146, 'zuruckgekommen': 1147, 'erleichterung': 1148, 'schwierig': 1149, 'unwahrscheinlich': 1150, 'fortgehen': 1151, 'reinkommen': 1152, 'haar': 1153, 'fuller': 1154, 'tor': 1155, 'frieden': 1156, 'ende': 1157, 'ruhr': 1158, 'suppe': 1159, 'ziehe': 1160, 'puppe': 1161, 'reicht': 1162, 'betet': 1163, 'baby': 1164, 'normal': 1165, 'mager': 1166, 'erfolg': 1167, 'beschwipst': 1168, 'drehte': 1169, 'hinkt': 1170, 'gewalttatig': 1171, 'verwundet': 1172, 'entlassen': 1173, 'gemeint': 1174, 'wieso': 1175, 'verspaten': 1176, 'verblufft': 1177, 'cousins': 1178, 'arzte': 1179, 'schockiert': 1180, 'geraten': 1181, 'bekomme': 1182, 'machst': 1183, 'hubsch': 1184, 'unfair': 1185, 'benimm': 1186, 'doof': 1187, 'benutzen': 1188, 'herunter': 1189, 'kuhe': 1190, 'motor': 1191, 'magst': 1192, 'liebst': 1193, 'konnt': 1194, 'schonen': 1195, 'handtuch': 1196, 'sohne': 1197, 'tragt': 1198, 'bart': 1199, 'schriftsteller': 1200, 'schauspieler': 1201, 'machtig': 1202, 'lernt': 1203, 'bisschen': 1204, 'deinem': 1205, 'leute': 1206, 'geschenke': 1207, 'geglaubt': 1208, 'wegen': 1209, 'tomaten': 1210, 'zustimmen': 1211, 'fieber': 1212, 'schwestern': 1213, 'heimweh': 1214, 'kummern': 1215, 'langweile': 1216, 'aufgeregt': 1217, 'entschuldige': 1218, 'hinsetzen': 1219, 'betrog': 1220, 'fort': 1221, 'gekusst': 1222, 'erzahl': 1223, 'quatsch': 1224, 'positiv': 1225, 'wich': 1226, 'benommen': 1227, 'geschossen': 1228, 'erkaltung': 1229, 'linkshander': 1230, 'hinterhaltig': 1231, 'sympathisch': 1232, 'liebenswert': 1233, 'gepflegt': 1234, 'gescheit': 1235, 'mussten': 1236, 'respektieren': 1237, 'hilflos': 1238, 'welche': 1239, 'wehgetan': 1240, 'vorbereitet': 1241, 'traumt': 1242, 'starrte': 1243, 'flei': 1244, 'erleichtert': 1245, 'diesen': 1246, 'klang': 1247, 'wirkt': 1248, 'stopp': 1249, 'unmoglich': 1250, 'wiedersehen': 1251, 'gekundigt': 1252, 'schnarche': 1253, 'drauf': 1254, 'zeigs': 1255, 'maul': 1256, 'kopf': 1257, 'tief': 1258, 'gesprungen': 1259, 'rasierte': 1260, 'gahnte': 1261, 'nachste': 1262, 'seins': 1263, 'verboten': 1264, 'rette': 1265, 'schwamm': 1266, 'stimmen': 1267, 'gesundheit': 1268, 'heim': 1269, 'stirb': 1270, 'trage': 1271, 'funf': 1272, 'lage': 1273, 'aufgegeben': 1274, 'bedurftig': 1275, 'stecke': 1276, 'gehore': 1277, 'beachte': 1278, 'sand': 1279, 'behalte': 1280, 'dreh': 1281, 'locker': 1282, 'rutsch': 1283, 'schuss': 1284, 'naturlich': 1285, 'hats': 1286, 'unterschreiben': 1287, 'sitz': 1288, 'beginnen': 1289, 'machs': 1290, 'wars': 1291, 'doste': 1292, 'versuchte': 1293, 'einig': 1294, 'siegen': 1295, 'kummert': 1296, 'ziel': 1297, 'antworte': 1298, 'irgendwen': 1299, 'tatsachen': 1300, 'suche': 1301, 'fall': 1302, 'schrei': 1303, 'untersuchen': 1304, 'such': 1305, 'brennt': 1306, 'vergib': 1307, 'ausreichend': 1308, 'unsinn': 1309, 'menschlich': 1310, 'kaputtgemacht': 1311, 'gebaut': 1312, 'abgesagt': 1313, 'kaue': 1314, 'kaugummi': 1315, 'kunst': 1316, 'eis': 1317, 'zuruckgetreten': 1318, 'verwende': 1319, 'monch': 1320, 'voreingenommen': 1321, 'bezahle': 1322, 'pummelig': 1323, 'verstecke': 1324, 'bewege': 1325, 'ausgeruht': 1326, 'zwolf': 1327, 'kostenlos': 1328, 'windig': 1329, 'jesus': 1330, 'beten': 1331, 'vorne': 1332, 'schlag': 1333, 'hebe': 1334, 'wachsam': 1335, 'lern': 1336, 'nickerchen': 1337, 'deckung': 1338, 'schmecken': 1339, 'standen': 1340, 'rulpste': 1341, 'betrugt': 1342, 'schnappte': 1343, 'gehauen': 1344, 'achzte': 1345, 'malt': 1346, 'betete': 1347, 'seufzte': 1348, 'rauchte': 1349, 'schnarcht': 1350, 'zwinkerte': 1351, 'froh': 1352, 'rechts': 1353, 'lachten': 1354, 'geschrien': 1355, 'nachstes': 1356, 'holz': 1357, 'schuldest': 1358, 'verlaufen': 1359, 'form': 1360, 'tolerant': 1361, 'teile': 1362, 'besuch': 1363, 'verbindung': 1364, 'zahl': 1365, 'betruge': 1366, 'entlang': 1367, 'davongekommen': 1368, 'mumm': 1369, 'insekten': 1370, 'mause': 1371, 'bargeld': 1372, 'zogerte': 1373, 'wohne': 1374, 'rindfleisch': 1375, 'rock': 1376, 'erholt': 1377, 'ufo': 1378, 'rieche': 1379, 'geruhrt': 1380, 'geirrt': 1381, 'kaufe': 1382, 'nachsehen': 1383, 'verwenden': 1384, 'backer': 1385, 'eigenbrotler': 1386, 'krankenschwester': 1387, 'angsthase': 1388, 'gefangnis': 1389, 'selbstsuchtig': 1390, 'fassungslos': 1391, 'nachster': 1392, 'neblig': 1393, 'legal': 1394, 'mitnehmen': 1395, 'real': 1396, 'zweck': 1397, 'druber': 1398, 'wirs': 1399, 'entspannen': 1400, 'studieren': 1401, 'schaue': 1402, 'vielen': 1403, 'pflanzen': 1404, 'wachsen': 1405, 'klatschen': 1406, 'langsamer': 1407, 'enorm': 1408, 'umarmten': 1409, 'lachelten': 1410, 'blinzelte': 1411, 'entkam': 1412, 'versteht': 1413, 'leidet': 1414, 'unter': 1415, 'dachschaden': 1416, 'leitung': 1417, 'eitel': 1418, 'kniete': 1419, 'bemerkt': 1420, 'voraus': 1421, 'lehnte': 1422, 'witzig': 1423, 'unternehmungslustig': 1424, 'drehe': 1425, 'wecke': 1426, 'lag': 1427, 'setzten': 1428, 'zeitig': 1429, 'stecken': 1430, 'nummer': 1431, 'kommst': 1432, 'polizei': 1433, 'aufmerksam': 1434, 'ei': 1435, 'einzuwenden': 1436, 'gebetet': 1437, 'nerv': 1438, 'geister': 1439, 'erwachsen': 1440, 'frohe': 1441, 'meidet': 1442, 'stritt': 1443, 'sitzenlassen': 1444, 'dichter': 1445, 'unleidlich': 1446, 'laufer': 1447, 'arrogant': 1448, 'barbarisch': 1449, 'erbarmlich': 1450, 'romantisch': 1451, 'bewundere': 1452, 'entschuldigte': 1453, 'biss': 1454, 'kaum': 1455, 'blendend': 1456, 'bohnen': 1457, 'umarmte': 1458, 'reisen': 1459, 'schloss': 1460, 'erfunden': 1461, 'schlaf': 1462, 'klavier': 1463, 'verkaufe': 1464, 'gerochen': 1465, 'erschuttert': 1466, 'zuruckkommen': 1467, 'zurechtkommen': 1468, 'verspate': 1469, 'nachschauen': 1470, 'verklagen': 1471, 'jager': 1472, 'sanger': 1473, 'magersuchtig': 1474, 'kunstlerisch': 1475, 'erwartet': 1476, 'leichtglaubig': 1477, 'kater': 1478, 'heilige': 1479, 'stur': 1480, 'beste': 1481, 'vollig': 1482, 'gedauert': 1483, 'fluch': 1484, 'skurril': 1485, 'scherz': 1486, 'voran': 1487, 'lerne': 1488, 'unterbrechen': 1489, 'schweine': 1490, 'kiefer': 1491, 'interessiert': 1492, 'blicke': 1493, 'heb': 1494, 'stelle': 1495, 'dahin': 1496, 'dann': 1497, 'fuchs': 1498, 'erschoss': 1499, 'kreischte': 1500, 'verklagt': 1501, 'hammer': 1502, 'summen': 1503, 'mantel': 1504, 'gaben': 1505, 'kannten': 1506, 'ihres': 1507, 'ekelhaft': 1508, 'antwortete': 1509, 'hinterher': 1510, 'mut': 1511, 'treu': 1512, 'unordentlich': 1513, 'stoisch': 1514, 'druckt': 1515, 'vage': 1516, 'irrt': 1517, 'traf': 1518, 'uberlebte': 1519, 'letzter': 1520, 'niemandem': 1521, 'gestanden': 1522, 'mittag': 1523, 'schauten': 1524, 'miteinander': 1525, 'regen': 1526, 'vorurteile': 1527, 'geschlossen': 1528, 'niete': 1529, 'zugehort': 1530, 'soll': 1531, 'aufgeben': 1532, 'darfst': 1533, 'stirbst': 1534, 'scharfsinnig': 1535, 'gewachsen': 1536, 'irgendwelche': 1537, 'sonst': 1538, 'fachmann': 1539, 'sicherheitsdienst': 1540, 'mitmachen': 1541, 'gelachelt': 1542, 'verstehst': 1543, 'passt': 1544, 'werd': 1545, 'tote': 1546, 'zahn': 1547, 'hinunter': 1548, 'baut': 1549, 'fuhrt': 1550, 'hosentrager': 1551, 'englander': 1552, 'gefiel': 1553, 'hereingelegt': 1554, 'miesepeter': 1555, 'lastig': 1556, 'tokyo': 1557, 'oder': 1558, 'nase': 1559, 'bewunderte': 1560, 'moslem': 1561, 'huste': 1562, 'paris': 1563, 'niese': 1564, 'schach': 1565, 'eingeschlafen': 1566, 'winter': 1567, 'befehle': 1568, 'knoblauch': 1569, 'pferde': 1570, 'sport': 1571, 'zuge': 1572, 'natur': 1573, 'pandas': 1574, 'faust': 1575, 'gekocht': 1576, 'heiratete': 1577, 'wehren': 1578, 'beinahe': 1579, 'kredit': 1580, 'besucht': 1581, 'zumute': 1582, 'schamte': 1583, 'beobachtet': 1584, 'wandern': 1585, 'zuhoren': 1586, 'erlaube': 1587, 'hole': 1588, 'umbringen': 1589, 'beweisen': 1590, 'verhindern': 1591, 'maler': 1592, 'rotschopf': 1593, 'soldat': 1594, 'tatverdachtiger': 1595, 'kunstler': 1596, 'uberzeugt': 1597, 'gefahrlich': 1598, 'anders': 1599, 'ubergewichtig': 1600, 'skeptisch': 1601, 'versichert': 1602, 'daheim': 1603, 'sucht': 1604, 'lama': 1605, 'perucke': 1606, 'tatsachlich': 1607, 'geschenk': 1608, 'samstag': 1609, 'gelaufen': 1610, 'befehl': 1611, 'nervt': 1612, 'besetzt': 1613, 'minute': 1614, 'zuruckgehen': 1615, 'tresor': 1616, 'feger': 1617, 'schmerzt': 1618, 'feuchtes': 1619, 'kopfweh': 1620, 'knie': 1621, 'verandern': 1622, 'wurfel': 1623, 'gehorcht': 1624, 'lauferin': 1625, 'misch': 1626, 'richte': 1627, 'kopie': 1628, 'tatsache': 1629, 'zeichen': 1630, 'besteht': 1631, 'gutgehen': 1632, 'braun': 1633, 'irren': 1634, 'nun': 1635, 'japan': 1636, 'landkarte': 1637, 'rannten': 1638, 'gebeichtet': 1639, 'narr': 1640, 'versteckt': 1641, 'unfreundlich': 1642, 'verrucht': 1643, 'offnete': 1644, 'erinnert': 1645, 'reingelegt': 1646, 'erblasste': 1647, 'zoomte': 1648, 'genervt': 1649, 'packt': 1650, 'ruht': 1651, 'geschnarcht': 1652, 'bewundern': 1653, 'regeln': 1654, 'prima': 1655, 'konzentrieren': 1656, 'feinde': 1657, 'sinken': 1658, 'sitzen': 1659, 'angeschossen': 1660, 'wann': 1661, 'sagt': 1662, 'fastet': 1663, 'summt': 1664, 'post': 1665, 'hineingehen': 1666, 'fragst': 1667, 'verdorben': 1668, 'scheinst': 1669, 'solltest': 1670, 'riechst': 1671, 'legen': 1672, 'tod': 1673, 'abgeschnitten': 1674, 'tiger': 1675, 'kennst': 1676, 'versuchung': 1677, 'fern': 1678, 'salat': 1679, 'wunsche': 1680, 'jeder': 1681, 'angeln': 1682, 'steige': 1683, 'ihrer': 1684, 'park': 1685, 'jahr': 1686, 'herzlichen': 1687, 'gluckwunsch': 1688, 'verschwand': 1689, 'drachen': 1690, 'steigen': 1691, 'amerikaner': 1692, 'onkel': 1693, 'aufgeschlossen': 1694, 'respektiert': 1695, 'durstig': 1696, 'spieler': 1697, 'tier': 1698, 'kostet': 1699, 'beeilt': 1700, 'banane': 1701, 'verantwortlich': 1702, 'kaufte': 1703, 'schlagen': 1704, 'zahle': 1705, 'gefahren': 1706, 'getrunken': 1707, 'kirche': 1708, 'schlaganfall': 1709, 'partys': 1710, 'spinnen': 1711, 'spinat': 1712, 'dreizehn': 1713, 'enttauscht': 1714, 'kekse': 1715, 'herz': 1716, 'nudeln': 1717, 'tiere': 1718, 'bananen': 1719, 'meer': 1720, 'gebacken': 1721, 'schluckauf': 1722, 'schulde': 1723, 'bezahlte': 1724, 'nannte': 1725, 'gerechtigkeit': 1726, 'mitbringen': 1727, 'tragen': 1728, 'ruber': 1729, 'erschie': 1730, 'danken': 1731, 'tante': 1732, 'freier': 1733, 'zerstort': 1734, 'schwierigkeiten': 1735, 'dummkopf': 1736, 'ferien': 1737, 'arbeitslos': 1738, 'lachelt': 1739, 'wert': 1740, 'aber': 1741, 'weihnachten': 1742, 'riskant': 1743, 'laufenden': 1744, 'viele': 1745, 'blond': 1746, 'anschlie': 1747, 'notig': 1748, 'schreibtisch': 1749, 'wirds': 1750, 'preise': 1751, 'beweis': 1752, 'platz': 1753, 'bestellen': 1754, 'end': 1755, 'rad': 1756, 'argerte': 1757, 'erblindete': 1758, 'pfeifen': 1759, 'sommer': 1760, 'verbrechen': 1761, 'huhn': 1762, 'toricht': 1763, 'illegal': 1764, 'logisch': 1765, 'unverschamt': 1766, 'dach': 1767, 'liebten': 1768, 'scheinen': 1769, 'riechen': 1770, 'idioten': 1771, 'loch': 1772, 'fand': 1773, 'geschnappt': 1774, 'erwischt': 1775, 'uberfallen': 1776, 'ford': 1777, 'versagt': 1778, 'minderjahrig': 1779, 'amusant': 1780, 'hingebungsvoll': 1781, 'angezogen': 1782, 'fallt': 1783, 'konzentriert': 1784, 'verzweifelt': 1785, 'hilfreich': 1786, 'scherzt': 1787, 'denkt': 1788, 'keucht': 1789, 'anwesend': 1790, 'egoistisch': 1791, 'besonderes': 1792, 'verwohnt': 1793, 'unbeeindruckt': 1794, 'wartet': 1795, 'besten': 1796, 'besitzt': 1797, 'erinnerte': 1798, 'zweimal': 1799, 'risiken': 1800, 'umgebracht': 1801, 'skifahren': 1802, 'empfindlich': 1803, 'verhandeln': 1804, 'blutet': 1805, 'furchtlos': 1806, 'trauert': 1807, 'harmlos': 1808, 'mittellos': 1809, 'boss': 1810, 'labil': 1811, 'stra': 1812, 'anhalten': 1813, 'herausbekommen': 1814, 'entschlossen': 1815, 'zurecht': 1816, 'studenten': 1817, 'werdet': 1818, 'konntest': 1819, 'schlechter': 1820, 'geist': 1821, 'neidisch': 1822, 'leisten': 1823, 'besuchen': 1824, 'wenn': 1825, 'krahen': 1826, 'krawatte': 1827, 'mochtest': 1828, 'laufe': 1829, 'lug': 1830, 'eure': 1831, 'diesem': 1832, 'mitleid': 1833, 'begann': 1834, 'sieben': 1835, 'brille': 1836, 'schreibt': 1837, 'enden': 1838, 'eile': 1839, 'orange': 1840, 'reserviert': 1841, 'hintergangen': 1842, 'hausaufgaben': 1843, 'kalte': 1844, 'hochzeiten': 1845, 'schwester': 1846, 'baseball': 1847, 'feiere': 1848, 'wiedergesehen': 1849, 'spielte': 1850, 'gitarre': 1851, 'ganzen': 1852, 'roch': 1853, 'punktlich': 1854, 'nichte': 1855, 'rivale': 1856, 'beschamt': 1857, 'bereich': 1858, 'autistisch': 1859, 'blufft': 1860, 'kampft': 1861, 'japanerin': 1862, 'billig': 1863, 'schoner': 1864, 'frisch': 1865, 'blo': 1866, 'himmel': 1867, 'schuhe': 1868, 'anzug': 1869, 'grau': 1870, 'angenehm': 1871, 'aufgegangen': 1872, 'feiern': 1873, 'sangerin': 1874, 'zeige': 1875, 'kindisch': 1876, 'hase': 1877, 'pfeffer': 1878, 'voll': 1879, 'streiten': 1880, 'verangstigt': 1881, 'backte': 1882, 'stumm': 1883, 'glaubte': 1884, 'glaubt': 1885, 'bestritten': 1886, 'futterte': 1887, 'gekampft': 1888, 'erregt': 1889, 'gesellschaft': 1890, 'ohnmacht': 1891, 'inspiriert': 1892, 'verruckter': 1893, 'ertrinkt': 1894, 'begeistert': 1895, 'furchtbar': 1896, 'unbeweglich': 1897, 'rucksichtslos': 1898, 'beunruhigt': 1899, 'rechthaberisch': 1900, 'taff': 1901, 'lebte': 1902, 'angespannt': 1903, 'stach': 1904, 'alarmiert': 1905, 'potzdonner': 1906, 'angriff': 1907, 'bewegung': 1908, 'kapiert': 1909, 'schlage': 1910, 'umarme': 1911, 'kusst': 1912, 'tschuss': 1913, 'laufst': 1914, 'reg': 1915, 'handschellen': 1916, 'beheben': 1917, 'ernsthaft': 1918, 'greif': 1919, 'vergnugen': 1920, 'weigere': 1921, 'trete': 1922, 'benutze': 1923, 'glatzkopfig': 1924, 'eintritt': 1925, 'kusse': 1926, 'heirate': 1927, 'hervorragend': 1928, 'gezahlt': 1929, 'beobachte': 1930, 'zielen': 1931, 'bellen': 1932, 'fuhl': 1933, 'hols': 1934, 'sexy': 1935, 'willen': 1936, 'anderte': 1937, 'aufgelegt': 1938, 'versprechs': 1939, 'kasse': 1940, 'geheilt': 1941, 'brannte': 1942, 'geklappt': 1943, 'halb': 1944, 'vier': 1945, 'viertel': 1946, 'neun': 1947, 'kuhl': 1948, 'geoffnet': 1949, 'unsers': 1950, 'schwimm': 1951, 'schauen': 1952, 'lieg': 1953, 'hinten': 1954, 'stuck': 1955, 'ah': 1956, 'siehe': 1957, 'unterschreibe': 1958, 'harre': 1959, 'fielen': 1960, 'schwammen': 1961, 'verneigte': 1962, 'erstarrte': 1963, 'strickt': 1964, 'fluchte': 1965, 'winkte': 1966, 'unterhalten': 1967, 'fahrst': 1968, 'fangst': 1969, 'stinkst': 1970, 'hasts': 1971, 'hoher': 1972, 'herum': 1973, 'trag': 1974, 'prufe': 1975, 'fruhzeitig': 1976, 'hingegangen': 1977, 'grab': 1978, 'bewegt': 1979, 'schubsen': 1980, 'ruft': 1981, 'volltanken': 1982, 'existiert': 1983, 'legte': 1984, 'schaffte': 1985, 'schweizer': 1986, 'tragisch': 1987, 'geb': 1988, 'springen': 1989, 'getrunkten': 1990, 'repariert': 1991, 'gefallst': 1992, 'geriet': 1993, 'tust': 1994, 'gekotzt': 1995, 'ruppig': 1996, 'reingehen': 1997, 'blutarmut': 1998, 'immun': 1999, 'reif': 2000, 'ledig': 2001, 'hinterlistig': 2002, 'modeerscheinung': 2003, 'sperrig': 2004, 'nah': 2005, 'glanzt': 2006, 'steckt': 2007, 'lasset': 2008, 'abstimmen': 2009, 'draus': 2010, 'kommentar': 2011, 'ersetze': 2012, 'beeile': 2013, 'riech': 2014, 'beginne': 2015, 'nehmt': 2016, 'betrublich': 2017, 'mogeln': 2018, 'schliefen': 2019, 'versuchten': 2020, 'abgestimmt': 2021, 'genugen': 2022, 'tanzte': 2023, 'versagte': 2024, 'verga': 2025, 'kampfte': 2026, 'dummen': 2027, 'gehorchte': 2028, 'inne': 2029, 'telefonierte': 2030, 'heulen': 2031, 'abbiegen': 2032, 'cds': 2033, 'unseren': 2034, 'quitt': 2035, 'telefoniert': 2036, 'solls': 2037, 'bestimmst': 2038, 'gnadig': 2039, 'gewappnet': 2040, 'gnadenlos': 2041, 'spezifisch': 2042, 'troste': 2043, 'gerannt': 2044, 'fischen': 2045, 'streitet': 2046, 'ausbrechen': 2047, 'lach': 2048, 'starr': 2049, 'sorge': 2050, 'munze': 2051, 'kniff': 2052, 'gleich': 2053, 'stinkreich': 2054, 'stockbetrunken': 2055, 'stehts': 2056, 'dosen': 2057, 'online': 2058, 'geschwanzt': 2059, 'dreihundert': 2060, 'jazzmusik': 2061, 'kleber': 2062, 'gesorgt': 2063, 'benzin': 2064, 'ergebe': 2065, 'langweilte': 2066, 'gelegen': 2067, 'absagen': 2068, 'einsteigen': 2069, 'siebzehn': 2070, 'tollpatsch': 2071, 'faste': 2072, 'summe': 2073, 'schulden': 2074, 'hinweg': 2075, 'rente': 2076, 'erschrocken': 2077, 'pappsatt': 2078, 'ignoriere': 2079, 'funfzig': 2080, 'yen': 2081, 'falschung': 2082, 'bewolkt': 2083, 'abgeschlossen': 2084, 'gift': 2085, 'geheim': 2086, 'dringend': 2087, 'nachprufen': 2088, 'hochgehen': 2089, 'genauer': 2090, 'wunsch': 2091, 'prag': 2092, 'regiert': 2093, 'welt': 2094, 'gutes': 2095, 'timing': 2096, 'stell': 2097, 'merk': 2098, 'verabschiede': 2099, 'schroff': 2100, 'langer': 2101, 'haltet': 2102, 'handele': 2103, 'erteil': 2104, 'absage': 2105, 'gratis': 2106, 'brannten': 2107, 'riefen': 2108, 'tanzten': 2109, 'kussten': 2110, 'mist': 2111, 'jubelte': 2112, 'entschieden': 2113, 'ertrank': 2114, 'atmete': 2115, 'runzelte': 2116, 'stirn': 2117, 'freute': 2118, 'hamisch': 2119, 'grinste': 2120, 'zwangen': 2121, 'eingeatmet': 2122, 'schallplattenunterhalter': 2123, 'hammertyp': 2124, 'deprimiert': 2125, 'gutig': 2126, 'schlank': 2127, 'malte': 2128, 'zahlte': 2129, 'entspannte': 2130, 'rutschte': 2131, 'nieste': 2132, 'schwitzte': 2133, 'unterrichtet': 2134, 'stolperte': 2135, 'ubergeben': 2136, 'betrubt': 2137, 'aussteigen': 2138, 'bescheuert': 2139, 'unzuverlassig': 2140, 'cnn': 2141, 'wahlt': 2142, 'holle': 2143, 'gestohlen': 2144, 'drecksloch': 2145, 'verlust': 2146, 'durcheinander': 2147, 'team': 2148, 'ego': 2149, 'gejubelt': 2150, 'woran': 2151, 'gemogelt': 2152, 'geweckt': 2153, 'gehorst': 2154, 'objektiv': 2155, 'realistisch': 2156, 'verstarkung': 2157, 'fbi': 2158, 'melde': 2159, 'kummere': 2160, 'beschreibe': 2161, 'gewusst': 2162, 'geblieben': 2163, 'unterschrieben': 2164, 'seh': 2165, 'unterrichtest': 2166, 'merkt': 2167, 'porzellankiste': 2168, 'untersuch': 2169, 'gewehr': 2170, 'treppe': 2171, 'existieren': 2172, 'halfte': 2173, 'drumrum': 2174, 'endlich': 2175, 'handige': 2176, 'ostern': 2177, 'imbiss': 2178, 'koste': 2179, 'schafft': 2180, 'religioser': 2181, 'eiferer': 2182, 'ehrlichkeit': 2183, 'beruhrend': 2184, 'chinese': 2185, 'krankenpfleger': 2186, 'bete': 2187, 'kaviar': 2188, 'zerbrochen': 2189, 'rulpse': 2190, 'zeichnen': 2191, 'erwarten': 2192, 'kase': 2193, 'lebendig': 2194, 'tests': 2195, 'kuli': 2196, 'nesselsucht': 2197, 'druckte': 2198, 'improvisierte': 2199, 'umarmung': 2200, 'farbe': 2201, 'lowen': 2202, 'stern': 2203, 'geneckt': 2204, 'gedacht': 2205, 'vorbeikommen': 2206, 'kriege': 2207, 'purist': 2208, 'veranlagt': 2209, 'blute': 2210, 'bluffe': 2211, 'einigerma': 2212, 'ertrinke': 2213, 'legastheniker': 2214, 'kampfe': 2215, 'friere': 2216, 'hausarrest': 2217, 'perth': 2218, 'stau': 2219, 'aufstandischer': 2220, 'ruhelos': 2221, 'erbarmen': 2222, 'starker': 2223, 'kitzlig': 2224, 'erschopft': 2225, 'nachgeschaut': 2226, 'eisen': 2227, 'hirsch': 2228, 'wolf': 2229, 'begonnen': 2230, 'erschreckte': 2231, 'frucht': 2232, 'pflanze': 2233, 'schnappchen': 2234, 'furs': 2235, 'hagelt': 2236, 'gerucht': 2237, 'niedrig': 2238, 'rauskommst': 2239, 'konzentrier': 2240, 'renn': 2241, 'red': 2242, 'nachdenken': 2243, 'aufhort': 2244, 'hufte': 2245, 'scherte': 2246, 'niemanden': 2247, 'enspannt': 2248, 'fassung': 2249, 'weilchen': 2250, 'filmen': 2251, 'glotzen': 2252, 'starren': 2253, 'meckern': 2254, 'kommando': 2255, 'kontrolle': 2256, 'mull': 2257, 'jubelten': 2258, 'entkamen': 2259, 'weigerten': 2260, 'entspannten': 2261, 'hielten': 2262, 'schwitzten': 2263, 'gefalscht': 2264, 'unseres': 2265, 'klappen': 2266, 'eingebrochen': 2267, 'baute': 2268, 'schnitt': 2269, 'grimassen': 2270, 'murrte': 2271, 'akne': 2272, 'beharrte': 2273, 'veteran': 2274, 'brutal': 2275, 'gebrechlich': 2276, 'ex': 2277, 'fettleibig': 2278, 'albern': 2279, 'widersprach': 2280, 'versprach': 2281, 'lenkte': 2282, 'zitterte': 2283, 'zuckte': 2284, 'achseln': 2285, 'stottert': 2286, 'erzahlte': 2287, 'pfiff': 2288, 'erstaunt': 2289, 'abwarten': 2290, 'weck': 2291, 'araber': 2292, 'bereiteten': 2293, 'trauen': 2294, 'greifen': 2295, 'ausgehen': 2296, 'furchten': 2297, 'scherzen': 2298, 'ziehen': 2299, 'erbaut': 2300, 'dankst': 2301, 'daumen': 2302, 'vergingen': 2303, 'amusierst': 2304, 'nerven': 2305, 'mitkommen': 2306, 'beangstigst': 2307, 'bleibst': 2308, 'eklig': 2309, 'damlich': 2310, 'druckst': 2311, 'gewitzt': 2312, 'angefahren': 2313, 'fuge': 2314, 'hinzu': 2315, 'zugelassen': 2316, 'neuen': 2317, 'fan': 2318, 'langweilst': 2319, 'backen': 2320, 'untergliedere': 2321, 'umarmen': 2322, 'tanz': 2323, 'ertrunken': 2324, 'kapierst': 2325, 'seien': 2326, 'hinauf': 2327, 'schubs': 2328, 'reagier': 2329, 'darauf': 2330, 'hetz': 2331, 'kreis': 2332, 'sies': 2333, 'erbsen': 2334, 'sogar': 2335, 'ausatmen': 2336, 'futtere': 2337, 'futtert': 2338, 'bluhen': 2339, 'spiegelei': 2340, 'paar': 2341, 'sekunde': 2342, 'hau': 2343, 'segne': 2344, 'augenblickchen': 2345, 'schinken': 2346, 'berat': 2347, 'netztagebuch': 2348, 'ignorierte': 2349, 'vorzeitig': 2350, 'belogen': 2351, 'fortgeschickt': 2352, 'erblindet': 2353, 'osterreicher': 2354, 'jesuit': 2355, 'rechtsanwalt': 2356, 'autist': 2357, 'bedien': 2358, 'hieressen': 2359, 'blutete': 2360, 'seil': 2361, 'verspatet': 2362, 'amerikanerin': 2363, 'spuren': 2364, 'zusehen': 2365, 'herbeigefuhrt': 2366, 'beigetragen': 2367, 'verachte': 2368, 'hingesehen': 2369, 'gefuttert': 2370, 'spure': 2371, 'flau': 2372, 'schlechtes': 2373, 'gewissen': 2374, 'verziehen': 2375, 'ausgeflippt': 2376, 'umsonst': 2377, 'grippe': 2378, 'sellerie': 2379, 'verabredung': 2380, 'ring': 2381, 'visum': 2382, 'gesundigt': 2383, 'beruf': 2384, 'manches': 2385, 'franzosische': 2386, 'uhren': 2387, 'filme': 2388, 'zwiebeln': 2389, 'reggae': 2390, 'lachs': 2391, 'loffel': 2392, 'tulpen': 2393, 'kamele': 2394, 'spielfilme': 2395, 'veranlasst': 2396, 'zubereitet': 2397, 'rausgehen': 2398, 'weigern': 2399, 'crew': 2400, 'briefmarken': 2401, 'geige': 2402, 'zuruckgetan': 2403, 'respektiere': 2404, 'bedankte': 2405, 'flugzeug': 2406, 'krone': 2407, 'kanns': 2408, 'spaziergang': 2409, 'twitter': 2410, 'gemeldet': 2411, 'pferdchen': 2412, 'schwimmbecken': 2413, 'gehanselt': 2414, 'nachts': 2415, 'gedichte': 2416, 'lieder': 2417, 'ausrufen': 2418, 'probieren': 2419, 'kruppel': 2420, 'zahnarzt': 2421, 'feuerwehrmann': 2422, 'patientin': 2423, 'tourist': 2424, 'suchtiger': 2425, 'waisenkind': 2426, 'geschmeichelt': 2427, 'ungeduldig': 2428, 'gang': 2429, 'wahrhaben': 2430, 'motiviert': 2431, 'vom': 2432, 'fach': 2433, 'uberaus': 2434, 'beschadigt': 2435, 'ernstes': 2436, 'fledermaus': 2437, 'eben': 2438, 'schlimmer': 2439, 'frostig': 2440, 'schaden': 2441, 'abends': 2442, 'pilz': 2443, 'trifft': 2444, 'ehre': 2445, 'geschaft': 2446, 'wunderschon': 2447, 'hoffnungslos': 2448, 'verbessert': 2449, 'unmenschlich': 2450, 'mitternacht': 2451, 'veraltet': 2452, 'bullen': 2453, 'entsperrt': 2454, 'befindet': 2455, 'kontrollier': 2456, 'leine': 2457, 'beschaftige': 2458, 'klettere': 2459, 'kontakt': 2460, 'fasse': 2461, 'paddel': 2462, 'eintreten': 2463, 'belassen': 2464, 'sterblich': 2465, 'auswendig': 2466, 'ruckenschmerzen': 2467, 'gefressen': 2468, 'stinken': 2469, 'nacken': 2470, 'vorbeigekommen': 2471, 'oh': 2472, 'mannschaft': 2473, 'eulen': 2474, 'niedlich': 2475, 'beliebige': 2476, 'bademantel': 2477, 'schinden': 2478, 'schicken': 2479, 'buckte': 2480, 'verabscheute': 2481, 'aktiv': 2482, 'falsche': 2483, 'hoffnungen': 2484, 'schnelle': 2485, 'fuchsteufelswild': 2486, 'einige': 2487, 'deutlich': 2488, 'ruhrt': 2489, 'lasse': 2490, 'zuversichtlich': 2491, 'anzugeben': 2492, 'feg': 2493, 'duschen': 2494, 'geschmacker': 2495, 'verschieden': 2496, 'unsres': 2497, 'saturn': 2498, 'mythos': 2499, 'baum': 2500, 'machbar': 2501, 'glocke': 2502, 'lautete': 2503, 'zerbrach': 2504, 'kundigten': 2505, 'verschwanden': 2506, 'asiaten': 2507, 'dummkopfe': 2508, 'spione': 2509, 'dvd': 2510, 'wortspiel': 2511, 'ertuchtigte': 2512, 'weggehen': 2513, 'sportler': 2514, 'poet': 2515, 'chaot': 2516, 'zeitarbeiter': 2517, 'weichei': 2518, 'parteiisch': 2519, 'pummel': 2520, 'dost': 2521, 'sparsam': 2522, 'witzelt': 2523, 'verliert': 2524, 'liebevoll': 2525, 'einfaltig': 2526, 'raffiniert': 2527, 'protestierte': 2528, 'schubste': 2529, 'aufgezogen': 2530, 'sturzte': 2531, 'wankte': 2532, 'zeigte': 2533, 'angeschrieben': 2534, 'davor': 2535, 'achtzig': 2536, 'aufdringlich': 2537, 'wortkarg': 2538, 'beangstigend': 2539, 'gen': 2540, 'westen': 2541, 'flusterte': 2542, 'erzahlen': 2543, 'erstaunlich': 2544, 'verunsichert': 2545, 'erstickt': 2546, 'ihren': 2547, 'gebrauch': 2548, 'ruckendeckung': 2549, 'bohnere': 2550, 'habens': 2551, 'halfen': 2552, 'papier': 2553, 'werkzeug': 2554, 'einziehen': 2555, 'schamen': 2556, 'fasten': 2557, 'rechtsanwalte': 2558, 'eltern': 2559, 'stocken': 2560, 'gewinner': 2561, 'zirkus': 2562, 'passierte': 2563, 'ubriggeblieben': 2564, 'benutzt': 2565, 'welches': 2566, 'denn': 2567, 'angestellt': 2568, 'zuschieben': 2569, 'hilfst': 2570, 'irrst': 2571, 'aussichtslos': 2572, 'schaust': 2573, 'wirkst': 2574, 'scheitern': 2575, 'befangen': 2576, 'verlierst': 2577, 'bezahlst': 2578, 'verschwitzt': 2579, 'cola': 2580, 'kleinen': 2581, 'gestatten': 2582, 'geeignet': 2583, 'brechen': 2584, 'schlafst': 2585, 'stellen': 2586, 'junggeselle': 2587, 'vogeln': 2588, 'boote': 2589, 'untergehen': 2590, 'bereiten': 2591, 'gesellen': 2592, 'anfassen': 2593, 'reinige': 2594, 'kafig': 2595, 'ture': 2596, 'gras': 2597, 'schneide': 2598, 'sagtest': 2599, 'haltst': 2600, 'erledige': 2601, 'schnurren': 2602, 'leugnest': 2603, 'yoga': 2604, 'horst': 2605, 'recyceln': 2606, 'kauf': 2607, 'beschwer': 2608, 'kummer': 2609, 'gehorch': 2610, 'vorfuhrung': 2611, 'bezahlten': 2612, 'bildet': 2613, 'reihen': 2614, 'steig': 2615, 'federn': 2616, 'entledige': 2617, 'ran': 2618, 'leih': 2619, 'helfende': 2620, 'mitfahren': 2621, 'golf': 2622, 'frohes': 2623, 'geburtstag': 2624, 'feiertage': 2625, 'beschleunigt': 2626, 'gebeten': 2627, 'furchtet': 2628, 'zierlich': 2629, 'rucken': 2630, 'schimpfte': 2631, 'gelahmt': 2632, 'fleischhauer': 2633, 'fanatiker': 2634, 'samurai': 2635, 'faulpelz': 2636, 'jasager': 2637, 'autor': 2638, 'exknacki': 2639, 'gesetzloser': 2640, 'pantoffelheld': 2641, 'beim': 2642, 'versteck': 2643, 'bremse': 2644, 'nutzlich': 2645, 'vergeht': 2646, 'breit': 2647, 'entgegen': 2648, 'geheult': 2649, 'ungar': 2650, 'schuchterner': 2651, 'london': 2652, 'teilchen': 2653, 'fing': 2654, 'leihe': 2655, 'bein': 2656, 'gebrochen': 2657, 'verwendung': 2658, 'verachtet': 2659, 'durchgefallen': 2660, 'treibe': 2661, 'glucksspiel': 2662, 'ubers': 2663, 'seekrank': 2664, 'folgte': 2665, 'mitgebracht': 2666, 'garantiere': 2667, 'nietenhose': 2668, 'absolut': 2669, 'bugeln': 2670, 'karaoke': 2671, 'juristen': 2672, 'ratsel': 2673, 'pick': 2674, 'up': 2675, 'gedachtnis': 2676, 'ehefrau': 2677, 'tagebuch': 2678, 'schlosser': 2679, 'angle': 2680, 'ketchup': 2681, 'mahjong': 2682, 'austern': 2683, 'saschimi': 2684, 'meeresfruchte': 2685, 'geschichten': 2686, 'unterhalte': 2687, 'sonne': 2688, 'angel': 2689, 'jagen': 2690, 'schildkroten': 2691, 'harvard': 2692, 'mandeln': 2693, 'karotten': 2694, 'nachtisch': 2695, 'lasagne': 2696, 'ipod': 2697, 'puzzles': 2698, 'sonnenuntergange': 2699, 'universitat': 2700, 'ablehnen': 2701, 'besen': 2702, 'bitten': 2703, 'hobby': 2704, 'zigarette': 2705, 'briefmarke': 2706, 'benotige': 2707, 'privatsphare': 2708, 'unterstutzung': 2709, 'operiert': 2710, 'besitze': 2711, 'steuern': 2712, 'bekenne': 2713, 'zuchte': 2714, 'vieh': 2715, 'verabschiedete': 2716, 'kochin': 2717, 'nachrichten': 2718, 'diene': 2719, 'koreanisch': 2720, 'franzosischunterricht': 2721, 'dachte': 2722, 'gepack': 2723, 'bog': 2724, 'normalerweise': 2725, 'stuhl': 2726, 'glas': 2727, 'hundewelpen': 2728, 'gehaltserhohung': 2729, 'popcorn': 2730, 'rache': 2731, 'ventilator': 2732, 'urlaub': 2733, 'vergiftet': 2734, 'geschwitzt': 2735, 'gefoltert': 2736, 'genommen': 2737, 'brillentrager': 2738, 'anzeigen': 2739, 'wiederkommen': 2740, 'runterkommen': 2741, 'hinfahren': 2742, 'umziehen': 2743, 'schimpfen': 2744, 'unterrichten': 2745, 'einladen': 2746, 'beobachten': 2747, 'anstrengen': 2748, 'anfangerin': 2749, 'botaniker': 2750, 'musiker': 2751, 'netter': 2752, 'pazifist': 2753, 'strafgefangener': 2754, 'reicher': 2755, 'verkaufer': 2756, 'stuntman': 2757, 'teenager': 2758, 'schwachling': 2759, 'atheist': 2760, 'offizier': 2761, 'ausgenutzt': 2762, 'todmude': 2763, 'weitsichtig': 2764, 'fasziniert': 2765, 'analphabet': 2766, 'eilig': 2767, 'bereite': 2768, 'meditiere': 2769, 'aufgibt': 2770, 'optimistisch': 2771, 'uberarbeitet': 2772, 'alteste': 2773, 'untalentiert': 2774, 'eintopf': 2775, 'ausgezogen': 2776, 'wink': 2777, 'becher': 2778, 'gebuhr': 2779, 'sinn': 2780, 'lecker': 2781, 'absicht': 2782, 'verkauf': 2783, 'schneite': 2784, 'unserer': 2785, 'bestens': 2786, 'mittwoch': 2787, 'abgemacht': 2788, 'klassiker': 2789, 'neuer': 2790, 'versprechen': 2791, 'bewundernswert': 2792, 'uberfall': 2793, 'beleidigung': 2794, 'brandneu': 2795, 'kostlich': 2796, 'inkorrekt': 2797, 'uberflussig': 2798, 'hauptverkehrszeit': 2799, 'geschieht': 2800, 'wohnung': 2801, 'uben': 2802, 'starben': 2803, 'vorangehen': 2804, 'doofkopfe': 2805, 'schlicht': 2806, 'brust': 2807, 'gelenke': 2808, 'platten': 2809, 'handgelenk': 2810, 'daraus': 2811, 'brullte': 2812, 'erfahren': 2813, 'begreifst': 2814, 'schmoll': 2815, 'turen': 2816, 'pack': 2817, 'zeug': 2818, 'melodie': 2819, 'entferne': 2820, 'weitergehen': 2821, 'gestiegen': 2822, 'heran': 2823, 'wissenschaft': 2824, 'robben': 2825, 'findet': 2826, 'hinrei': 2827, 'erwurgt': 2828, 'laufpass': 2829, 'genarrt': 2830, 'unbeholfen': 2831, 'wild': 2832, 'bach': 2833, 'tippt': 2834, 'strengt': 2835, 'schadlich': 2836, 'tratschen': 2837, 'murren': 2838, 'schnuffeln': 2839, 'foto': 2840, 'rat': 2841, 'erfordert': 2842, 'ideal': 2843, 'zauberhaft': 2844, 'selbstverstandlichkeit': 2845, 'schadel': 2846, 'turm': 2847, 'offensichtlich': 2848, 'satz': 2849, 'plastik': 2850, 'lautet': 2851, 'typisch': 2852, 'bellte': 2853, 'preis': 2854, 'stieg': 2855, 'leckt': 2856, 'abgefahren': 2857, 'haken': 2858, 'applaudierten': 2859, 'kauften': 2860, 'hassten': 2861, 'gestritten': 2862, 'ruinierten': 2863, 'erreicht': 2864, 'strengen': 2865, 'trost': 2866, 'argert': 2867, 'lowe': 2868, 'test': 2869, 'vati': 2870, 'aufzustehen': 2871, 'zukunft': 2872, 'naherte': 2873, 'zusammengeschlagen': 2874, 'radelte': 2875, 'braut': 2876, 'zusammengebrochen': 2877, 'notruf': 2878, 'beklagt': 2879, 'unterbrochen': 2880, 'wahlte': 2881, 'zeichnet': 2882, 'grub': 2883, 'muhelos': 2884, 'fuhlt': 2885, 'gespendet': 2886, 'anruf': 2887, 'dicker': 2888, 'gehackt': 2889, 'zuchtete': 2890, 'rosen': 2891, 'dr': 2892, 'phil': 2893, 'asthma': 2894, 'probleme': 2895, 'skorbut': 2896, 'talent': 2897, 'ratten': 2898, 'reh': 2899, 'beachtete': 2900, 'improvisiert': 2901, 'schritt': 2902, 'radfahrer': 2903, 'trinker': 2904, 'zwerg': 2905, 'wachter': 2906, 'verlierer': 2907, 'bergmann': 2908, 'pilot': 2909, 'rabbi': 2910, 'schamt': 2911, 'durchschnittlich': 2912, 'ungelenk': 2913, 'gefuhllos': 2914, 'vielschichtig': 2915, 'zynisch': 2916, 'fragwurdig': 2917, 'staubt': 2918, 'entschuldigt': 2919, 'durchgedreht': 2920, 'schnappt': 2921, 'griesgram': 2922, 'abscheulich': 2923, 'geschichte': 2924, 'intensiv': 2925, 'geizig': 2926, 'idol': 2927, 'name': 2928, 'ungezogen': 2929, 'neutral': 2930, 'nickt': 2931, 'obszon': 2932, 'dienst': 2933, 'freut': 2934, 'aufgeblasen': 2935, 'prazise': 2936, 'ubersinnlich': 2937, 'radikal': 2938, 'zittert': 2939, 'oberflachlich': 2940, 'rasiert': 2941, 'ahnlich': 2942, 'sitzt': 2943, 'kluger': 2944, 'schluchzt': 2945, 'vollgegessen': 2946, 'taktvoll': 2947, 'neckisch': 2948, 'derjenige': 2949, 'beruhrt': 2950, 'unbewegt': 2951, 'bosartig': 2952, 'jammert': 2953, 'willig': 2954, 'gahnt': 2955, 'nieder': 2956, 'pistolen': 2957, 'jazz': 2958, 'nusse': 2959, 'thunfisch': 2960, 'ob': 2961, 'bleich': 2962, 'uberblick': 2963, 'larm': 2964, 'meint': 2965, 'gefuhrt': 2966, 'weggezogen': 2967, 'gebraucht': 2968, 'gezwickt': 2969, 'innen': 2970, 'umgeschrieben': 2971, 'gru': 2972, 'netten': 2973, 'eindruck': 2974, 'verschlief': 2975, 'gestochen': 2976, 'gestartet': 2977, 'tatenlos': 2978, 'zuruckgehalten': 2979, 'verpetzt': 2980, 'notizen': 2981, 'meldet': 2982, 'abwesend': 2983, 'clever': 2984, 'sanft': 2985, 'murrisch': 2986, 'zweiter': 2987, 'nahen': 2988, 'spie': 2989, 'unverletzt': 2990, 'eifrig': 2991, 'verbessern': 2992, 'bezaubernd': 2993, 'gelaunt': 2994, 'grinsen': 2995, 'verkatert': 2996, 'bewusstlos': 2997, 'bauchgefuhl': 2998, 'igkeit': 2999, 'charme': 3000, 'ewig': 3001, 'zogen': 3002, 'mordsspa': 3003, 'streit': 3004, 'bauernhof': 3005, 'gaste': 3006, 'schusse': 3007, 'ignoriert': 3008, 'begegnet': 3009, 'angreifen': 3010, 'helden': 3011, 'brauchten': 3012, 'kapitulierten': 3013, 'ausgetrickst': 3014, 'vertrauten': 3015, 'meldeten': 3016, 'schi': 3017, 'begraben': 3018, 'toten': 3019, 'anmalen': 3020, 'genies': 3021, 'furchterlich': 3022, 'partner': 3023, 'land': 3024, 'gedanke': 3025, 'welcher': 3026, 'passieren': 3027, 'wart': 3028, 'geldautomaten': 3029, 'trinkgeld': 3030, 'beschwert': 3031, 'eingeschritten': 3032, 'weggenommen': 3033, 'verletzen': 3034, 'beisammen': 3035, 'wisch': 3036, 'fuhrung': 3037, 'ubernehmen': 3038, 'widerst': 3039, 'schmeichelst': 3040, 'lernst': 3041, 'scharf': 3042, 'verstort': 3043, 'amusieren': 3044, 'feiges': 3045, 'summst': 3046, 'te': 3047, 'nichtsnutz': 3048, 'gewinnst': 3049, 'deines': 3050, 'funfzehn': 3051, 'kenterte': 3052, 'vorschlage': 3053, 'getranke': 3054, 'rote': 3055, 'guckst': 3056, 'achtzehn': 3057, 'lachelst': 3058, 'habt': 3059, 'arbeitest': 3060, 'stattdessen': 3061, 'balle': 3062, 'rund': 3063, 'bienen': 3064, 'honig': 3065, 'burste': 3066, 'tute': 3067, 'anschaffen': 3068, 'beteiligen': 3069, 'danach': 3070, 'aufmachen': 3071, 'auslassen': 3072, 'dus': 3073, 'kartons': 3074, 'klatsche': 3075, 'klapp': 3076, 'grunde': 3077, 'zugestimmt': 3078, 'protestiert': 3079, 'reagiert': 3080, 'fallenlassen': 3081, 'gemundet': 3082, 'liebtest': 3083, 'meintest': 3084, 'gelesen': 3085, 'grabe': 3086, 'tiefes': 3087, 'rap': 3088, 'erinnerst': 3089, 'glaubst': 3090, 'vertraust': 3091, 'snob': 3092, 'knausrig': 3093, 'flipp': 3094, 'argere': 3095, 'betrink': 3096, 'zuleide': 3097, 'beleidigen': 3098, 'unterbrich': 3099, 'daneben': 3100, 'ubertreib': 3101, 'parken': 3102, 'widersetze': 3103, 'streu': 3104, 'wunde': 3105, 'necke': 3106, 'schaf': 3107, 'taschen': 3108, 'schone': 3109, 'beteten': 3110, 'folgt': 3111, 'frosche': 3112, 'werkzeugkiste': 3113, 'rasen': 3114, 'sachen': 3115, 'gonne': 3116, 'handelt': 3117, 'morgengrauen': 3118, 'kamera': 3119, 'schlechte': 3120, 'reizt': 3121, 'athiopier': 3122, 'unmoglicher': 3123, 'traumer': 3124, 'medium': 3125, 'schlauer': 3126, 'unverheiratet': 3127, 'ballfreund': 3128, 'erwahnt': 3129, 'vertreibt': 3130, 'radios': 3131, 'whisky': 3132, 'lernte': 3133, 'zugewinkt': 3134, 'wellenreiten': 3135, 'komodiant': 3136, 'studentenverbindung': 3137, 'gartner': 3138, 'ganzer': 3139, 'unsozial': 3140, 'hundemude': 3141, 'bekommt': 3142, 'unterwegs': 3143, 'vierzig': 3144, 'querschnittsgelahmt': 3145, 'fotogen': 3146, 'aufgebracht': 3147, 'helium': 3148, 'hellte': 3149, 'album': 3150, 'he': 3151, 'ausweis': 3152, 'geturkt': 3153, 'hisst': 3154, 'segel': 3155, 'kerze': 3156, 'gewagt': 3157, 'fuhlen': 3158, 'woher': 3159, 'interessant': 3160, 'gekostet': 3161, 'deiner': 3162, 'hypnose': 3163, 'verabscheue': 3164, 'totmude': 3165, 'einzudosen': 3166, 'spanien': 3167, 'tokio': 3168, 'sitze': 3169, 'patsche': 3170, 'schatzen': 3171, 'zunge': 3172, 'gerulpst': 3173, 'rauch': 3174, 'verleugnen': 3175, 'zuruckkehren': 3176, 'riskieren': 3177, 'ungeschehen': 3178, 'beriet': 3179, 'kontaktiert': 3180, 'heruntergeladen': 3181, 'fiebrig': 3182, 'genauso': 3183, 'ubergangen': 3184, 'gefuhlt': 3185, 'jedes': 3186, 'antwort': 3187, 'erhalten': 3188, 'beerdigungen': 3189, 'politik': 3190, 'waschbaren': 3191, 'reptilien': 3192, 'einzukaufen': 3193, 'ausstehen': 3194, 'teppich': 3195, 'esel': 3196, 'laptop': 3197, 'theorie': 3198, 'ticket': 3199, 'trockene': 3200, 'haut': 3201, 'sommersprossen': 3202, 'uberlegen': 3203, 'trommel': 3204, 'gerausch': 3205, 'ellbogen': 3206, 'eingezogen': 3207, 'geduscht': 3208, 'grad': 3209, 'gespieben': 3210, 'andauernd': 3211, 'niesen': 3212, 'namen': 3213, 'typen': 3214, 'gegend': 3215, 'gelernt': 3216, 'raum': 3217, 'cartoons': 3218, 'auberginen': 3219, 'kartoffeln': 3220, 'rotwein': 3221, 'lache': 3222, 'feier': 3223, 'interesse': 3224, 'broccoli': 3225, 'komodien': 3226, 'western': 3227, 'zufugen': 3228, 'eventuell': 3229, 'eingeschatzt': 3230, 'armee': 3231, 'fehlst': 3232, 'beine': 3233, 'unbedingt': 3234, 'internet': 3235, 'brauch': 3236, 'eimer': 3237, 'leiter': 3238, 'taschentuch': 3239, 'koffein': 3240, 'stiefel': 3241, 'rasieren': 3242, 'gewesen': 3243, 'treffe': 3244, 'bestellt': 3245, 'rechnungen': 3246, 'gespielt': 3247, 'aufgesetzt': 3248, 'brief': 3249, 'ausgelesen': 3250, 'empfehle': 3251, 'film': 3252, 'giraffe': 3253, 'muster': 3254, 'schuttelte': 3255, 'speck': 3256, 'schwedisch': 3257, 'unterstutzte': 3258, 'vitamine': 3259, 'unterrichte': 3260, 'duschbad': 3261, 'vertrau': 3262, 'meiner': 3263, 'dasselbe': 3264, 'losgehen': 3265, 'zuschauen': 3266, 'zeuge': 3267, 'geboren': 3268, 'hingerissen': 3269, 'entsetzt': 3270, 'zitiert': 3271, 'gedemutigt': 3272, 'aufhalten': 3273, 'wunschte': 3274, 'gingest': 3275, 'dauern': 3276, 'abstreiten': 3277, 'nachgeben': 3278, 'notiert': 3279, 'gabel': 3280, 'limonade': 3281, 'ausprobieren': 3282, 'bliebe': 3283, 'umhoren': 3284, 'verteidigen': 3285, 'begleite': 3286, 'informieren': 3287, 'erwahnen': 3288, 'benachrichtigen': 3289, 'bestelle': 3290, 'kooperieren': 3291, 'jackson': 3292, 'gast': 3293, 'christ': 3294, 'tv': 3295, 'biologin': 3296, 'zimmermann': 3297, 'chauffeur': 3298, 'stadtmadchen': 3299, 'kommunistin': 3300, 'detektiv': 3301, 'schutze': 3302, 'glucklicher': 3303, 'hausfrau': 3304, 'rettungsschwimmer': 3305, 'masochist': 3306, 'nachteule': 3307, 'sanitater': 3308, 'polizist': 3309, 'professor': 3310, 'therapeut': 3311, 'risikofreudig': 3312, 'sternzeichen': 3313, 'wassermann': 3314, 'ingenieur': 3315, 'optimist': 3316, 'flehe': 3317, 'langerweile': 3318, 'farbenblind': 3319, 'verstopfung': 3320, 'kooperiere': 3321, 'tagtraumen': 3322, 'eigener': 3323, 'kurzsichtig': 3324, 'schlitzohr': 3325, 'streite': 3326, 'schreie': 3327, 'beharrlich': 3328, 'ersetzbar': 3329, 'spontan': 3330, 'copilot': 3331, 'peinlich': 3332, 'gucke': 3333, 'kellner': 3334, 'genossen': 3335, 'faxen': 3336, 'dicke': 3337, 'plappert': 3338, 'gutaussehend': 3339, 'infiziert': 3340, 'atmet': 3341, 'giftig': 3342, 'versalzen': 3343, 'arztin': 3344, 'zebra': 3345, 'erlaubt': 3346, 'cafe': 3347, 'fluss': 3348, 'ethisch': 3349, 'freitag': 3350, 'umgehauen': 3351, 'kaputtgegangen': 3352, 'notwendig': 3353, 'hangt': 3354, 'schmeckte': 3355, 'verlockend': 3356, 'herrschte': 3357, 'frost': 3358, 'handgemacht': 3359, 'schmerzlos': 3360, 'gelohnt': 3361, 'rolle': 3362, 'ne': 3363, 'arge': 3364, 'sackgasse': 3365, 'fasan': 3366, 'abkurzung': 3367, 'uberraschung': 3368, 'akzeptabel': 3369, 'spottbillig': 3370, 'verdientes': 3371, 'schones': 3372, 'wetter': 3373, 'unpassend': 3374, 'irrelevant': 3375, 'zauberei': 3376, 'irrefuhrend': 3377, 'bombe': 3378, 'lacherlich': 3379, 'erschreckend': 3380, 'verpack': 3381, 'ube': 3382, 'wechselgeld': 3383, 'bewahren': 3384, 'knete': 3385, 'teig': 3386, 'blei': 3387, 'metall': 3388, 'hinterlasse': 3389, 'nachricht': 3390, 'zitronen': 3391, 'nachhause': 3392, 'vortritt': 3393, 'entledigen': 3394, 'saufen': 3395, 'improvisieren': 3396, 'zuckerschlecken': 3397, 'betrachte': 3398, 'serviert': 3399, 'entscheide': 3400, 'verkleinere': 3401, 'verwitwet': 3402, 'zitieren': 3403, 'anprobieren': 3404, 'frohliche': 3405, 'unvermeidlich': 3406, 'benotigt': 3407, 'jeans': 3408, 'eingelaufen': 3409, 'quietschen': 3410, 'halsschmerzen': 3411, 'verliere': 3412, 'andert': 3413, 'oktober': 3414, 'flasche': 3415, 'fenster': 3416, 'streiche': 3417, 'zaun': 3418, 'stift': 3419, 'schal': 3420, 'hierhin': 3421, 'drucke': 3422, 'druckknopf': 3423, 'setze': 3424, 'puzzlespielen': 3425, 'zuruckweisung': 3426, 'donut': 3427, 'drogen': 3428, 'langweilt': 3429, 'naturwissenschaften': 3430, 'sichere': 3431, 'worauf': 3432, 'hinauswill': 3433, 'schicke': 3434, 'haie': 3435, 'hubsche': 3436, 'elegant': 3437, 'sturkopf': 3438, 'gekniffen': 3439, 'ohrfeigte': 3440, 'erstach': 3441, 'fuhrte': 3442, 'fesselte': 3443, 'chefin': 3444, 'arbeitete': 3445, 'zeigt': 3446, 'durchsetzungsvermogen': 3447, 'karten': 3448, 'aufrecht': 3449, 'spanisch': 3450, 'buchstabieren': 3451, 'stiehl': 3452, 'wimmern': 3453, 'fege': 3454, 'aspirin': 3455, 'tabletten': 3456, 'erzahle': 3457, 'geschichtchen': 3458, 'offen': 3459, 'kostete': 3460, 'pagode': 3461, 'bleistift': 3462, 'betrug': 3463, 'bezweifeln': 3464, 'kleid': 3465, 'zeugs': 3466, 'gestern': 3467, 'personlich': 3468, 'feucht': 3469, 'angehalten': 3470, 'knurrte': 3471, 'erstarb': 3472, 'stank': 3473, 'see': 3474, 'blatter': 3475, 'mond': 3476, 'ofen': 3477, 'bezahlung': 3478, 'strom': 3479, 'brunnen': 3480, 'trocken': 3481, 'wind': 3482, 'heulte': 3483, 'keinerlei': 3484, 'seife': 3485, 'redeten': 3486, 'melonen': 3487, 'piloten': 3488, 'gelb': 3489, 'glauben': 3490, 'fuhren': 3491, 'ignorierten': 3492, 'wohnen': 3493, 'vermissten': 3494, 'verkaufen': 3495, 'besuchten': 3496, 'lagen': 3497, 'denen': 3498, 'russen': 3499, 'praktikanten': 3500, 'ten': 3501, 'hotel': 3502, 'pfirsich': 3503, 'schicksal': 3504, 'stumpfsinnig': 3505, 'unnutz': 3506, 'neuigkeit': 3507, 'zeiten': 3508, 'jedem': 3509, 'beschleunigte': 3510, 'handelte': 3511, 'benahm': 3512, 'betrunkener': 3513, 'dazugegeben': 3514, 'zugegeben': 3515, 'ums': 3516, 'genehmigt': 3517, 'angegriffen': 3518, 'lippe': 3519, 'malen': 3520, 'verursacht': 3521, 'verfolgte': 3522, 'ausgecheckt': 3523, 'leistete': 3524, 'beitrag': 3525, 'hinterging': 3526, 'entworfen': 3527, 'gejagt': 3528, 'bestanden': 3529, 'gezeigt': 3530, 'ruhrte': 3531, 'ekelt': 3532, 'duckte': 3533, 'ubertreibt': 3534, 'verstummte': 3535, 'unbehaglich': 3536, 'wehrte': 3537, 'flippte': 3538, 'geargert': 3539, 'geandert': 3540, 'panisch': 3541, 'husten': 3542, 'buckel': 3543, 'gewisser': 3544, 'ausgesorgt': 3545, 'mehrere': 3546, 'moglichkeiten': 3547, 'kaninchen': 3548, 'geheimnisse': 3549, 'durchhaltevermogen': 3550, 'oper': 3551, 'vorschriften': 3552, 'barbier': 3553, 'hohes': 3554, 'enmusikant': 3555, 'feigling': 3556, 'einsiedler': 3557, 'legende': 3558, 'pirat': 3559, 'topfer': 3560, 'priester': 3561, 'prinz': 3562, 'rassist': 3563, 'rapper': 3564, 'einsteiger': 3565, 'seemann': 3566, 'senior': 3567, 'raucher': 3568, 'wellenreiter': 3569, 'schneider': 3570, 'komischer': 3571, 'kauz': 3572, 'agnostisch': 3573, 'athletisch': 3574, 'barfu': 3575, 'sorglos': 3576, 'charmant': 3577, 'frohlich': 3578, 'ahnungslos': 3579, 'hustet': 3580, 'glaubwurdig': 3581, 'kultiviert': 3582, 'ausschlaggebend': 3583, 'geistesgestort': 3584, 'untreu': 3585, 'umstanden': 3586, 'entsprechend': 3587, 'unschlussig': 3588, 'durchnasst': 3589, 'gebildet': 3590, 'beredt': 3591, 'uberzeugend': 3592, 'flieht': 3593, 'sagenhaft': 3594, 'ausgehungert': 3595, 'flexibel': 3596, 'kraftvoll': 3597, 'friert': 3598, 'zugig': 3599, 'kichert': 3600, 'grinst': 3601, 'stohnt': 3602, 'beiden': 3603, 'beinen': 3604, 'hoffnungsloser': 3605, 'humorvoll': 3606, 'unreif': 3607, 'schock': 3608, 'unsicher': 3609, 'involviert': 3610, 'kniet': 3611, 'klopft': 3612, 'verwaltet': 3613, 'barmherzig': 3614, 'feind': 3615, 'neurotisch': 3616, 'gehorsam': 3617, 'emport': 3618, 'pervers': 3619, 'rational': 3620, 'reformiert': 3621, 'rastlos': 3622, 'zieht': 3623, 'verrichtet': 3624, 'einkaufe': 3625, 'angewidert': 3626, 'niest': 3627, 'kontaktfreudig': 3628, 'temperamentvoll': 3629, 'verhungert': 3630, 'selbstmordgefahrdet': 3631, 'schwitzt': 3632, 'taktlos': 3633, 'talentiert': 3634, 'endstadium': 3635, 'kitzelig': 3636, 'unermudlich': 3637, 'unvoreingenommen': 3638, 'entnervt': 3639, 'verschwender': 3640, 'kleinlich': 3641, 'smart': 3642, 'sprang': 3643, 'erschien': 3644, 'freilassung': 3645, 'kaution': 3646, 'gerichtsverhandlung': 3647, 'guckte': 3648, 'weitergegessen': 3649, 'weiterbewegt': 3650, 'weiterversucht': 3651, 'totete': 3652, 'kusste': 3653, 'beugte': 3654, 'blues': 3655, 'salsa': 3656, 'zundete': 3657, 'streichholz': 3658, 'schaut': 3659, 'kaltem': 3660, 'blick': 3661, 'flott': 3662, 'festgefahren': 3663, 'abgenommen': 3664, 'chili': 3665, 'supergerne': 3666, 'moge': 3667, 'aussagen': 3668, 'vermisste': 3669, 'erhalb': 3670, 'uberreagiert': 3671, 'verschied': 3672, 'rugby': 3673, 'romane': 3674, 'aufgenommen': 3675, 'hai': 3676, 'erschreckt': 3677, 'toller': 3678, 'langweilen': 3679, 'bereitwillig': 3680, 'baren': 3681, 'tenor': 3682, 'schluckchen': 3683, 'bremste': 3684, 'ergeben': 3685, 'bad': 3686, 'fotos': 3687, 'dressiert': 3688, 'erneut': 3689, 'wandte': 3690, 'meldete': 3691, 'warnte': 3692, 'beleidigend': 3693, 'unnachgiebig': 3694, 'geblendet': 3695, 'gemobbt': 3696, 'trotzig': 3697, 'betagt': 3698, 'ausweichend': 3699, 'nachsichtig': 3700, 'stohnte': 3701, 'unartig': 3702, 'keuchte': 3703, 'erfreut': 3704, 'schluchzte': 3705, 'niedergestochen': 3706, 'taser': 3707, 'beschossen': 3708, 'teilnehmen': 3709, 'fliehen': 3710, 'empfangt': 3711, 'medaille': 3712, 'gewann': 3713, 'ruhren': 3714, 'handschuhe': 3715, 'angestrengt': 3716, 'herausfinden': 3717, 'charmeur': 3718, 'experte': 3719, 'sank': 3720, 'genial': 3721, 'bewusstsein': 3722, 'saukomisch': 3723, 'cousin': 3724, 'neffe': 3725, 'absto': 3726, 'verdienen': 3727, 'aufzuhalten': 3728, 'versuche': 3729, 'gahnen': 3730, 'wande': 3731, 'hintrittst': 3732, 'zehen': 3733, 'bereits': 3734, 'verhafteten': 3735, 'nennen': 3736, 'nahmen': 3737, 'machten': 3738, 'erklarten': 3739, 'rohen': 3740, 'picknicks': 3741, 'brachten': 3742, 'waffeln': 3743, 'handeln': 3744, 'fachleute': 3745, 'duschten': 3746, 'zuruckhaben': 3747}\n"
          ],
          "name": "stdout"
        }
      ]
    },
    {
      "cell_type": "code",
      "metadata": {
        "id": "SIOau4qSyysW",
        "colab": {
          "base_uri": "https://localhost:8080/",
          "height": 357
        },
        "outputId": "ea497e38-a288-4c46-8fc4-93ddee66d01c"
      },
      "source": [
        "!wget nlp.stanford.edu/data/glove.6B.zip"
      ],
      "execution_count": null,
      "outputs": [
        {
          "output_type": "stream",
          "text": [
            "--2020-04-16 00:26:28--  http://nlp.stanford.edu/data/glove.6B.zip\n",
            "Resolving nlp.stanford.edu (nlp.stanford.edu)... 171.64.67.140\n",
            "Connecting to nlp.stanford.edu (nlp.stanford.edu)|171.64.67.140|:80... connected.\n",
            "HTTP request sent, awaiting response... 302 Found\n",
            "Location: https://nlp.stanford.edu/data/glove.6B.zip [following]\n",
            "--2020-04-16 00:26:28--  https://nlp.stanford.edu/data/glove.6B.zip\n",
            "Connecting to nlp.stanford.edu (nlp.stanford.edu)|171.64.67.140|:443... connected.\n",
            "HTTP request sent, awaiting response... 301 Moved Permanently\n",
            "Location: http://downloads.cs.stanford.edu/nlp/data/glove.6B.zip [following]\n",
            "--2020-04-16 00:26:29--  http://downloads.cs.stanford.edu/nlp/data/glove.6B.zip\n",
            "Resolving downloads.cs.stanford.edu (downloads.cs.stanford.edu)... 171.64.64.22\n",
            "Connecting to downloads.cs.stanford.edu (downloads.cs.stanford.edu)|171.64.64.22|:80... connected.\n",
            "HTTP request sent, awaiting response... 200 OK\n",
            "Length: 862182613 (822M) [application/zip]\n",
            "Saving to: ‘glove.6B.zip’\n",
            "\n",
            "glove.6B.zip        100%[===================>] 822.24M  2.04MB/s    in 6m 30s  \n",
            "\n",
            "2020-04-16 00:32:59 (2.11 MB/s) - ‘glove.6B.zip’ saved [862182613/862182613]\n",
            "\n"
          ],
          "name": "stdout"
        }
      ]
    },
    {
      "cell_type": "code",
      "metadata": {
        "id": "6AY8Hcoxy0IH",
        "colab": {
          "base_uri": "https://localhost:8080/",
          "height": 102
        },
        "outputId": "45c36b1a-55ff-4ebf-8357-5d0b35d2d1cd"
      },
      "source": [
        "!unzip glove.6B.zip"
      ],
      "execution_count": null,
      "outputs": [
        {
          "output_type": "stream",
          "text": [
            "Archive:  glove.6B.zip\n",
            "  inflating: glove.6B.50d.txt        \n",
            "  inflating: glove.6B.100d.txt       \n",
            "  inflating: glove.6B.200d.txt       \n",
            "  inflating: glove.6B.300d.txt       \n"
          ],
          "name": "stdout"
        }
      ]
    },
    {
      "cell_type": "code",
      "metadata": {
        "id": "HJGBOBBZy9Cu"
      },
      "source": [
        "#Example from keras.io\n",
        "\n",
        "embeddings_dict = {}\n",
        "with open(\"glove.6B.50d.txt\", 'r') as f:\n",
        "    for line in f:\n",
        "        values = line.split()\n",
        "        word = values[0]\n",
        "        vector = np.asarray(values[1:], \"float32\")\n",
        "        embeddings_dict[word] = vector"
      ],
      "execution_count": null,
      "outputs": []
    },
    {
      "cell_type": "code",
      "metadata": {
        "id": "DBc43xYGzXk8"
      },
      "source": [
        "#Example from keras.io\n",
        "num_words = min(TOT_WORDS, len(Source_vocabulary) + 1)\n",
        "embedding_matrix = np.zeros((num_words, 50))\n",
        "for word, index in Source_vocabulary.items():\n",
        "    embedding_vector = embeddings_dict.get(word)\n",
        "    if embedding_vector is not None:\n",
        "        embedding_matrix[index] = embedding_vector"
      ],
      "execution_count": null,
      "outputs": []
    },
    {
      "cell_type": "code",
      "metadata": {
        "id": "I7G4tGZwgVUW",
        "colab": {
          "base_uri": "https://localhost:8080/",
          "height": 170
        },
        "outputId": "1f95e6fc-a89b-4d27-8303-c0d7131534ee"
      },
      "source": [
        "print(embeddings_dict[list(embeddings_dict.keys())[0]])"
      ],
      "execution_count": null,
      "outputs": [
        {
          "output_type": "stream",
          "text": [
            "[ 4.1800e-01  2.4968e-01 -4.1242e-01  1.2170e-01  3.4527e-01 -4.4457e-02\n",
            " -4.9688e-01 -1.7862e-01 -6.6023e-04 -6.5660e-01  2.7843e-01 -1.4767e-01\n",
            " -5.5677e-01  1.4658e-01 -9.5095e-03  1.1658e-02  1.0204e-01 -1.2792e-01\n",
            " -8.4430e-01 -1.2181e-01 -1.6801e-02 -3.3279e-01 -1.5520e-01 -2.3131e-01\n",
            " -1.9181e-01 -1.8823e+00 -7.6746e-01  9.9051e-02 -4.2125e-01 -1.9526e-01\n",
            "  4.0071e+00 -1.8594e-01 -5.2287e-01 -3.1681e-01  5.9213e-04  7.4449e-03\n",
            "  1.7778e-01 -1.5897e-01  1.2041e-02 -5.4223e-02 -2.9871e-01 -1.5749e-01\n",
            " -3.4758e-01 -4.5637e-02 -4.4251e-01  1.8785e-01  2.7849e-03 -1.8411e-01\n",
            " -1.1514e-01 -7.8581e-01]\n"
          ],
          "name": "stdout"
        }
      ]
    },
    {
      "cell_type": "markdown",
      "metadata": {
        "id": "2QfLgKEgazro"
      },
      "source": [
        "## Section 2 Translation Model training\n",
        "\n",
        "\n",
        "\n",
        "---\n",
        "\n"
      ]
    },
    {
      "cell_type": "markdown",
      "metadata": {
        "id": "Y8WnlX8d0RVj"
      },
      "source": [
        "**Task 4 (15 marks)**\n",
        "* Provide code for the encoder using Keras LSTM (5 marks)\n",
        "* Provide code for the decoder using Keras LSTM (5 marks)\n",
        "* Train the sequence2sequence (encoder-decoder) model (5 marks) \n"
      ]
    },
    {
      "cell_type": "code",
      "metadata": {
        "id": "F_sLH38o0BJq"
      },
      "source": [
        "embedding_layer = tf.keras.layers.Embedding(num_words, 50, weights=[embedding_matrix], input_length=max_source_seq_length)"
      ],
      "execution_count": null,
      "outputs": []
    },
    {
      "cell_type": "code",
      "metadata": {
        "id": "yM5vmuoMzsrF"
      },
      "source": [
        "decoder_targets_one_hot = np.zeros((\n",
        "        len(source_sentences),\n",
        "        max_target_seq_length,\n",
        "        num_words_output\n",
        "    ),\n",
        "    dtype='float32'\n",
        ")"
      ],
      "execution_count": null,
      "outputs": []
    },
    {
      "cell_type": "code",
      "metadata": {
        "id": "0rd6sJ9EE4QX"
      },
      "source": [
        "# decoder_targets_one_hot = None\n",
        "# model = None\n",
        "# del decoder_targets_one_hot\n",
        "# del model\n",
        "# # del encoder_states\n",
        "# # del decoder_dense\n",
        "# import gc\n",
        "# gc.collect()"
      ],
      "execution_count": null,
      "outputs": []
    },
    {
      "cell_type": "code",
      "metadata": {
        "id": "pZ9g_RH40_fj",
        "colab": {
          "base_uri": "https://localhost:8080/",
          "height": 34
        },
        "outputId": "99f45296-56fa-44a3-9396-f8349b31752c"
      },
      "source": [
        "decoder_targets_one_hot.shape"
      ],
      "execution_count": null,
      "outputs": [
        {
          "output_type": "execute_result",
          "data": {
            "text/plain": [
              "(10000, 10, 3749)"
            ]
          },
          "metadata": {
            "tags": []
          },
          "execution_count": 146
        }
      ]
    },
    {
      "cell_type": "code",
      "metadata": {
        "id": "5CzfBj9O1FSM"
      },
      "source": [
        "for i, d in enumerate(decoder_output_sequences):\n",
        "    for t, word in enumerate(d):\n",
        "        decoder_targets_one_hot[i, t, word] = 1"
      ],
      "execution_count": null,
      "outputs": []
    },
    {
      "cell_type": "code",
      "metadata": {
        "id": "6UmRZxfZ1aYO"
      },
      "source": [
        "encoder_placeholder = tf.keras.layers.Input(shape=(max_source_seq_length,),name='encoder_layer')\n",
        "layer_inp = embedding_layer(encoder_placeholder)\n",
        "encoder = tf.keras.layers.LSTM(256, return_state=True)\n",
        "\n",
        "encoder_outputs, h, c = encoder(layer_inp)\n",
        "encoder_states = [h, c]"
      ],
      "execution_count": null,
      "outputs": []
    },
    {
      "cell_type": "code",
      "metadata": {
        "id": "erw3s9vI0scb"
      },
      "source": [
        "# decoder code goes here\n",
        "\n",
        "decoder_placeholder = tf.keras.layers.Input(shape=(max_target_seq_length,),name='decoder_layer')\n",
        "\n",
        "decoder_embedding_layer = tf.keras.layers.Embedding(num_words_output, 256 )\n",
        "decoder_inp = decoder_embedding_layer(decoder_placeholder)\n",
        "\n",
        "\n",
        "decoder_lstm = tf.keras.layers.LSTM(256, return_sequences=True, return_state=True)\n",
        "decoder_outputs, _, _ = decoder_lstm(decoder_inp, initial_state=encoder_states)"
      ],
      "execution_count": null,
      "outputs": []
    },
    {
      "cell_type": "code",
      "metadata": {
        "id": "qg7UJL821sVX"
      },
      "source": [
        "decoder_dense = tf.keras.layers.Dense(num_words_output, activation='softmax')\n",
        "decoder_outputs = decoder_dense(decoder_outputs)"
      ],
      "execution_count": null,
      "outputs": []
    },
    {
      "cell_type": "code",
      "metadata": {
        "id": "xe3hV0b00uJN",
        "colab": {
          "base_uri": "https://localhost:8080/",
          "height": 425
        },
        "outputId": "cc6f4c9b-ef8e-4ce1-9f98-758911b73c58"
      },
      "source": [
        "model =  tf.keras.models.Model([encoder_placeholder,decoder_placeholder], decoder_outputs)\n",
        "model.compile(optimizer='rmsprop',loss='categorical_crossentropy',metrics=['accuracy'])\n",
        "model.summary()"
      ],
      "execution_count": null,
      "outputs": [
        {
          "output_type": "stream",
          "text": [
            "Model: \"model_1\"\n",
            "__________________________________________________________________________________________________\n",
            "Layer (type)                    Output Shape         Param #     Connected to                     \n",
            "==================================================================================================\n",
            "encoder_layer (InputLayer)      [(None, 5)]          0                                            \n",
            "__________________________________________________________________________________________________\n",
            "decoder_layer (InputLayer)      [(None, 10)]         0                                            \n",
            "__________________________________________________________________________________________________\n",
            "embedding_10 (Embedding)        (None, 5, 50)        141900      encoder_layer[0][0]              \n",
            "__________________________________________________________________________________________________\n",
            "embedding_11 (Embedding)        (None, 10, 256)      959744      decoder_layer[0][0]              \n",
            "__________________________________________________________________________________________________\n",
            "lstm_10 (LSTM)                  [(None, 256), (None, 314368      embedding_10[0][0]               \n",
            "__________________________________________________________________________________________________\n",
            "lstm_11 (LSTM)                  [(None, 10, 256), (N 525312      embedding_11[0][0]               \n",
            "                                                                 lstm_10[0][1]                    \n",
            "                                                                 lstm_10[0][2]                    \n",
            "__________________________________________________________________________________________________\n",
            "dense_3 (Dense)                 (None, 10, 3749)     963493      lstm_11[0][0]                    \n",
            "==================================================================================================\n",
            "Total params: 2,904,817\n",
            "Trainable params: 2,904,817\n",
            "Non-trainable params: 0\n",
            "__________________________________________________________________________________________________\n"
          ],
          "name": "stdout"
        }
      ]
    },
    {
      "cell_type": "code",
      "metadata": {
        "id": "9bwe6QRp2Rrc"
      },
      "source": [
        "X_train = np.array(X_train)\n",
        "Y_train = np.array(Y_train)"
      ],
      "execution_count": null,
      "outputs": []
    },
    {
      "cell_type": "code",
      "metadata": {
        "id": "ovWQs8KG09we",
        "colab": {
          "base_uri": "https://localhost:8080/",
          "height": 887
        },
        "outputId": "24ff2d24-40d0-46fa-9fbf-202276244e78"
      },
      "source": [
        "r = model.fit(\n",
        "    [encoder_input_sequences, decoder_input_sequences],\n",
        "    decoder_targets_one_hot,\n",
        "    batch_size=128,\n",
        "    epochs=25,\n",
        "    # initial_epochs=25,\n",
        "    validation_split=0.1,\n",
        ")  \n",
        "model.save('seq2seq_source_target.h5')"
      ],
      "execution_count": null,
      "outputs": [
        {
          "output_type": "stream",
          "text": [
            "Epoch 1/25\n",
            "71/71 [==============================] - 18s 259ms/step - loss: 2.6657 - accuracy: 0.6146 - val_loss: 2.1124 - val_accuracy: 0.6697\n",
            "Epoch 2/25\n",
            "71/71 [==============================] - 18s 251ms/step - loss: 1.9151 - accuracy: 0.7127 - val_loss: 1.7917 - val_accuracy: 0.7619\n",
            "Epoch 3/25\n",
            "71/71 [==============================] - 18s 251ms/step - loss: 1.6837 - accuracy: 0.7403 - val_loss: 1.6799 - val_accuracy: 0.7769\n",
            "Epoch 4/25\n",
            "71/71 [==============================] - 18s 252ms/step - loss: 1.5396 - accuracy: 0.7596 - val_loss: 1.5908 - val_accuracy: 0.7904\n",
            "Epoch 5/25\n",
            "71/71 [==============================] - 17s 245ms/step - loss: 1.4194 - accuracy: 0.7736 - val_loss: 1.5201 - val_accuracy: 0.7997\n",
            "Epoch 6/25\n",
            "71/71 [==============================] - 19s 269ms/step - loss: 1.3201 - accuracy: 0.7844 - val_loss: 1.4730 - val_accuracy: 0.8000\n",
            "Epoch 7/25\n",
            "71/71 [==============================] - 18s 250ms/step - loss: 1.2325 - accuracy: 0.7934 - val_loss: 1.4393 - val_accuracy: 0.8020\n",
            "Epoch 8/25\n",
            "71/71 [==============================] - 18s 250ms/step - loss: 1.1534 - accuracy: 0.8004 - val_loss: 1.4055 - val_accuracy: 0.8099\n",
            "Epoch 9/25\n",
            "71/71 [==============================] - 18s 250ms/step - loss: 1.0815 - accuracy: 0.8086 - val_loss: 1.3585 - val_accuracy: 0.8138\n",
            "Epoch 10/25\n",
            "71/71 [==============================] - 18s 247ms/step - loss: 1.0174 - accuracy: 0.8167 - val_loss: 1.3362 - val_accuracy: 0.8160\n",
            "Epoch 11/25\n",
            "71/71 [==============================] - 18s 251ms/step - loss: 0.9576 - accuracy: 0.8251 - val_loss: 1.3162 - val_accuracy: 0.8224\n",
            "Epoch 12/25\n",
            "71/71 [==============================] - 18s 253ms/step - loss: 0.9031 - accuracy: 0.8327 - val_loss: 1.2753 - val_accuracy: 0.8256\n",
            "Epoch 13/25\n",
            "71/71 [==============================] - 18s 251ms/step - loss: 0.8491 - accuracy: 0.8403 - val_loss: 1.2688 - val_accuracy: 0.8298\n",
            "Epoch 14/25\n",
            "71/71 [==============================] - 18s 252ms/step - loss: 0.7996 - accuracy: 0.8478 - val_loss: 1.2662 - val_accuracy: 0.8282\n",
            "Epoch 15/25\n",
            "71/71 [==============================] - 17s 246ms/step - loss: 0.7510 - accuracy: 0.8554 - val_loss: 1.2545 - val_accuracy: 0.8286\n",
            "Epoch 16/25\n",
            "71/71 [==============================] - 18s 250ms/step - loss: 0.7031 - accuracy: 0.8628 - val_loss: 1.2217 - val_accuracy: 0.8371\n",
            "Epoch 17/25\n",
            "71/71 [==============================] - 18s 250ms/step - loss: 0.6595 - accuracy: 0.8705 - val_loss: 1.2212 - val_accuracy: 0.8339\n",
            "Epoch 18/25\n",
            "71/71 [==============================] - 18s 250ms/step - loss: 0.6163 - accuracy: 0.8779 - val_loss: 1.2049 - val_accuracy: 0.8372\n",
            "Epoch 19/25\n",
            "71/71 [==============================] - 18s 250ms/step - loss: 0.5782 - accuracy: 0.8845 - val_loss: 1.1882 - val_accuracy: 0.8422\n",
            "Epoch 20/25\n",
            "71/71 [==============================] - 18s 247ms/step - loss: 0.5427 - accuracy: 0.8915 - val_loss: 1.1851 - val_accuracy: 0.8409\n",
            "Epoch 21/25\n",
            "71/71 [==============================] - 18s 250ms/step - loss: 0.5064 - accuracy: 0.8979 - val_loss: 1.1745 - val_accuracy: 0.8424\n",
            "Epoch 22/25\n",
            "71/71 [==============================] - 18s 252ms/step - loss: 0.4745 - accuracy: 0.9049 - val_loss: 1.1991 - val_accuracy: 0.8332\n",
            "Epoch 23/25\n",
            "71/71 [==============================] - 18s 257ms/step - loss: 0.4420 - accuracy: 0.9104 - val_loss: 1.1615 - val_accuracy: 0.8437\n",
            "Epoch 24/25\n",
            "71/71 [==============================] - 18s 251ms/step - loss: 0.4125 - accuracy: 0.9169 - val_loss: 1.1790 - val_accuracy: 0.8423\n",
            "Epoch 25/25\n",
            "71/71 [==============================] - 17s 245ms/step - loss: 0.3827 - accuracy: 0.9231 - val_loss: 1.1608 - val_accuracy: 0.8448\n"
          ],
          "name": "stdout"
        }
      ]
    },
    {
      "cell_type": "markdown",
      "metadata": {
        "id": "0Sy_WCp31x79"
      },
      "source": [
        "## Section 3 Testing\n",
        "\n",
        "---\n",
        "\n",
        "**Task 5 (20 marks)**\n",
        "\n",
        "* Use the trained model to translate the text from the source into the target language (10 marks). \n",
        "* Use the test/evaluation set (see Section 1) and perform an automatic evaluation with the BLEU metric (10 marks). \n",
        "You can use the NLTK library to calculate BLEU."
      ]
    },
    {
      "cell_type": "code",
      "metadata": {
        "id": "erqHiiTwngUg"
      },
      "source": [
        "encoder_model = tf.keras.models.Model(encoder_placeholder, encoder_states)"
      ],
      "execution_count": null,
      "outputs": []
    },
    {
      "cell_type": "code",
      "metadata": {
        "id": "F-au5PlSrufB"
      },
      "source": [
        "decoder_h = tf.keras.layers.Input(shape=(256,))\n",
        "decoder_c = tf.keras.layers.Input(shape=(256,))\n",
        "decoder_states_inputs = [decoder_h, decoder_c]"
      ],
      "execution_count": null,
      "outputs": []
    },
    {
      "cell_type": "code",
      "metadata": {
        "id": "soJq6PnKrwYV"
      },
      "source": [
        "decoder_inputs_single = tf.keras.layers.Input(shape=(1,))\n",
        "decoder_inputs_single_x = decoder_embedding_layer(decoder_inputs_single)"
      ],
      "execution_count": null,
      "outputs": []
    },
    {
      "cell_type": "code",
      "metadata": {
        "id": "H1Xyvq_HryOX"
      },
      "source": [
        "decoder_outputs, h, c = decoder_lstm(decoder_inputs_single_x, initial_state=decoder_states_inputs)"
      ],
      "execution_count": null,
      "outputs": []
    },
    {
      "cell_type": "code",
      "metadata": {
        "id": "UBhOxFjGrz2Z"
      },
      "source": [
        "decoder_states = [h, c]\n",
        "decoder_outputs = decoder_dense(decoder_outputs)"
      ],
      "execution_count": null,
      "outputs": []
    },
    {
      "cell_type": "code",
      "metadata": {
        "id": "Xs8YoXLkr2Q8"
      },
      "source": [
        "decoder_model = tf.keras.models.Model(\n",
        "    [decoder_inputs_single] + decoder_states_inputs,\n",
        "    [decoder_outputs] + decoder_states\n",
        ")"
      ],
      "execution_count": null,
      "outputs": []
    },
    {
      "cell_type": "code",
      "metadata": {
        "id": "OU4xovlfr4TX"
      },
      "source": [
        "idx2word_input = {v:k for k, v in Source_vocabulary.items()}\n",
        "idx2word_target = {v:k for k, v in target_vocabulary.items()}"
      ],
      "execution_count": null,
      "outputs": []
    },
    {
      "cell_type": "code",
      "metadata": {
        "id": "oz9TvlLZr7g4"
      },
      "source": [
        "def translate(sequence):\n",
        "    states_value = encoder_model.predict(sequence)\n",
        "    target_seq = np.zeros((1, 1))\n",
        "    target_seq[0, 0] = target_vocabulary['<bof>']\n",
        "    eos = target_vocabulary['<eos>']\n",
        "    output_sentence = []\n",
        "\n",
        "    for _ in range(max_target_seq_length):\n",
        "        output_tokens, h, c = decoder_model.predict([target_seq] + states_value)\n",
        "        idx = np.argmax(output_tokens[0, 0, :])\n",
        "\n",
        "        if eos == idx:\n",
        "            break\n",
        "\n",
        "        word = ''\n",
        "\n",
        "        if idx > 0:\n",
        "            word = idx2word_target[idx]\n",
        "            output_sentence.append(word)\n",
        "\n",
        "        target_seq[0, 0] = idx\n",
        "        states_value = [h, c]\n",
        "\n",
        "    return ' '.join(output_sentence)"
      ],
      "execution_count": null,
      "outputs": []
    },
    {
      "cell_type": "code",
      "metadata": {
        "id": "_5eXvYMs4p23",
        "colab": {
          "base_uri": "https://localhost:8080/",
          "height": 51
        },
        "outputId": "a072e620-87d0-4f13-e19e-819c0354c04d"
      },
      "source": [
        "# i = np.random.choice(len(source_sentences))\n",
        "i  = 7926\n",
        "input_seq = encoder_input_sequences[i:i+1]\n",
        "translation = translate(input_seq)\n",
        "print( eng_sentences[i])\n",
        "print( translation)"
      ],
      "execution_count": null,
      "outputs": [
        {
          "output_type": "stream",
          "text": [
            "i like this tea\n",
            "ich mag tee\n"
          ],
          "name": "stdout"
        }
      ]
    },
    {
      "cell_type": "code",
      "metadata": {
        "id": "m6Nlk07y-shP",
        "colab": {
          "base_uri": "https://localhost:8080/",
          "height": 34
        },
        "outputId": "abb792ff-d948-44f2-f3a4-9eef7da1fc0e"
      },
      "source": [
        "reference = target_sentences[i].split()\n",
        "hypothesis = translation.split()\n",
        "reference = reference[:-1]\n",
        "print(reference,hypothesis)"
      ],
      "execution_count": null,
      "outputs": [
        {
          "output_type": "stream",
          "text": [
            "['dieser', 'tee', 'gefallt', 'mir'] ['ich', 'mag', 'tee']\n"
          ],
          "name": "stdout"
        }
      ]
    },
    {
      "cell_type": "code",
      "metadata": {
        "id": "ef0WiHep-WyJ"
      },
      "source": [
        "import nltk\n",
        "from nltk.translate.bleu_score import SmoothingFunction\n",
        "smoothing = SmoothingFunction().method4"
      ],
      "execution_count": null,
      "outputs": []
    },
    {
      "cell_type": "code",
      "metadata": {
        "id": "_AOQt0KC-oRW"
      },
      "source": [
        "def get_bleu(reference,hyp):\n",
        "    try:\n",
        "        return nltk.translate.bleu_score.sentence_bleu([reference], hyp,smoothing_function = smoothing,weights=(0.35,0.35,0.20,0.10))\n",
        "    except:\n",
        "        print(\"Zero\" , reference ,hyp)\n",
        "        return 0\n"
      ],
      "execution_count": null,
      "outputs": []
    },
    {
      "cell_type": "code",
      "metadata": {
        "id": "vXH5CiJJgBpS",
        "colab": {
          "base_uri": "https://localhost:8080/",
          "height": 34
        },
        "outputId": "c3f4e07b-4dc7-4968-8b31-358741b594d6"
      },
      "source": [
        "get_bleu(reference,hypothesis)"
      ],
      "execution_count": null,
      "outputs": [
        {
          "output_type": "execute_result",
          "data": {
            "text/plain": [
              "0.15019024921825153"
            ]
          },
          "metadata": {
            "tags": []
          },
          "execution_count": 166
        }
      ]
    },
    {
      "cell_type": "code",
      "metadata": {
        "id": "yzj4i_OqRax1"
      },
      "source": [
        "_inp = encoder_input_sequences.tolist()"
      ],
      "execution_count": null,
      "outputs": []
    },
    {
      "cell_type": "code",
      "metadata": {
        "id": "CQYwd7vuRhfw"
      },
      "source": [
        "#X_test = X_test[:200]"
      ],
      "execution_count": null,
      "outputs": []
    },
    {
      "cell_type": "code",
      "metadata": {
        "id": "TzcD-Cu-TCeQ"
      },
      "source": [
        "bleu_scores = list()"
      ],
      "execution_count": null,
      "outputs": []
    },
    {
      "cell_type": "code",
      "metadata": {
        "id": "-EzWGxPuRn_8",
        "colab": {
          "base_uri": "https://localhost:8080/",
          "height": 68
        },
        "outputId": "3d866099-dfbb-4d64-b510-338b336fb61f"
      },
      "source": [
        "for _i,x in enumerate(X_test):\n",
        "    idx = _inp.index(x.tolist())\n",
        "    seq = encoder_input_sequences[idx:idx+1] \n",
        "    translation = translate(seq)\n",
        "    reference = deu_sentences[idx].split()\n",
        "    hypothesis = translation.split()\n",
        "    reference = reference[:-1]\n",
        "    _score = get_bleu(reference,hypothesis)\n",
        "    bleu_scores.append( _score )"
      ],
      "execution_count": null,
      "outputs": [
        {
          "output_type": "stream",
          "text": [
            "Zero ['tom', 'summt'] ['tom']\n",
            "Zero ['gesundheit'] ['gesundheit']\n",
            "Zero ['geh'] ['geh']\n"
          ],
          "name": "stdout"
        }
      ]
    },
    {
      "cell_type": "code",
      "metadata": {
        "id": "s9xe9GdPUdF6",
        "colab": {
          "base_uri": "https://localhost:8080/",
          "height": 34
        },
        "outputId": "bff62b3e-ceea-4a80-d01c-f7871a5188d5"
      },
      "source": [
        "_bleu_scores = np.array(bleu_scores)\n",
        "print(\"Avg Score: \"  ,_bleu_scores.mean() )"
      ],
      "execution_count": null,
      "outputs": [
        {
          "output_type": "stream",
          "text": [
            "Avg Score:  0.5712977231168633\n"
          ],
          "name": "stdout"
        }
      ]
    },
    {
      "cell_type": "markdown",
      "metadata": {
        "id": "wb4F1-a00Hw6"
      },
      "source": [
        "# Section 4 Attention\n",
        "\n",
        "---\n",
        "\n"
      ]
    },
    {
      "cell_type": "code",
      "metadata": {
        "id": "61IlBoPlRf7V",
        "colab": {
          "base_uri": "https://localhost:8080/",
          "height": 34
        },
        "outputId": "1aed0733-2797-493e-badd-7c7e337bc105"
      },
      "source": [
        "tf.keras.backend.clear_session()\n",
        "# del model\n",
        "import gc\n",
        "gc.collect()"
      ],
      "execution_count": null,
      "outputs": [
        {
          "output_type": "execute_result",
          "data": {
            "text/plain": [
              "46939"
            ]
          },
          "metadata": {
            "tags": []
          },
          "execution_count": 172
        }
      ]
    },
    {
      "cell_type": "markdown",
      "metadata": {
        "id": "6XTD-fCC1yUA"
      },
      "source": [
        "**Task 5 (40 Marks)** Sequence2Sequence\n",
        "\n",
        "* Extend the existing Seq2Seq model with an attention mechanism [Discussed in Class]\n",
        "* Create sequence2sequence model with attention (15 marks)\n",
        "* Train the model with the same data from Section 1 (10 marks)\n",
        "* Translate the evaluation set using the sequence2sequence attention model (10 marks)\n",
        "* Evaluate the translations made with the sequence2sequence attention model and compare it with the model without attention using BLEU (5 marks)"
      ]
    },
    {
      "cell_type": "code",
      "metadata": {
        "id": "iuYZAK9Tf4By"
      },
      "source": [
        "#example from tensorfow.org\n",
        "embedding_size = 50\n",
        "enc_input = tf.keras.layers.Input(shape=(max_source_seq_length,))\n",
        "encoder = tf.keras.layers.Embedding(num_words, embedding_size, weights= [embedding_matrix], trainable=False)(enc_input)\n",
        "encoder = tf.keras.layers.LSTM(256, return_sequences=True, unroll=True )(encoder)\n",
        "encoder_last_layer = encoder[:,-1,:]\n",
        "dec_inp = tf.keras.layers.Input(shape=(max_target_seq_length,))\n",
        "decoder = tf.keras.layers.Embedding(num_words_output, embedding_size)(dec_inp)\n",
        "decoder = tf.keras.layers.LSTM(256, return_sequences=True, unroll=True)(decoder, initial_state=[encoder_last_layer,encoder_last_layer])\n",
        "attention = tf.keras.layers.dot([decoder, encoder], axes=[2, 2])\n",
        "attention = tf.keras.layers.Activation('softmax', name='attention')(attention)\n",
        "\n",
        "context = tf.keras.layers.dot([attention, encoder], axes=[2,1])\n",
        "\n",
        "decoder_combined_context = tf.keras.layers.concatenate([context, decoder])\n",
        "\n",
        "output = tf.keras.layers.TimeDistributed(tf.keras.layers.Dense(64, activation=\"tanh\"))(decoder_combined_context)\n",
        "output = tf.keras.layers.TimeDistributed(tf.keras.layers.Dense(num_words_output, activation=\"softmax\"))(output)"
      ],
      "execution_count": null,
      "outputs": []
    },
    {
      "cell_type": "code",
      "metadata": {
        "id": "cddDQ4923cPY",
        "colab": {
          "base_uri": "https://localhost:8080/",
          "height": 646
        },
        "outputId": "326436c2-7d25-4b38-be0a-40f176504e81"
      },
      "source": [
        "model = tf.keras.models.Model(inputs =[enc_input, dec_inp], outputs =[output])\n",
        "model.compile(optimizer='rmsprop', loss='categorical_crossentropy', metrics=['acc'])\n",
        "model.summary()"
      ],
      "execution_count": null,
      "outputs": [
        {
          "output_type": "stream",
          "text": [
            "Model: \"model\"\n",
            "__________________________________________________________________________________________________\n",
            "Layer (type)                    Output Shape         Param #     Connected to                     \n",
            "==================================================================================================\n",
            "input_3 (InputLayer)            [(None, 5)]          0                                            \n",
            "__________________________________________________________________________________________________\n",
            "embedding_2 (Embedding)         (None, 5, 50)        141900      input_3[0][0]                    \n",
            "__________________________________________________________________________________________________\n",
            "input_4 (InputLayer)            [(None, 10)]         0                                            \n",
            "__________________________________________________________________________________________________\n",
            "lstm_2 (LSTM)                   (None, 5, 256)       314368      embedding_2[0][0]                \n",
            "__________________________________________________________________________________________________\n",
            "embedding_3 (Embedding)         (None, 10, 50)       187450      input_4[0][0]                    \n",
            "__________________________________________________________________________________________________\n",
            "tf_op_layer_strided_slice_1 (Te [(None, 256)]        0           lstm_2[0][0]                     \n",
            "__________________________________________________________________________________________________\n",
            "lstm_3 (LSTM)                   (None, 10, 256)      314368      embedding_3[0][0]                \n",
            "__________________________________________________________________________________________________\n",
            "dot_1 (Dot)                     (None, 10, 5)        0           lstm_3[0][0]                     \n",
            "                                                                 lstm_2[0][0]                     \n",
            "__________________________________________________________________________________________________\n",
            "attention (Activation)          (None, 10, 5)        0           dot_1[0][0]                      \n",
            "__________________________________________________________________________________________________\n",
            "dot_2 (Dot)                     (None, 10, 256)      0           attention[0][0]                  \n",
            "                                                                 lstm_2[0][0]                     \n",
            "__________________________________________________________________________________________________\n",
            "concatenate (Concatenate)       (None, 10, 512)      0           dot_2[0][0]                      \n",
            "                                                                 lstm_3[0][0]                     \n",
            "__________________________________________________________________________________________________\n",
            "time_distributed (TimeDistribut (None, 10, 64)       32832       concatenate[0][0]                \n",
            "__________________________________________________________________________________________________\n",
            "time_distributed_1 (TimeDistrib (None, 10, 3749)     243685      time_distributed[0][0]           \n",
            "==================================================================================================\n",
            "Total params: 1,234,603\n",
            "Trainable params: 1,092,703\n",
            "Non-trainable params: 141,900\n",
            "__________________________________________________________________________________________________\n"
          ],
          "name": "stdout"
        }
      ]
    },
    {
      "cell_type": "code",
      "metadata": {
        "id": "ONIdgkkThn1H",
        "colab": {
          "base_uri": "https://localhost:8080/",
          "height": 884
        },
        "outputId": "42f23bfa-f425-4c83-a11a-bf63a2ca52c2"
      },
      "source": [
        "model.fit(\n",
        "    [encoder_input_sequences, decoder_input_sequences],\n",
        "    decoder_targets_one_hot,\n",
        "    batch_size=256,\n",
        "    epochs=25,\n",
        "    validation_split=0.1\n",
        ")"
      ],
      "execution_count": null,
      "outputs": [
        {
          "output_type": "stream",
          "text": [
            "Epoch 1/25\n",
            "36/36 [==============================] - 11s 303ms/step - loss: 5.1074 - acc: 0.5370 - val_loss: 3.5674 - val_acc: 0.5442\n",
            "Epoch 2/25\n",
            "36/36 [==============================] - 10s 288ms/step - loss: 3.1079 - acc: 0.5528 - val_loss: 2.7852 - val_acc: 0.5442\n",
            "Epoch 3/25\n",
            "36/36 [==============================] - 10s 279ms/step - loss: 2.5900 - acc: 0.5529 - val_loss: 2.5007 - val_acc: 0.5443\n",
            "Epoch 4/25\n",
            "36/36 [==============================] - 10s 281ms/step - loss: 2.3108 - acc: 0.6153 - val_loss: 2.1895 - val_acc: 0.6744\n",
            "Epoch 5/25\n",
            "36/36 [==============================] - 10s 283ms/step - loss: 2.0850 - acc: 0.6886 - val_loss: 2.0190 - val_acc: 0.7497\n",
            "Epoch 6/25\n",
            "36/36 [==============================] - 10s 286ms/step - loss: 1.9474 - acc: 0.7078 - val_loss: 1.9242 - val_acc: 0.7646\n",
            "Epoch 7/25\n",
            "36/36 [==============================] - 10s 289ms/step - loss: 1.8566 - acc: 0.7139 - val_loss: 1.8646 - val_acc: 0.7693\n",
            "Epoch 8/25\n",
            "36/36 [==============================] - 10s 287ms/step - loss: 1.7939 - acc: 0.7211 - val_loss: 1.8377 - val_acc: 0.7659\n",
            "Epoch 9/25\n",
            "36/36 [==============================] - 10s 287ms/step - loss: 1.7329 - acc: 0.7309 - val_loss: 1.7459 - val_acc: 0.7724\n",
            "Epoch 10/25\n",
            "36/36 [==============================] - 12s 327ms/step - loss: 1.6844 - acc: 0.7367 - val_loss: 1.7593 - val_acc: 0.7729\n",
            "Epoch 11/25\n",
            "36/36 [==============================] - 10s 287ms/step - loss: 1.6360 - acc: 0.7405 - val_loss: 1.7089 - val_acc: 0.7693\n",
            "Epoch 12/25\n",
            "36/36 [==============================] - 10s 280ms/step - loss: 1.6013 - acc: 0.7449 - val_loss: 1.6957 - val_acc: 0.7730\n",
            "Epoch 13/25\n",
            "36/36 [==============================] - 10s 282ms/step - loss: 1.5662 - acc: 0.7503 - val_loss: 1.6748 - val_acc: 0.7809\n",
            "Epoch 14/25\n",
            "36/36 [==============================] - 10s 284ms/step - loss: 1.5321 - acc: 0.7540 - val_loss: 1.6279 - val_acc: 0.7824\n",
            "Epoch 15/25\n",
            "36/36 [==============================] - 10s 287ms/step - loss: 1.5038 - acc: 0.7579 - val_loss: 1.6219 - val_acc: 0.7892\n",
            "Epoch 16/25\n",
            "36/36 [==============================] - 10s 285ms/step - loss: 1.4712 - acc: 0.7609 - val_loss: 1.6423 - val_acc: 0.7850\n",
            "Epoch 17/25\n",
            "36/36 [==============================] - 10s 286ms/step - loss: 1.4483 - acc: 0.7643 - val_loss: 1.5983 - val_acc: 0.7887\n",
            "Epoch 18/25\n",
            "36/36 [==============================] - 10s 283ms/step - loss: 1.4142 - acc: 0.7694 - val_loss: 1.6012 - val_acc: 0.7916\n",
            "Epoch 19/25\n",
            "36/36 [==============================] - 10s 286ms/step - loss: 1.3922 - acc: 0.7722 - val_loss: 1.5699 - val_acc: 0.7944\n",
            "Epoch 20/25\n",
            "36/36 [==============================] - 10s 288ms/step - loss: 1.3619 - acc: 0.7758 - val_loss: 1.5653 - val_acc: 0.7941\n",
            "Epoch 21/25\n",
            "36/36 [==============================] - 10s 282ms/step - loss: 1.3387 - acc: 0.7789 - val_loss: 1.5646 - val_acc: 0.7914\n",
            "Epoch 22/25\n",
            "36/36 [==============================] - 10s 281ms/step - loss: 1.3223 - acc: 0.7820 - val_loss: 1.5741 - val_acc: 0.7928\n",
            "Epoch 23/25\n",
            "36/36 [==============================] - 10s 290ms/step - loss: 1.2876 - acc: 0.7845 - val_loss: 1.5292 - val_acc: 0.7953\n",
            "Epoch 24/25\n",
            "36/36 [==============================] - 10s 286ms/step - loss: 1.2645 - acc: 0.7870 - val_loss: 1.5158 - val_acc: 0.7976\n",
            "Epoch 25/25\n",
            "36/36 [==============================] - 10s 288ms/step - loss: 1.2475 - acc: 0.7895 - val_loss: 1.5110 - val_acc: 0.7982\n"
          ],
          "name": "stdout"
        },
        {
          "output_type": "execute_result",
          "data": {
            "text/plain": [
              "<tensorflow.python.keras.callbacks.History at 0x7f52830e0470>"
            ]
          },
          "metadata": {
            "tags": []
          },
          "execution_count": 176
        }
      ]
    },
    {
      "cell_type": "code",
      "metadata": {
        "id": "JMg807-Vhume"
      },
      "source": [
        "def translate_attention(seq):\n",
        "    decoder_input = np.ones(shape=(seq.shape[0], max_target_seq_length))\n",
        "    decoder_input[:,0] = target_vocabulary['<bof>']\n",
        "    for i in range(1, max_target_seq_length):\n",
        "        output_ = model.predict([seq , decoder_input]).argmax(axis=2)\n",
        "        decoder_input[:,i] = output_[:,i]\n",
        "    decoder_output = decoder_input[:,1:]\n",
        "    decoder_output = np.array(decoder_output,dtype=int)\n",
        "    sequence = decoder_output[0]\n",
        "    text = ''\n",
        "    for i in sequence:\n",
        "        if i == 0:\n",
        "            continue\n",
        "        if idx2word_target[i] == '<eos>':\n",
        "            break\n",
        "        else:\n",
        "            text += ' ' + idx2word_target[i]\n",
        "    return text.strip().rstrip()"
      ],
      "execution_count": null,
      "outputs": []
    },
    {
      "cell_type": "code",
      "metadata": {
        "id": "jURvJi7Tp8Om",
        "colab": {
          "base_uri": "https://localhost:8080/",
          "height": 68
        },
        "outputId": "9e1685a1-14a4-48fb-ad6a-01361b97a7ad"
      },
      "source": [
        "i = 0\n",
        "input_seq = encoder_input_sequences[i:i+1] \n",
        "\n",
        "trans = translate_attention(input_seq)\n",
        "print(trans)\n",
        "print(deu_sentences[i], eng_sentences[i])\n",
        "reference = deu_sentences[i]\n",
        "reference = reference[:-1]\n",
        "print(get_bleu(trans , reference))"
      ],
      "execution_count": null,
      "outputs": [
        {
          "output_type": "stream",
          "text": [
            "\n",
            "geh <eos> go\n",
            "0\n"
          ],
          "name": "stdout"
        }
      ]
    },
    {
      "cell_type": "code",
      "metadata": {
        "id": "Wq95vqaJJQKx"
      },
      "source": [
        "bleu_scores_att = list()"
      ],
      "execution_count": null,
      "outputs": []
    },
    {
      "cell_type": "code",
      "metadata": {
        "id": "Air7LzDLqZET",
        "colab": {
          "base_uri": "https://localhost:8080/",
          "height": 1000
        },
        "outputId": "cd9aea9b-095f-4a2d-c1d6-15f0db58e827"
      },
      "source": [
        "for _i,x in enumerate(X_test):\n",
        "    idx = _inp.index(x.tolist())\n",
        "    seq = encoder_input_sequences[idx:idx+1]\n",
        "    translation = translate_attention(seq)\n",
        "    reference = deu_sentences[idx].split()\n",
        "    hypothesis = translation.split()\n",
        "    reference = reference[:-1]\n",
        "    _score = get_bleu(reference,hypothesis)\n",
        "    bleu_scores_att.append( _score )\n"
      ],
      "execution_count": null,
      "outputs": [
        {
          "output_type": "stream",
          "text": [
            "Zero ['tom', 'wird', 'helfen'] ['wird']\n",
            "Zero ['ist', 'tom', 'zuverlassig'] ['tom']\n",
            "Zero ['wir', 'sind', 'in', 'ordnung'] ['sind']\n",
            "Zero ['sie', 'sind', 'familie'] ['sind']\n",
            "Zero ['wir', 'sind', 'unschuldig'] ['sind']\n",
            "Zero ['war', 'es', 'kalt'] ['es']\n",
            "Zero ['kannst', 'du', 'schwimmen'] ['du']\n",
            "Zero ['wir', 'sind', 'gerettet'] ['sind']\n",
            "Zero ['krahen', 'sind', 'klug'] ['sind']\n",
            "Zero ['wir', 'sind', 'furchterlich'] ['sind']\n",
            "Zero ['ist', 'das', 'normal'] ['das']\n",
            "Zero ['tom', 'ist', 'verletzt'] ['ist']\n",
            "Zero ['tom', 'hielt', 'an'] ['tom']\n",
            "Zero ['tom', 'hat', 'angerufen'] ['tom']\n",
            "Zero ['ich', 'bin', 'glucklich'] ['bin']\n",
            "Zero ['ich', 'bin', 'entspannt'] ['bin']\n",
            "Zero ['wir', 'sind', 'gewinner'] ['sind']\n",
            "Zero ['wir', 'sind', 'hier'] ['sind']\n",
            "Zero ['das', 'sind', 'unsere'] ['sind']\n",
            "Zero ['tom', 'hat', 'gesprochen'] ['tom']\n",
            "Zero ['ist', 'tom', 'brav'] ['tom']\n",
            "Zero ['ist', 'das', 'notig'] ['das']\n",
            "Zero ['wir', 'sind', 'bewaffnet'] ['sind']\n",
            "Zero ['ist', 'tom', 'entlassen', 'worden'] ['tom']\n",
            "Zero ['wer', 'ist', 'sie'] ['ist']\n",
            "Zero ['gehort', 'das', 'dir'] ['das']\n",
            "Zero ['kannst', 'du', 'schlittschuh', 'laufen'] ['du']\n",
            "Zero ['beginnen', 'sie', 'jetzt'] ['sie']\n",
            "Zero ['sie', 'sind', 'zu', 'hause'] ['sind']\n",
            "Zero ['tom', 'war', 'drau', 'en'] ['war']\n",
            "Zero ['es', 'ist', 'hei'] ['ist']\n",
            "Zero ['hat', 'tom', 'schmerzen'] ['tom']\n",
            "Zero ['was', 'ist', 'los'] ['ist']\n",
            "Zero ['es', 'ist', 'besetzt'] ['ist']\n",
            "Zero ['wir', 'sind', 'nicht', 'zu', 'hause'] ['sind']\n",
            "Zero ['ich', 'bin', 'verruckt'] ['bin']\n",
            "Zero ['ist', 'das', 'wahr'] ['das']\n",
            "Zero ['wir', 'sind', 'uns', 'sicher'] ['sind']\n",
            "Zero ['wer', 'ist', 'die', 'nummer', 'eins'] ['ist']\n",
            "Zero ['wir', 'sind', 'die', 'besten'] ['sind']\n",
            "Zero ['ich', 'bin', 'ordentlich'] ['bin']\n",
            "Zero ['druck', 'mich'] ['mich']\n",
            "Zero ['wir', 'sind', 'unglucklich'] ['sind']\n",
            "Zero ['ich', 'bin', 'in', 'der', 'schule'] ['bin']\n",
            "Zero ['sie', 'haben', 'sich', 'verirrt'] ['sie']\n",
            "Zero ['ich', 'war', 'drau', 'en'] ['war']\n",
            "Zero ['ich', 'bin', 'wieder', 'da'] ['bin']\n",
            "Zero ['wir', 'sind', 'pleite'] ['sind']\n",
            "Zero ['das', 'ist', 'mist'] ['ist']\n",
            "Zero ['tom', 'stimmte', 'zu'] ['tom']\n",
            "Zero ['tom', 'blieb'] ['tom']\n",
            "Zero ['ich', 'war', 'eingeladen'] ['war']\n",
            "Zero ['ich', 'bin', 'beruhmt'] ['bin']\n",
            "Zero ['ist', 'das', 'wahr'] ['das']\n",
            "Zero ['wir', 'sind', 'verloren'] ['sind']\n",
            "Zero ['ich', 'war', 'bereit'] ['war']\n",
            "Zero ['ist', 'tom', 'okay'] ['tom']\n",
            "Zero ['singt', 'tom'] ['tom']\n",
            "Zero ['ich', 'bin', 'nass'] ['bin']\n",
            "Zero ['ich', 'bin', 'jahre', 'alt'] ['bin']\n",
            "Zero ['wir', 'sind', 'bruder'] ['sind']\n",
            "Zero ['pass', 'auf', 'dich', 'auf'] ['dich']\n",
            "Zero ['wir', 'haben', 'es', 'geschafft'] ['haben']\n",
            "Zero ['ich', 'war', 'weg'] ['war']\n",
            "Zero ['es', 'wird', 'da', 'sein'] ['es']\n",
            "Zero ['hallo', 'tom'] ['tom']\n",
            "Zero ['ist', 'tom', 'beruhmt'] ['tom']\n",
            "Zero ['es', 'war', 'perfekt'] ['war']\n",
            "Zero ['ube', 'weiter'] ['weiter']\n",
            "Zero ['ich', 'bin', 'unten'] ['bin']\n",
            "Zero ['tom', 'wusste', 'es'] ['tom']\n",
            "Zero ['ich', 'bin', 'glatzkopfig'] ['bin']\n",
            "Zero ['wir', 'sind', 'im', 'krieg'] ['sind']\n",
            "Zero ['wir', 'sind', 'arzte'] ['sind']\n",
            "Zero ['tom', 'schloss', 'die', 'schule', 'ab'] ['tom']\n",
            "Zero ['weine', 'nicht'] ['nicht']\n",
            "Zero ['wir', 'sind', 'nutzlos'] ['sind']\n",
            "Zero ['ich', 'bin', 'uber', 'drei', 'ig'] ['bin']\n",
            "Zero ['tom', 'lehnte', 'ab'] ['tom']\n",
            "Zero ['ich', 'bin', 'verletzt'] ['bin']\n",
            "Zero ['tom', 'ist', 'zuruckgekommen'] ['tom']\n",
            "Zero ['ich', 'bin', 'in', 'perth'] ['bin']\n",
            "Zero ['du', 'bist', 'mude'] ['bist']\n",
            "Zero ['sie', 'sind', 'schwestern'] ['sind']\n",
            "Zero ['beweg', 'dich'] ['dich']\n",
            "Zero ['ich', 'war', 'wach'] ['war']\n",
            "Zero ['ich', 'bin', 'schlecht'] ['bin']\n",
            "Zero ['sie', 'ist', 'abgeschlossen'] ['ist']\n",
            "Zero ['kann', 'ich', 'helfen'] ['ich']\n",
            "Zero ['ich', 'bin', 'hier', 'um', 'zu', 'siegen'] ['bin']\n",
            "Zero ['ich', 'bin', 'mude'] ['bin']\n",
            "Zero ['ist', 'das', 'toms'] ['das']\n",
            "Zero ['sie', 'sind', 'brav'] ['sind']\n",
            "Zero ['ich', 'war', 'am', 'traumen'] ['war']\n",
            "Zero ['kann', 'ich', 'gehen'] ['ich']\n",
            "Zero ['ich', 'bin', 'dabei'] ['bin']\n",
            "Zero ['das', 'ist', 'gro', 'artig'] ['ist']\n",
            "Zero ['wir', 'sind', 'vorsichtig'] ['sind']\n",
            "Zero ['wir', 'sind', 'verruckt'] ['sind']\n",
            "Zero ['ist', 'tom', 'sich', 'sicher'] ['tom']\n",
            "Zero ['wir', 'sind', 'ungewohnlich'] ['sind']\n",
            "Zero ['ich', 'bin', 'im', 'auto'] ['bin']\n",
            "Zero ['tom', 'rulpste'] ['tom']\n",
            "Zero ['ich', 'bin', 'gerecht'] ['bin']\n",
            "Zero ['du', 'fahrst'] ['du']\n",
            "Zero ['tom', 'stand', 'auf'] ['tom']\n",
            "Zero ['ist', 'es', 'das'] ['das']\n",
            "Zero ['tom', 'ist', 'einverstanden'] ['tom']\n",
            "Zero ['gehort', 'das', 'tom'] ['das']\n",
            "Zero ['ich', 'bin', 'damit', 'durch'] ['bin']\n",
            "Zero ['hab', 'ich', 'nicht', 'recht'] ['ich']\n",
            "Zero ['ich', 'bin', 'drei', 'ig'] ['bin']\n",
            "Zero ['das', 'ist', 'geheim'] ['ist']\n",
            "Zero ['ich', 'bin', 'optimistisch'] ['bin']\n",
            "Zero ['ist', 'tom', 'schuldig'] ['tom']\n",
            "Zero ['bist', 'du', 'verletzt'] ['du']\n",
            "Zero ['ich', 'bin', 'hellwach'] ['bin']\n",
            "Zero ['stehe', 'ich', 'im', 'weg'] ['ich']\n",
            "Zero ['ich', 'bin', 'heute', 'beschaftigt'] ['bin']\n",
            "Zero ['tom', 'kam', 'hinterher'] ['tom']\n",
            "Zero ['ist', 'tom', 'da', 'drin'] ['tom']\n",
            "Zero ['ist', 'tom', 'verheiratet'] ['tom']\n",
            "Zero ['wir', 'kommen', 'zurecht'] ['wir']\n",
            "Zero ['nicht', 'in', 'panik', 'ausbrechen'] ['nicht']\n",
            "Zero ['das', 'ist', 'klug'] ['ist']\n",
            "Zero ['tom', 'ist', 'gesprungen'] ['tom']\n",
            "Zero ['wir', 'sind', 'verwirrt'] ['sind']\n",
            "Zero ['ist', 'tom', 'glucklich'] ['tom']\n",
            "Zero ['guckst', 'du'] ['du']\n",
            "Zero ['ich', 'werde', 'singen'] ['werde']\n",
            "Zero ['ist', 'tom', 'positiv'] ['tom']\n",
            "Zero ['das', 'ist', 'alles'] ['ist']\n",
            "Zero ['hatte', 'tom', 'viel', 'zu', 'tun'] ['tom']\n",
            "Zero ['tom', 'wird', 'anrufen'] ['tom']\n",
            "Zero ['wir', 'sind', 'dankbar'] ['sind']\n",
            "Zero ['tom', 'ist', 'verschwunden'] ['tom']\n",
            "Zero ['mach', 'dich', 'bereit'] ['dich']\n",
            "Zero ['tee', 'bitte'] ['bitte']\n",
            "Zero ['tom', 'ist', 'auf'] ['ist']\n",
            "Zero ['ist', 'tom', 'allein'] ['tom']\n",
            "Zero ['ist', 'das', 'gerecht'] ['das']\n",
            "Zero ['ist', 'er', 'tom'] ['tom']\n",
            "Zero ['er', 'ist', 'alleine'] ['ist']\n",
            "Zero ['hor', 'nicht', 'auf'] ['nicht']\n",
            "Zero ['tom', 'ist', 'gemein'] ['ist']\n",
            "Zero ['ich', 'bin', 'in', 'schwierigkeiten'] ['bin']\n",
            "Zero ['sie', 'sind', 'neu'] ['sind']\n",
            "Zero ['bist', 'du', 'okay'] ['du']\n",
            "Zero ['wir', 'sind', 'ins', 'stocken', 'geraten'] ['sind']\n",
            "Zero ['ist', 'er', 'amerikaner'] ['er']\n",
            "Zero ['ich', 'bin', 'verheiratet'] ['bin']\n",
            "Zero ['ich', 'bin', 'im', 'gefangnis'] ['bin']\n",
            "Zero ['das', 'ist', 'gro', 'artig'] ['ist']\n",
            "Zero ['du', 'hast', 'es', 'versprochen'] ['du']\n",
            "Zero ['du', 'fangst', 'an'] ['du']\n",
            "Zero ['ich', 'bin', 'uberzeugt'] ['bin']\n",
            "Zero ['das', 'ist', 'einfach'] ['ist']\n",
            "Zero ['wir', 'sind', 'sauber'] ['sind']\n",
            "Zero ['er', 'ist', 'gemein'] ['ist']\n",
            "Zero ['ich', 'bin', 'zu', 'hause'] ['bin']\n",
            "Zero ['das', 'ist', 'seltsam'] ['ist']\n",
            "Zero ['niemand', 'ist', 'gestorben'] ['ist']\n",
            "Zero ['sie', 'sind', 'gro'] ['sind']\n",
            "Zero ['ist', 'tom', 'schon', 'tot'] ['tom']\n",
            "Zero ['das', 'ist', 'besser'] ['ist']\n",
            "Zero ['ich', 'werde', 'reden'] ['werde']\n",
            "Zero ['ich', 'bin', 'bei', 'tom'] ['bin']\n",
            "Zero ['ist', 'tom', 'hier'] ['tom']\n",
            "Zero ['ich', 'werde', 'mich', 'beeilen'] ['werde']\n",
            "Zero ['ich', 'bin', 'hier', 'druben'] ['bin']\n",
            "Zero ['ich', 'war', 'zuhause'] ['war']\n",
            "Zero ['ich', 'war', 'beschaftigt'] ['war']\n"
          ],
          "name": "stdout"
        }
      ]
    },
    {
      "cell_type": "code",
      "metadata": {
        "id": "fDrvWISz2ESd",
        "colab": {
          "base_uri": "https://localhost:8080/",
          "height": 34
        },
        "outputId": "a46c3e99-1d21-44ed-fcde-101a2339b3ea"
      },
      "source": [
        "_bleu_scores_att = np.array(bleu_scores_att)\n",
        "print(\"Avg after Attention : \", _bleu_scores_att.mean())"
      ],
      "execution_count": null,
      "outputs": [
        {
          "output_type": "stream",
          "text": [
            "Avg after Attention :  62.04565930763136\n"
          ],
          "name": "stdout"
        }
      ]
    },
    {
      "cell_type": "code",
      "metadata": {
        "id": "g5F0Yk7AKXZ3"
      },
      "source": [
        ""
      ],
      "execution_count": null,
      "outputs": []
    },
    {
      "cell_type": "code",
      "metadata": {
        "id": "MDcfv74oMW9t"
      },
      "source": [
        ""
      ],
      "execution_count": null,
      "outputs": []
    },
    {
      "cell_type": "code",
      "metadata": {
        "id": "N-cXLcmGMbrv"
      },
      "source": [
        ""
      ],
      "execution_count": null,
      "outputs": []
    },
    {
      "cell_type": "code",
      "metadata": {
        "id": "-ceNCDWJy7JI"
      },
      "source": [
        ""
      ],
      "execution_count": null,
      "outputs": []
    },
    {
      "cell_type": "code",
      "metadata": {
        "id": "PF-6J4DOzVBk"
      },
      "source": [
        ""
      ],
      "execution_count": null,
      "outputs": []
    },
    {
      "cell_type": "code",
      "metadata": {
        "id": "b2l13HxD3nks"
      },
      "source": [
        ""
      ],
      "execution_count": null,
      "outputs": []
    }
  ]
}